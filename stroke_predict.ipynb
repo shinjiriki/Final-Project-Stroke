{
 "cells": [
  {
   "cell_type": "code",
   "execution_count": 122,
   "id": "closed-joining",
   "metadata": {},
   "outputs": [],
   "source": [
    "import pandas as pd\n",
    "import numpy as np\n",
    "import seaborn as sns\n",
    "import matplotlib.pyplot as plt\n",
    "from jupyterthemes import jtplot\n",
    "jtplot.style(theme = 'monokai', context = 'notebook',ticks=True, grid=False)\n",
    "import warnings\n",
    "warnings.filterwarnings('ignore')\n",
    "#models\n",
    "from sklearn.linear_model import LogisticRegression\n",
    "from sklearn.tree import DecisionTreeClassifier, plot_tree\n",
    "from sklearn.neighbors import KNeighborsClassifier\n",
    "#feature engineering\n",
    "from sklearn.impute import SimpleImputer\n",
    "from sklearn.pipeline import Pipeline\n",
    "from imblearn.pipeline import Pipeline\n",
    "from category_encoders import BinaryEncoder\n",
    "from sklearn.preprocessing import OneHotEncoder, PolynomialFeatures, RobustScaler, MinMaxScaler\n",
    "from sklearn.compose import ColumnTransformer\n",
    "from imblearn.over_sampling import SMOTE, RandomOverSampler\n",
    "from imblearn.under_sampling import RandomUnderSampler, NearMiss\n",
    "#evaluation\n",
    "from sklearn.model_selection import train_test_split, cross_val_score, GridSearchCV, StratifiedKFold\n",
    "from sklearn.metrics import confusion_matrix, f1_score, recall_score, precision_score, accuracy_score, classification_report, plot_precision_recall_curve, plot_roc_curve\n",
    "#saving models\n",
    "import pickle"
   ]
  },
  {
   "cell_type": "code",
   "execution_count": 2,
   "id": "piano-chart",
   "metadata": {},
   "outputs": [
    {
     "data": {
      "text/html": [
       "<div>\n",
       "<style scoped>\n",
       "    .dataframe tbody tr th:only-of-type {\n",
       "        vertical-align: middle;\n",
       "    }\n",
       "\n",
       "    .dataframe tbody tr th {\n",
       "        vertical-align: top;\n",
       "    }\n",
       "\n",
       "    .dataframe thead th {\n",
       "        text-align: right;\n",
       "    }\n",
       "</style>\n",
       "<table border=\"1\" class=\"dataframe\">\n",
       "  <thead>\n",
       "    <tr style=\"text-align: right;\">\n",
       "      <th></th>\n",
       "      <th>id</th>\n",
       "      <th>gender</th>\n",
       "      <th>age</th>\n",
       "      <th>hypertension</th>\n",
       "      <th>heart_disease</th>\n",
       "      <th>ever_married</th>\n",
       "      <th>work_type</th>\n",
       "      <th>Residence_type</th>\n",
       "      <th>avg_glucose_level</th>\n",
       "      <th>bmi</th>\n",
       "      <th>smoking_status</th>\n",
       "      <th>stroke</th>\n",
       "    </tr>\n",
       "  </thead>\n",
       "  <tbody>\n",
       "    <tr>\n",
       "      <th>0</th>\n",
       "      <td>9046</td>\n",
       "      <td>Male</td>\n",
       "      <td>67.0</td>\n",
       "      <td>0</td>\n",
       "      <td>1</td>\n",
       "      <td>Yes</td>\n",
       "      <td>Private</td>\n",
       "      <td>Urban</td>\n",
       "      <td>228.69</td>\n",
       "      <td>36.6</td>\n",
       "      <td>formerly smoked</td>\n",
       "      <td>1</td>\n",
       "    </tr>\n",
       "    <tr>\n",
       "      <th>1</th>\n",
       "      <td>51676</td>\n",
       "      <td>Female</td>\n",
       "      <td>61.0</td>\n",
       "      <td>0</td>\n",
       "      <td>0</td>\n",
       "      <td>Yes</td>\n",
       "      <td>Self-employed</td>\n",
       "      <td>Rural</td>\n",
       "      <td>202.21</td>\n",
       "      <td>NaN</td>\n",
       "      <td>never smoked</td>\n",
       "      <td>1</td>\n",
       "    </tr>\n",
       "    <tr>\n",
       "      <th>2</th>\n",
       "      <td>31112</td>\n",
       "      <td>Male</td>\n",
       "      <td>80.0</td>\n",
       "      <td>0</td>\n",
       "      <td>1</td>\n",
       "      <td>Yes</td>\n",
       "      <td>Private</td>\n",
       "      <td>Rural</td>\n",
       "      <td>105.92</td>\n",
       "      <td>32.5</td>\n",
       "      <td>never smoked</td>\n",
       "      <td>1</td>\n",
       "    </tr>\n",
       "    <tr>\n",
       "      <th>3</th>\n",
       "      <td>60182</td>\n",
       "      <td>Female</td>\n",
       "      <td>49.0</td>\n",
       "      <td>0</td>\n",
       "      <td>0</td>\n",
       "      <td>Yes</td>\n",
       "      <td>Private</td>\n",
       "      <td>Urban</td>\n",
       "      <td>171.23</td>\n",
       "      <td>34.4</td>\n",
       "      <td>smokes</td>\n",
       "      <td>1</td>\n",
       "    </tr>\n",
       "    <tr>\n",
       "      <th>4</th>\n",
       "      <td>1665</td>\n",
       "      <td>Female</td>\n",
       "      <td>79.0</td>\n",
       "      <td>1</td>\n",
       "      <td>0</td>\n",
       "      <td>Yes</td>\n",
       "      <td>Self-employed</td>\n",
       "      <td>Rural</td>\n",
       "      <td>174.12</td>\n",
       "      <td>24.0</td>\n",
       "      <td>never smoked</td>\n",
       "      <td>1</td>\n",
       "    </tr>\n",
       "    <tr>\n",
       "      <th>...</th>\n",
       "      <td>...</td>\n",
       "      <td>...</td>\n",
       "      <td>...</td>\n",
       "      <td>...</td>\n",
       "      <td>...</td>\n",
       "      <td>...</td>\n",
       "      <td>...</td>\n",
       "      <td>...</td>\n",
       "      <td>...</td>\n",
       "      <td>...</td>\n",
       "      <td>...</td>\n",
       "      <td>...</td>\n",
       "    </tr>\n",
       "    <tr>\n",
       "      <th>5105</th>\n",
       "      <td>18234</td>\n",
       "      <td>Female</td>\n",
       "      <td>80.0</td>\n",
       "      <td>1</td>\n",
       "      <td>0</td>\n",
       "      <td>Yes</td>\n",
       "      <td>Private</td>\n",
       "      <td>Urban</td>\n",
       "      <td>83.75</td>\n",
       "      <td>NaN</td>\n",
       "      <td>never smoked</td>\n",
       "      <td>0</td>\n",
       "    </tr>\n",
       "    <tr>\n",
       "      <th>5106</th>\n",
       "      <td>44873</td>\n",
       "      <td>Female</td>\n",
       "      <td>81.0</td>\n",
       "      <td>0</td>\n",
       "      <td>0</td>\n",
       "      <td>Yes</td>\n",
       "      <td>Self-employed</td>\n",
       "      <td>Urban</td>\n",
       "      <td>125.20</td>\n",
       "      <td>40.0</td>\n",
       "      <td>never smoked</td>\n",
       "      <td>0</td>\n",
       "    </tr>\n",
       "    <tr>\n",
       "      <th>5107</th>\n",
       "      <td>19723</td>\n",
       "      <td>Female</td>\n",
       "      <td>35.0</td>\n",
       "      <td>0</td>\n",
       "      <td>0</td>\n",
       "      <td>Yes</td>\n",
       "      <td>Self-employed</td>\n",
       "      <td>Rural</td>\n",
       "      <td>82.99</td>\n",
       "      <td>30.6</td>\n",
       "      <td>never smoked</td>\n",
       "      <td>0</td>\n",
       "    </tr>\n",
       "    <tr>\n",
       "      <th>5108</th>\n",
       "      <td>37544</td>\n",
       "      <td>Male</td>\n",
       "      <td>51.0</td>\n",
       "      <td>0</td>\n",
       "      <td>0</td>\n",
       "      <td>Yes</td>\n",
       "      <td>Private</td>\n",
       "      <td>Rural</td>\n",
       "      <td>166.29</td>\n",
       "      <td>25.6</td>\n",
       "      <td>formerly smoked</td>\n",
       "      <td>0</td>\n",
       "    </tr>\n",
       "    <tr>\n",
       "      <th>5109</th>\n",
       "      <td>44679</td>\n",
       "      <td>Female</td>\n",
       "      <td>44.0</td>\n",
       "      <td>0</td>\n",
       "      <td>0</td>\n",
       "      <td>Yes</td>\n",
       "      <td>Govt_job</td>\n",
       "      <td>Urban</td>\n",
       "      <td>85.28</td>\n",
       "      <td>26.2</td>\n",
       "      <td>Unknown</td>\n",
       "      <td>0</td>\n",
       "    </tr>\n",
       "  </tbody>\n",
       "</table>\n",
       "<p>5110 rows × 12 columns</p>\n",
       "</div>"
      ],
      "text/plain": [
       "         id  gender   age  hypertension  heart_disease ever_married  \\\n",
       "0      9046    Male  67.0             0              1          Yes   \n",
       "1     51676  Female  61.0             0              0          Yes   \n",
       "2     31112    Male  80.0             0              1          Yes   \n",
       "3     60182  Female  49.0             0              0          Yes   \n",
       "4      1665  Female  79.0             1              0          Yes   \n",
       "...     ...     ...   ...           ...            ...          ...   \n",
       "5105  18234  Female  80.0             1              0          Yes   \n",
       "5106  44873  Female  81.0             0              0          Yes   \n",
       "5107  19723  Female  35.0             0              0          Yes   \n",
       "5108  37544    Male  51.0             0              0          Yes   \n",
       "5109  44679  Female  44.0             0              0          Yes   \n",
       "\n",
       "          work_type Residence_type  avg_glucose_level   bmi   smoking_status  \\\n",
       "0           Private          Urban             228.69  36.6  formerly smoked   \n",
       "1     Self-employed          Rural             202.21   NaN     never smoked   \n",
       "2           Private          Rural             105.92  32.5     never smoked   \n",
       "3           Private          Urban             171.23  34.4           smokes   \n",
       "4     Self-employed          Rural             174.12  24.0     never smoked   \n",
       "...             ...            ...                ...   ...              ...   \n",
       "5105        Private          Urban              83.75   NaN     never smoked   \n",
       "5106  Self-employed          Urban             125.20  40.0     never smoked   \n",
       "5107  Self-employed          Rural              82.99  30.6     never smoked   \n",
       "5108        Private          Rural             166.29  25.6  formerly smoked   \n",
       "5109       Govt_job          Urban              85.28  26.2          Unknown   \n",
       "\n",
       "      stroke  \n",
       "0          1  \n",
       "1          1  \n",
       "2          1  \n",
       "3          1  \n",
       "4          1  \n",
       "...      ...  \n",
       "5105       0  \n",
       "5106       0  \n",
       "5107       0  \n",
       "5108       0  \n",
       "5109       0  \n",
       "\n",
       "[5110 rows x 12 columns]"
      ]
     },
     "execution_count": 2,
     "metadata": {},
     "output_type": "execute_result"
    }
   ],
   "source": [
    "df = pd.read_csv('healthcare-dataset-stroke-data.csv')\n",
    "df"
   ]
  },
  {
   "cell_type": "markdown",
   "id": "mounted-stake",
   "metadata": {},
   "source": [
    "# Metrics Selection\n",
    "    \n",
    "    TP : If the model predict stroke, and actual is stroke : early treatment to prevent stroke\n",
    "    TN : If the model predict false stroke, and actual is false stroke : safe\n",
    "    FP : If the model predict stroke, but actual is false stroke : panic\n",
    "    FN : If the model predict false stroke, but actual is stroke : stroke because not getting \n",
    "    an early treatment\n",
    "    \n",
    "Here I want to focus more on preveting FN, which means I will be using Recall"
   ]
  },
  {
   "cell_type": "code",
   "execution_count": 3,
   "id": "foster-hampshire",
   "metadata": {},
   "outputs": [
    {
     "data": {
      "text/plain": [
       "id                   0.00\n",
       "gender               0.00\n",
       "age                  0.00\n",
       "hypertension         0.00\n",
       "heart_disease        0.00\n",
       "ever_married         0.00\n",
       "work_type            0.00\n",
       "Residence_type       0.00\n",
       "avg_glucose_level    0.00\n",
       "bmi                  3.93\n",
       "smoking_status       0.00\n",
       "stroke               0.00\n",
       "dtype: float64"
      ]
     },
     "execution_count": 3,
     "metadata": {},
     "output_type": "execute_result"
    }
   ],
   "source": [
    "round(df.isna().sum()/len(df.index)*100, 2)"
   ]
  },
  {
   "cell_type": "code",
   "execution_count": 4,
   "id": "accepted-accident",
   "metadata": {},
   "outputs": [],
   "source": [
    "df.drop(['id'], axis = 1, inplace = True)"
   ]
  },
  {
   "cell_type": "code",
   "execution_count": 5,
   "id": "european-wedding",
   "metadata": {},
   "outputs": [],
   "source": [
    "df.drop(df.loc[df['gender']=='Other'].index, inplace=True)"
   ]
  },
  {
   "cell_type": "code",
   "execution_count": 6,
   "id": "visible-ceiling",
   "metadata": {},
   "outputs": [],
   "source": [
    "x = df.drop(['stroke'], axis = 1)\n",
    "y = df['stroke']"
   ]
  },
  {
   "cell_type": "code",
   "execution_count": 7,
   "id": "crude-renaissance",
   "metadata": {},
   "outputs": [],
   "source": [
    "x_train, x_test, y_train, y_test = train_test_split(x, y, test_size = 0.3, stratify = y, random_state = 2021)"
   ]
  },
  {
   "cell_type": "markdown",
   "id": "matched-subscriber",
   "metadata": {},
   "source": [
    "# Model Selection\n",
    "\n",
    "    DecisionTree\n",
    "    Logistric Regression\n",
    "    KNN"
   ]
  },
  {
   "cell_type": "markdown",
   "id": "geological-humor",
   "metadata": {},
   "source": [
    "    I will be making 2 different transformer base on the way I fill the missing values in BMI \n",
    "    which will be mean and median"
   ]
  },
  {
   "cell_type": "markdown",
   "id": "precious-evolution",
   "metadata": {},
   "source": [
    "# Data Preprocessing"
   ]
  },
  {
   "cell_type": "code",
   "execution_count": 8,
   "id": "tough-pennsylvania",
   "metadata": {},
   "outputs": [],
   "source": [
    "one_hot = OneHotEncoder(drop = 'first')\n",
    "binary = BinaryEncoder()\n",
    "imputer_mean = SimpleImputer(strategy = 'mean')\n",
    "imputer_medi = SimpleImputer(strategy = 'median')\n",
    "\n",
    "#MEAN IMPUTER\n",
    "transformer_mean = ColumnTransformer([\n",
    "    ('One Hot', one_hot, ['gender','ever_married','Residence_type']),\n",
    "    ('Binary', binary, ['work_type','smoking_status']),\n",
    "    ('Simple Imputer', imputer_mean, ['bmi'])\n",
    "], remainder = 'passthrough')\n",
    "\n",
    "#MEDIAN IMPUTER\n",
    "transformer_medi = ColumnTransformer([\n",
    "    ('One Hot', one_hot, ['gender','ever_married','Residence_type']),\n",
    "    ('Binary', binary, ['work_type','smoking_status']),\n",
    "    ('Simple Imputer', imputer_medi, ['bmi'])\n",
    "], remainder = 'passthrough')"
   ]
  },
  {
   "cell_type": "markdown",
   "id": "stunning-porcelain",
   "metadata": {},
   "source": [
    "# SETUP MODELS(DEFAULT)"
   ]
  },
  {
   "cell_type": "code",
   "execution_count": 9,
   "id": "choice-rider",
   "metadata": {},
   "outputs": [],
   "source": [
    "logreg = LogisticRegression(solver = 'liblinear')\n",
    "tree = DecisionTreeClassifier(random_state = 2021)\n",
    "knn = KNeighborsClassifier()"
   ]
  },
  {
   "cell_type": "markdown",
   "id": "automated-jewelry",
   "metadata": {},
   "source": [
    "# TEST MODEL WITH MEAN IMPUTER"
   ]
  },
  {
   "cell_type": "code",
   "execution_count": 10,
   "id": "floppy-corrections",
   "metadata": {},
   "outputs": [
    {
     "name": "stdout",
     "output_type": "stream",
     "text": [
      "              precision    recall  f1-score   support\n",
      "\n",
      "           0       0.96      0.94      0.95      1458\n",
      "           1       0.14      0.17      0.15        75\n",
      "\n",
      "    accuracy                           0.91      1533\n",
      "   macro avg       0.55      0.56      0.55      1533\n",
      "weighted avg       0.92      0.91      0.91      1533\n",
      "\n"
     ]
    }
   ],
   "source": [
    "estimatortree = Pipeline([\n",
    "    ('transformer', transformer_mean),\n",
    "    ('model', tree)])\n",
    "estimatortree.fit(x_train, y_train)\n",
    "y_pred = estimatortree.predict(x_test)\n",
    "print(classification_report(y_test, y_pred))"
   ]
  },
  {
   "cell_type": "code",
   "execution_count": 11,
   "id": "bizarre-print",
   "metadata": {},
   "outputs": [
    {
     "name": "stdout",
     "output_type": "stream",
     "text": [
      "              precision    recall  f1-score   support\n",
      "\n",
      "           0       0.95      0.99      0.97      1458\n",
      "           1       0.07      0.01      0.02        75\n",
      "\n",
      "    accuracy                           0.94      1533\n",
      "   macro avg       0.51      0.50      0.50      1533\n",
      "weighted avg       0.91      0.94      0.92      1533\n",
      "\n"
     ]
    }
   ],
   "source": [
    "estimatorknn = Pipeline([\n",
    "    ('transformer', transformer_mean),\n",
    "    ('model', knn)])\n",
    "estimatorknn.fit(x_train, y_train)\n",
    "y_pred = estimatorknn.predict(x_test)\n",
    "print(classification_report(y_test, y_pred))"
   ]
  },
  {
   "cell_type": "code",
   "execution_count": 12,
   "id": "three-september",
   "metadata": {},
   "outputs": [
    {
     "name": "stdout",
     "output_type": "stream",
     "text": [
      "              precision    recall  f1-score   support\n",
      "\n",
      "           0       0.95      1.00      0.97      1458\n",
      "           1       0.00      0.00      0.00        75\n",
      "\n",
      "    accuracy                           0.95      1533\n",
      "   macro avg       0.48      0.50      0.49      1533\n",
      "weighted avg       0.90      0.95      0.93      1533\n",
      "\n"
     ]
    }
   ],
   "source": [
    "estimatorlogreg = Pipeline([\n",
    "    ('transformer', transformer_mean),\n",
    "    ('model', logreg)])\n",
    "estimatorlogreg.fit(x_train, y_train)\n",
    "y_pred = estimatorlogreg.predict(x_test)\n",
    "print(classification_report(y_test, y_pred))"
   ]
  },
  {
   "cell_type": "markdown",
   "id": "offensive-pacific",
   "metadata": {},
   "source": [
    "# TEST MODEL WITH MEDIAN"
   ]
  },
  {
   "cell_type": "code",
   "execution_count": 13,
   "id": "random-decline",
   "metadata": {},
   "outputs": [
    {
     "name": "stdout",
     "output_type": "stream",
     "text": [
      "              precision    recall  f1-score   support\n",
      "\n",
      "           0       0.96      0.95      0.95      1458\n",
      "           1       0.15      0.19      0.17        75\n",
      "\n",
      "    accuracy                           0.91      1533\n",
      "   macro avg       0.55      0.57      0.56      1533\n",
      "weighted avg       0.92      0.91      0.91      1533\n",
      "\n"
     ]
    }
   ],
   "source": [
    "estimatortree = Pipeline([\n",
    "    ('transformer', transformer_medi),\n",
    "    ('model', tree)])\n",
    "estimatortree.fit(x_train, y_train)\n",
    "y_pred = estimatortree.predict(x_test)\n",
    "print(classification_report(y_test, y_pred))"
   ]
  },
  {
   "cell_type": "code",
   "execution_count": 14,
   "id": "married-discharge",
   "metadata": {},
   "outputs": [
    {
     "name": "stdout",
     "output_type": "stream",
     "text": [
      "              precision    recall  f1-score   support\n",
      "\n",
      "           0       0.95      0.99      0.97      1458\n",
      "           1       0.07      0.01      0.02        75\n",
      "\n",
      "    accuracy                           0.94      1533\n",
      "   macro avg       0.51      0.50      0.50      1533\n",
      "weighted avg       0.91      0.94      0.92      1533\n",
      "\n"
     ]
    }
   ],
   "source": [
    "estimatorknn = Pipeline([\n",
    "    ('transformer', transformer_medi),\n",
    "    ('model', knn)])\n",
    "estimatorknn.fit(x_train, y_train)\n",
    "y_pred = estimatorknn.predict(x_test)\n",
    "print(classification_report(y_test, y_pred))"
   ]
  },
  {
   "cell_type": "code",
   "execution_count": 15,
   "id": "consecutive-medline",
   "metadata": {},
   "outputs": [
    {
     "name": "stdout",
     "output_type": "stream",
     "text": [
      "              precision    recall  f1-score   support\n",
      "\n",
      "           0       0.95      1.00      0.97      1458\n",
      "           1       0.00      0.00      0.00        75\n",
      "\n",
      "    accuracy                           0.95      1533\n",
      "   macro avg       0.48      0.50      0.49      1533\n",
      "weighted avg       0.90      0.95      0.93      1533\n",
      "\n"
     ]
    }
   ],
   "source": [
    "estimatorlogreg = Pipeline([\n",
    "    ('transformer', transformer_medi),\n",
    "    ('model', logreg)])\n",
    "estimatorlogreg.fit(x_train, y_train)\n",
    "y_pred = estimatorlogreg.predict(x_test)\n",
    "print(classification_report(y_test, y_pred))"
   ]
  },
  {
   "cell_type": "markdown",
   "id": "excited-segment",
   "metadata": {},
   "source": [
    "# CROSSVALIDATE MEAN AND MEDIAN TO SEE WHICH IS BETTER"
   ]
  },
  {
   "cell_type": "markdown",
   "id": "derived-occasion",
   "metadata": {},
   "source": [
    "CROSSVALIDATE MEAN FUNCTION"
   ]
  },
  {
   "cell_type": "code",
   "execution_count": 16,
   "id": "driven-validation",
   "metadata": {},
   "outputs": [],
   "source": [
    "def model_evaluation_cv_mean(model):\n",
    "    skfold = StratifiedKFold(n_splits = 5)\n",
    "    estimator = Pipeline([\n",
    "    ('preprocess', transformer_mean),\n",
    "    ('model', model)\n",
    "])\n",
    "    model_cv = cross_val_score(estimator, x_train, y_train, scoring = 'recall', cv = skfold)\n",
    "    return model_cv"
   ]
  },
  {
   "cell_type": "markdown",
   "id": "improved-programming",
   "metadata": {},
   "source": [
    "CROSSVALIDATE MEDIAN FUNCTION"
   ]
  },
  {
   "cell_type": "code",
   "execution_count": 17,
   "id": "grand-guatemala",
   "metadata": {},
   "outputs": [],
   "source": [
    "def model_evaluation_cv_medi(model):\n",
    "    skfold = StratifiedKFold(n_splits = 5)\n",
    "    estimator = Pipeline([\n",
    "    ('preprocess', transformer_medi),\n",
    "    ('model', model)\n",
    "])\n",
    "    model_cv = cross_val_score(estimator, x_train, y_train, scoring = 'recall', cv = skfold)\n",
    "    return model_cv"
   ]
  },
  {
   "cell_type": "code",
   "execution_count": 18,
   "id": "victorian-shopper",
   "metadata": {},
   "outputs": [],
   "source": [
    "def print_result(model_cv):\n",
    "    print('score : ', model_cv)\n",
    "    print('mean score : ', model_cv.mean())\n",
    "    print('std score : ', model_cv.std())"
   ]
  },
  {
   "cell_type": "markdown",
   "id": "informed-execution",
   "metadata": {},
   "source": [
    "CROSSVALIDATE TREE WITH MEDIAN AND MEAN"
   ]
  },
  {
   "cell_type": "code",
   "execution_count": 19,
   "id": "martial-relation",
   "metadata": {},
   "outputs": [
    {
     "name": "stdout",
     "output_type": "stream",
     "text": [
      "score :  [0.22857143 0.26470588 0.17142857 0.11428571 0.17142857]\n",
      "mean score :  0.19008403361344542\n",
      "std score :  0.0519444657909256\n"
     ]
    }
   ],
   "source": [
    "model_cv = model_evaluation_cv_mean(tree)\n",
    "print_result(model_cv)"
   ]
  },
  {
   "cell_type": "code",
   "execution_count": 20,
   "id": "norwegian-alarm",
   "metadata": {},
   "outputs": [
    {
     "name": "stdout",
     "output_type": "stream",
     "text": [
      "score :  [0.22857143 0.17647059 0.2        0.11428571 0.17142857]\n",
      "mean score :  0.17815126050420171\n",
      "std score :  0.0378057878292504\n"
     ]
    }
   ],
   "source": [
    "model_cv = model_evaluation_cv_medi(tree)\n",
    "print_result(model_cv)"
   ]
  },
  {
   "cell_type": "markdown",
   "id": "incorrect-meaning",
   "metadata": {},
   "source": [
    "CROSSVALIDATE KNN WITH MEAN AND MEDIAN"
   ]
  },
  {
   "cell_type": "code",
   "execution_count": 21,
   "id": "adequate-springfield",
   "metadata": {},
   "outputs": [
    {
     "name": "stdout",
     "output_type": "stream",
     "text": [
      "score :  [0.         0.02941176 0.02857143 0.         0.05714286]\n",
      "mean score :  0.023025210084033614\n",
      "std score :  0.021428406656146863\n"
     ]
    }
   ],
   "source": [
    "model_cv = model_evaluation_cv_mean(knn)\n",
    "print_result(model_cv)"
   ]
  },
  {
   "cell_type": "code",
   "execution_count": 22,
   "id": "cardiovascular-shannon",
   "metadata": {},
   "outputs": [
    {
     "name": "stdout",
     "output_type": "stream",
     "text": [
      "score :  [0.         0.         0.         0.         0.05714286]\n",
      "mean score :  0.011428571428571429\n",
      "std score :  0.022857142857142857\n"
     ]
    }
   ],
   "source": [
    "model_cv = model_evaluation_cv_medi(knn)\n",
    "print_result(model_cv)"
   ]
  },
  {
   "cell_type": "markdown",
   "id": "infectious-pennsylvania",
   "metadata": {},
   "source": [
    "CROSSVALIDATE LOGREG WITH MEDIAN AND MEAN"
   ]
  },
  {
   "cell_type": "code",
   "execution_count": 23,
   "id": "molecular-dating",
   "metadata": {},
   "outputs": [
    {
     "name": "stdout",
     "output_type": "stream",
     "text": [
      "score :  [0. 0. 0. 0. 0.]\n",
      "mean score :  0.0\n",
      "std score :  0.0\n"
     ]
    }
   ],
   "source": [
    "model_cv = model_evaluation_cv_mean(logreg)\n",
    "print_result(model_cv)"
   ]
  },
  {
   "cell_type": "code",
   "execution_count": 24,
   "id": "indian-connectivity",
   "metadata": {},
   "outputs": [
    {
     "name": "stdout",
     "output_type": "stream",
     "text": [
      "score :  [0. 0. 0. 0. 0.]\n",
      "mean score :  0.0\n",
      "std score :  0.0\n"
     ]
    }
   ],
   "source": [
    "model_cv = model_evaluation_cv_medi(logreg)\n",
    "print_result(model_cv)"
   ]
  },
  {
   "cell_type": "markdown",
   "id": "strange-camera",
   "metadata": {},
   "source": [
    "# Conclusion for which imputer suits best? Median or Mean\n",
    "\n",
    "    Impute the missing values by Mean is better than Median. Eventhough the data is pretty skewed which mean\n",
    "    I should be using median instead, but as a performance, using Mean is much better than Median, and so\n",
    "    I will be using Mean."
   ]
  },
  {
   "cell_type": "markdown",
   "id": "yellow-aircraft",
   "metadata": {},
   "source": [
    "# Resampling\n",
    "    \n",
    "    The difference(in quantity) between target 1 and 0 is quite huge. \n",
    "    And that might be the reason why the model performance is really low\n",
    "    Target 1 : 1458 and Target 0 : 75. Split-test : 0.3\n",
    "    Which is why resampling is needed"
   ]
  },
  {
   "cell_type": "markdown",
   "id": "extraordinary-hurricane",
   "metadata": {},
   "source": [
    "# List of resampling method"
   ]
  },
  {
   "cell_type": "code",
   "execution_count": 25,
   "id": "tired-falls",
   "metadata": {},
   "outputs": [],
   "source": [
    "randomover = RandomOverSampler(random_state = 2021)\n",
    "randomunder = RandomUnderSampler(random_state = 2021)\n",
    "smote = SMOTE(random_state = 2021)\n",
    "nearmiss = NearMiss()"
   ]
  },
  {
   "cell_type": "markdown",
   "id": "approved-barrel",
   "metadata": {},
   "source": [
    "Crossvalidate using Random Over Function"
   ]
  },
  {
   "cell_type": "code",
   "execution_count": 26,
   "id": "collectible-punishment",
   "metadata": {},
   "outputs": [],
   "source": [
    "def model_evaluation_cv_mean_over(model):\n",
    "    skfold = StratifiedKFold(n_splits = 5)\n",
    "    estimator = Pipeline([\n",
    "    ('preprocess', transformer_mean),\n",
    "    ('balancing', randomover),\n",
    "    ('model', model)\n",
    "])\n",
    "    model_cv = cross_val_score(estimator, x_train, y_train, scoring = 'recall', cv = skfold)\n",
    "    return model_cv"
   ]
  },
  {
   "cell_type": "markdown",
   "id": "dominant-qualification",
   "metadata": {},
   "source": [
    "Crossvalidate using Random Under Function"
   ]
  },
  {
   "cell_type": "code",
   "execution_count": 27,
   "id": "stunning-cruise",
   "metadata": {},
   "outputs": [],
   "source": [
    "def model_evaluation_cv_mean_under(model):\n",
    "    skfold = StratifiedKFold(n_splits = 5)\n",
    "    estimator = Pipeline([\n",
    "    ('preprocess', transformer_mean),\n",
    "    ('balancing', randomunder),\n",
    "    ('model', model)\n",
    "])\n",
    "    model_cv = cross_val_score(estimator, x_train, y_train, scoring = 'recall', cv = skfold)\n",
    "    return model_cv"
   ]
  },
  {
   "cell_type": "markdown",
   "id": "public-canadian",
   "metadata": {},
   "source": [
    "Crossvalidate using SMOTE Function"
   ]
  },
  {
   "cell_type": "code",
   "execution_count": 28,
   "id": "advance-atlas",
   "metadata": {},
   "outputs": [],
   "source": [
    "def model_evaluation_cv_mean_smote(model):\n",
    "    skfold = StratifiedKFold(n_splits = 5)\n",
    "    estimator = Pipeline([\n",
    "    ('preprocess', transformer_mean),\n",
    "    ('balancing', smote),\n",
    "    ('model', model)\n",
    "])\n",
    "    model_cv = cross_val_score(estimator, x_train, y_train, scoring = 'recall', cv = skfold)\n",
    "    return model_cv"
   ]
  },
  {
   "cell_type": "markdown",
   "id": "turkish-foster",
   "metadata": {},
   "source": [
    "Crossvalidate using NEARMISS Function"
   ]
  },
  {
   "cell_type": "code",
   "execution_count": 29,
   "id": "dental-campaign",
   "metadata": {},
   "outputs": [],
   "source": [
    "def model_evaluation_cv_mean_near(model):\n",
    "    skfold = StratifiedKFold(n_splits = 5)\n",
    "    estimator = Pipeline([\n",
    "    ('preprocess', transformer_mean),\n",
    "    ('balancing', nearmiss),\n",
    "    ('model', model)\n",
    "])\n",
    "    model_cv = cross_val_score(estimator, x_train, y_train, scoring = 'recall', cv = skfold)\n",
    "    return model_cv"
   ]
  },
  {
   "cell_type": "markdown",
   "id": "weekly-botswana",
   "metadata": {},
   "source": [
    "# RESAMPLING RESULT FOR TREE"
   ]
  },
  {
   "cell_type": "code",
   "execution_count": 30,
   "id": "understood-toyota",
   "metadata": {},
   "outputs": [
    {
     "name": "stdout",
     "output_type": "stream",
     "text": [
      "score :  [0.08571429 0.26470588 0.02857143 0.11428571 0.05714286]\n",
      "mean score :  0.11008403361344536\n",
      "std score :  0.08242151149740658\n"
     ]
    }
   ],
   "source": [
    "model_cv = model_evaluation_cv_mean_over(tree)\n",
    "print_result(model_cv)"
   ]
  },
  {
   "cell_type": "code",
   "execution_count": 31,
   "id": "tribal-serbia",
   "metadata": {},
   "outputs": [
    {
     "name": "stdout",
     "output_type": "stream",
     "text": [
      "score :  [0.65714286 0.55882353 0.71428571 0.71428571 0.77142857]\n",
      "mean score :  0.6831932773109244\n",
      "std score :  0.07192413362081414\n"
     ]
    }
   ],
   "source": [
    "model_cv = model_evaluation_cv_mean_under(tree)\n",
    "print_result(model_cv)"
   ]
  },
  {
   "cell_type": "code",
   "execution_count": 32,
   "id": "french-columbus",
   "metadata": {},
   "outputs": [
    {
     "name": "stdout",
     "output_type": "stream",
     "text": [
      "score :  [0.2        0.17647059 0.11428571 0.11428571 0.2       ]\n",
      "mean score :  0.16100840336134453\n",
      "std score :  0.03910444406165481\n"
     ]
    }
   ],
   "source": [
    "model_cv = model_evaluation_cv_mean_smote(tree)\n",
    "print_result(model_cv)"
   ]
  },
  {
   "cell_type": "code",
   "execution_count": 33,
   "id": "pending-circular",
   "metadata": {},
   "outputs": [
    {
     "name": "stdout",
     "output_type": "stream",
     "text": [
      "score :  [0.74285714 0.79411765 0.74285714 0.68571429 0.77142857]\n",
      "mean score :  0.7473949579831933\n",
      "std score :  0.036349176368882644\n"
     ]
    }
   ],
   "source": [
    "model_cv = model_evaluation_cv_mean_near(tree)\n",
    "print_result(model_cv)"
   ]
  },
  {
   "cell_type": "markdown",
   "id": "allied-avatar",
   "metadata": {},
   "source": [
    "BEST SCORE GOES TO NEARMISS SCORE : 0.7473"
   ]
  },
  {
   "cell_type": "markdown",
   "id": "changing-visiting",
   "metadata": {},
   "source": [
    "# RESAMPLING RESULT FOR LOGREG"
   ]
  },
  {
   "cell_type": "code",
   "execution_count": 34,
   "id": "established-removal",
   "metadata": {},
   "outputs": [
    {
     "name": "stdout",
     "output_type": "stream",
     "text": [
      "score :  [0.71428571 0.79411765 0.68571429 0.88571429 0.82857143]\n",
      "mean score :  0.7816806722689076\n",
      "std score :  0.07338670425214266\n"
     ]
    }
   ],
   "source": [
    "model_cv = model_evaluation_cv_mean_over(logreg)\n",
    "print_result(model_cv)"
   ]
  },
  {
   "cell_type": "code",
   "execution_count": 35,
   "id": "sporting-canyon",
   "metadata": {},
   "outputs": [
    {
     "name": "stdout",
     "output_type": "stream",
     "text": [
      "score :  [0.77142857 0.76470588 0.74285714 0.8        0.77142857]\n",
      "mean score :  0.7700840336134454\n",
      "std score :  0.018269147215732705\n"
     ]
    }
   ],
   "source": [
    "model_cv = model_evaluation_cv_mean_under(logreg)\n",
    "print_result(model_cv)"
   ]
  },
  {
   "cell_type": "code",
   "execution_count": 36,
   "id": "entitled-burner",
   "metadata": {},
   "outputs": [
    {
     "name": "stdout",
     "output_type": "stream",
     "text": [
      "score :  [0.74285714 0.79411765 0.68571429 0.88571429 0.82857143]\n",
      "mean score :  0.7873949579831934\n",
      "std score :  0.06889116427128314\n"
     ]
    }
   ],
   "source": [
    "model_cv = model_evaluation_cv_mean_smote(logreg)\n",
    "print_result(model_cv)"
   ]
  },
  {
   "cell_type": "code",
   "execution_count": 37,
   "id": "quarterly-amount",
   "metadata": {},
   "outputs": [
    {
     "name": "stdout",
     "output_type": "stream",
     "text": [
      "score :  [0.6        0.70588235 0.51428571 0.6        0.54285714]\n",
      "mean score :  0.5926050420168066\n",
      "std score :  0.06565042352407652\n"
     ]
    }
   ],
   "source": [
    "model_cv = model_evaluation_cv_mean_near(logreg)\n",
    "print_result(model_cv)"
   ]
  },
  {
   "cell_type": "markdown",
   "id": "moving-suicide",
   "metadata": {},
   "source": [
    "BEST SCORE GOES TO SMOTE : 0.7873"
   ]
  },
  {
   "cell_type": "markdown",
   "id": "macro-fellowship",
   "metadata": {},
   "source": [
    "# RESAMPLING RESULT FOR KNN"
   ]
  },
  {
   "cell_type": "code",
   "execution_count": 38,
   "id": "confirmed-vulnerability",
   "metadata": {},
   "outputs": [
    {
     "name": "stdout",
     "output_type": "stream",
     "text": [
      "score :  [0.37142857 0.32352941 0.31428571 0.42857143 0.31428571]\n",
      "mean score :  0.35042016806722687\n",
      "std score :  0.04446005579143296\n"
     ]
    }
   ],
   "source": [
    "model_cv = model_evaluation_cv_mean_over(knn)\n",
    "print_result(model_cv)"
   ]
  },
  {
   "cell_type": "code",
   "execution_count": 39,
   "id": "separated-mirror",
   "metadata": {},
   "outputs": [
    {
     "name": "stdout",
     "output_type": "stream",
     "text": [
      "score :  [0.8        0.85294118 0.8        0.82857143 0.82857143]\n",
      "mean score :  0.8220168067226892\n",
      "std score :  0.020058526047510152\n"
     ]
    }
   ],
   "source": [
    "model_cv = model_evaluation_cv_mean_under(knn)\n",
    "print_result(model_cv)"
   ]
  },
  {
   "cell_type": "code",
   "execution_count": 40,
   "id": "greenhouse-toner",
   "metadata": {},
   "outputs": [
    {
     "name": "stdout",
     "output_type": "stream",
     "text": [
      "score :  [0.45714286 0.47058824 0.57142857 0.57142857 0.45714286]\n",
      "mean score :  0.5055462184873949\n",
      "std score :  0.05401629425640515\n"
     ]
    }
   ],
   "source": [
    "model_cv = model_evaluation_cv_mean_smote(knn)\n",
    "print_result(model_cv)"
   ]
  },
  {
   "cell_type": "code",
   "execution_count": 41,
   "id": "looking-medline",
   "metadata": {},
   "outputs": [
    {
     "name": "stdout",
     "output_type": "stream",
     "text": [
      "score :  [0.51428571 0.70588235 0.48571429 0.62857143 0.65714286]\n",
      "mean score :  0.5983193277310924\n",
      "std score :  0.084482832914563\n"
     ]
    }
   ],
   "source": [
    "model_cv = model_evaluation_cv_mean_near(knn)\n",
    "print_result(model_cv)"
   ]
  },
  {
   "cell_type": "markdown",
   "id": "dangerous-miller",
   "metadata": {},
   "source": [
    "BEST SCORE GOES TO randomunder : 0.8220"
   ]
  },
  {
   "cell_type": "markdown",
   "id": "unlimited-injection",
   "metadata": {},
   "source": [
    "# QUICK FUNCTION FOR CROSSVALIDATE OVERALL MODELS"
   ]
  },
  {
   "cell_type": "code",
   "execution_count": 42,
   "id": "composite-egyptian",
   "metadata": {},
   "outputs": [
    {
     "data": {
      "text/html": [
       "<div>\n",
       "<style scoped>\n",
       "    .dataframe tbody tr th:only-of-type {\n",
       "        vertical-align: middle;\n",
       "    }\n",
       "\n",
       "    .dataframe tbody tr th {\n",
       "        vertical-align: top;\n",
       "    }\n",
       "\n",
       "    .dataframe thead th {\n",
       "        text-align: right;\n",
       "    }\n",
       "</style>\n",
       "<table border=\"1\" class=\"dataframe\">\n",
       "  <thead>\n",
       "    <tr style=\"text-align: right;\">\n",
       "      <th></th>\n",
       "      <th>Model</th>\n",
       "      <th>randomunder</th>\n",
       "      <th>randomover</th>\n",
       "      <th>smote</th>\n",
       "      <th>nearmiss</th>\n",
       "    </tr>\n",
       "  </thead>\n",
       "  <tbody>\n",
       "    <tr>\n",
       "      <th>0</th>\n",
       "      <td>logreg</td>\n",
       "      <td>0.77</td>\n",
       "      <td>0.78</td>\n",
       "      <td>0.79</td>\n",
       "      <td>0.59</td>\n",
       "    </tr>\n",
       "    <tr>\n",
       "      <th>1</th>\n",
       "      <td>tree</td>\n",
       "      <td>0.68</td>\n",
       "      <td>0.11</td>\n",
       "      <td>0.16</td>\n",
       "      <td>0.75</td>\n",
       "    </tr>\n",
       "    <tr>\n",
       "      <th>2</th>\n",
       "      <td>knn</td>\n",
       "      <td>0.82</td>\n",
       "      <td>0.35</td>\n",
       "      <td>0.51</td>\n",
       "      <td>0.60</td>\n",
       "    </tr>\n",
       "  </tbody>\n",
       "</table>\n",
       "</div>"
      ],
      "text/plain": [
       "    Model  randomunder  randomover  smote  nearmiss\n",
       "0  logreg         0.77        0.78   0.79      0.59\n",
       "1    tree         0.68        0.11   0.16      0.75\n",
       "2     knn         0.82        0.35   0.51      0.60"
      ]
     },
     "execution_count": 42,
     "metadata": {},
     "output_type": "execute_result"
    }
   ],
   "source": [
    "def model_evaluation_cv_mean_overall():\n",
    "    model_test = [logreg, tree, knn]\n",
    "    imbalance_method = [randomunder, randomover, smote, nearmiss]\n",
    "    imbalance_method_name = ['randomunder', 'randomover', 'smote', 'nearmiss']\n",
    "    data_comparison = pd.DataFrame({'Model' : ['logreg', 'tree', 'knn']})\n",
    "    skfold = StratifiedKFold(n_splits = 5)\n",
    "    for i in range(len(imbalance_method)):\n",
    "        temp_list = []\n",
    "        for j in range(len(model_test)):\n",
    "            estimator = Pipeline([\n",
    "            ('preprocess', transformer_mean),\n",
    "            ('balancing', imbalance_method[i]),\n",
    "            ('model', model_test[j])\n",
    "        ])\n",
    "            model_cv = cross_val_score(estimator, x_train, y_train, scoring = 'recall', cv = skfold)\n",
    "            temp_list.append(round(model_cv.mean(),2))\n",
    "        data_comparison[imbalance_method_name[i]] = temp_list\n",
    "    return data_comparison\n",
    "\n",
    "model_evaluation_cv_mean_overall()            "
   ]
  },
  {
   "cell_type": "markdown",
   "id": "chronic-caribbean",
   "metadata": {},
   "source": [
    "# DETAILS #1\n",
    "\n",
    "    TREE BEST : nearmiss(0.747) WORST : randomover(0.110)\n",
    "    LOGREG BEST : smote(0.787) WORST : nearmiss(0.592)\n",
    "    KNN BEST : randomunder(0.822) WORST : randomover(0.350)"
   ]
  },
  {
   "cell_type": "markdown",
   "id": "international-belief",
   "metadata": {},
   "source": [
    "# DETAILS #2\n",
    "\n",
    "    RandomOverSampler = Best : Logreg(mean score :  0.781, std score :  0.073)\n",
    "    RandomUnderSampler = Best : KNN(mean score :  0.822, std score :  0.020)\n",
    "    SMOTE = Best : Logreg(mean score :  0.787, std score :  0.068)\n",
    "    NearMiss = Best : Tree(mean score :  0.747, std score :  0.036)"
   ]
  },
  {
   "cell_type": "markdown",
   "id": "institutional-lodging",
   "metadata": {},
   "source": [
    "# PREDICT TEST FOR EACH MODELS"
   ]
  },
  {
   "cell_type": "markdown",
   "id": "funded-internship",
   "metadata": {},
   "source": [
    "# RANDOM OVER"
   ]
  },
  {
   "cell_type": "code",
   "execution_count": 43,
   "id": "royal-adams",
   "metadata": {},
   "outputs": [
    {
     "name": "stdout",
     "output_type": "stream",
     "text": [
      "              precision    recall  f1-score   support\n",
      "\n",
      "           0       0.99      0.71      0.83      1458\n",
      "           1       0.13      0.88      0.23        75\n",
      "\n",
      "    accuracy                           0.72      1533\n",
      "   macro avg       0.56      0.79      0.53      1533\n",
      "weighted avg       0.95      0.72      0.80      1533\n",
      "\n"
     ]
    }
   ],
   "source": [
    "estimatorlogreg = Pipeline([\n",
    "    ('transformer', transformer_mean),\n",
    "    ('balancing', randomover),\n",
    "    ('model', logreg)])\n",
    "estimatorlogreg.fit(x_train, y_train)\n",
    "y_pred = estimatorlogreg.predict(x_test)\n",
    "print(classification_report(y_test, y_pred))"
   ]
  },
  {
   "cell_type": "code",
   "execution_count": 44,
   "id": "municipal-outline",
   "metadata": {},
   "outputs": [
    {
     "name": "stdout",
     "output_type": "stream",
     "text": [
      "              precision    recall  f1-score   support\n",
      "\n",
      "           0       0.96      0.96      0.96      1458\n",
      "           1       0.17      0.17      0.17        75\n",
      "\n",
      "    accuracy                           0.92      1533\n",
      "   macro avg       0.57      0.57      0.57      1533\n",
      "weighted avg       0.92      0.92      0.92      1533\n",
      "\n"
     ]
    }
   ],
   "source": [
    "estimatortree = Pipeline([\n",
    "    ('transformer', transformer_mean),\n",
    "    ('balancing', randomover),\n",
    "    ('model', tree)])\n",
    "estimatortree.fit(x_train, y_train)\n",
    "y_pred = estimatortree.predict(x_test)\n",
    "print(classification_report(y_test, y_pred))"
   ]
  },
  {
   "cell_type": "code",
   "execution_count": 45,
   "id": "mature-disease",
   "metadata": {},
   "outputs": [
    {
     "name": "stdout",
     "output_type": "stream",
     "text": [
      "              precision    recall  f1-score   support\n",
      "\n",
      "           0       0.96      0.87      0.91      1458\n",
      "           1       0.13      0.37      0.19        75\n",
      "\n",
      "    accuracy                           0.85      1533\n",
      "   macro avg       0.55      0.62      0.55      1533\n",
      "weighted avg       0.92      0.85      0.88      1533\n",
      "\n"
     ]
    }
   ],
   "source": [
    "estimatorknn = Pipeline([\n",
    "    ('transformer', transformer_mean),\n",
    "    ('balancing', randomover),\n",
    "    ('model', knn)])\n",
    "estimatorknn.fit(x_train, y_train)\n",
    "y_pred = estimatorknn.predict(x_test)\n",
    "print(classification_report(y_test, y_pred))"
   ]
  },
  {
   "cell_type": "markdown",
   "id": "apart-hebrew",
   "metadata": {},
   "source": [
    "BEST MODEL WOULD BE : logreg(0.88), WORST : TREE(0.18)"
   ]
  },
  {
   "cell_type": "markdown",
   "id": "immune-contributor",
   "metadata": {},
   "source": [
    "# Random Under"
   ]
  },
  {
   "cell_type": "code",
   "execution_count": 46,
   "id": "according-metro",
   "metadata": {},
   "outputs": [
    {
     "name": "stdout",
     "output_type": "stream",
     "text": [
      "              precision    recall  f1-score   support\n",
      "\n",
      "           0       0.99      0.71      0.83      1458\n",
      "           1       0.13      0.85      0.23        75\n",
      "\n",
      "    accuracy                           0.72      1533\n",
      "   macro avg       0.56      0.78      0.53      1533\n",
      "weighted avg       0.95      0.72      0.80      1533\n",
      "\n"
     ]
    }
   ],
   "source": [
    "estimatorlogreg = Pipeline([\n",
    "    ('transformer', transformer_mean),\n",
    "    ('balancing', randomunder),\n",
    "    ('model', logreg)])\n",
    "estimatorlogreg.fit(x_train, y_train)\n",
    "y_pred = estimatorlogreg.predict(x_test)\n",
    "print(classification_report(y_test, y_pred))"
   ]
  },
  {
   "cell_type": "code",
   "execution_count": 47,
   "id": "ruled-marine",
   "metadata": {},
   "outputs": [
    {
     "name": "stdout",
     "output_type": "stream",
     "text": [
      "              precision    recall  f1-score   support\n",
      "\n",
      "           0       0.98      0.67      0.80      1458\n",
      "           1       0.10      0.73      0.18        75\n",
      "\n",
      "    accuracy                           0.68      1533\n",
      "   macro avg       0.54      0.70      0.49      1533\n",
      "weighted avg       0.94      0.68      0.77      1533\n",
      "\n"
     ]
    }
   ],
   "source": [
    "estimatortree = Pipeline([\n",
    "    ('transformer', transformer_mean),\n",
    "    ('balancing', randomunder),\n",
    "    ('model', tree)])\n",
    "estimatortree.fit(x_train, y_train)\n",
    "y_pred = estimatortree.predict(x_test)\n",
    "print(classification_report(y_test, y_pred))"
   ]
  },
  {
   "cell_type": "code",
   "execution_count": 48,
   "id": "unexpected-blame",
   "metadata": {},
   "outputs": [
    {
     "name": "stdout",
     "output_type": "stream",
     "text": [
      "              precision    recall  f1-score   support\n",
      "\n",
      "           0       0.99      0.65      0.78      1458\n",
      "           1       0.11      0.85      0.20        75\n",
      "\n",
      "    accuracy                           0.66      1533\n",
      "   macro avg       0.55      0.75      0.49      1533\n",
      "weighted avg       0.95      0.66      0.75      1533\n",
      "\n"
     ]
    }
   ],
   "source": [
    "estimatorknn = Pipeline([\n",
    "    ('transformer', transformer_mean),\n",
    "    ('balancing', randomunder),\n",
    "    ('model', knn)])\n",
    "estimatorknn.fit(x_train, y_train)\n",
    "y_pred = estimatorknn.predict(x_test)\n",
    "print(classification_report(y_test, y_pred))"
   ]
  },
  {
   "cell_type": "markdown",
   "id": "emerging-spokesman",
   "metadata": {},
   "source": [
    "BEST MODEL WOULD BE : LOGREG AND KNN(0.88) WORST : TREE(0.73)"
   ]
  },
  {
   "cell_type": "markdown",
   "id": "major-dependence",
   "metadata": {},
   "source": [
    "# SMOTE"
   ]
  },
  {
   "cell_type": "code",
   "execution_count": 49,
   "id": "virtual-shower",
   "metadata": {},
   "outputs": [
    {
     "name": "stdout",
     "output_type": "stream",
     "text": [
      "              precision    recall  f1-score   support\n",
      "\n",
      "           0       0.99      0.72      0.84      1458\n",
      "           1       0.13      0.83      0.23        75\n",
      "\n",
      "    accuracy                           0.73      1533\n",
      "   macro avg       0.56      0.78      0.53      1533\n",
      "weighted avg       0.95      0.73      0.81      1533\n",
      "\n"
     ]
    }
   ],
   "source": [
    "estimatorlogreg = Pipeline([\n",
    "    ('transformer', transformer_mean),\n",
    "    ('balancing', smote),\n",
    "    ('model', logreg)])\n",
    "estimatorlogreg.fit(x_train, y_train)\n",
    "y_pred = estimatorlogreg.predict(x_test)\n",
    "print(classification_report(y_test, y_pred))"
   ]
  },
  {
   "cell_type": "code",
   "execution_count": 50,
   "id": "responsible-anthropology",
   "metadata": {},
   "outputs": [
    {
     "name": "stdout",
     "output_type": "stream",
     "text": [
      "              precision    recall  f1-score   support\n",
      "\n",
      "           0       0.95      0.94      0.95      1458\n",
      "           1       0.09      0.12      0.11        75\n",
      "\n",
      "    accuracy                           0.90      1533\n",
      "   macro avg       0.52      0.53      0.53      1533\n",
      "weighted avg       0.91      0.90      0.91      1533\n",
      "\n"
     ]
    }
   ],
   "source": [
    "estimatortree = Pipeline([\n",
    "    ('transformer', transformer_mean),\n",
    "    ('balancing', smote),\n",
    "    ('model', tree)])\n",
    "estimatortree.fit(x_train, y_train)\n",
    "y_pred = estimatortree.predict(x_test)\n",
    "print(classification_report(y_test, y_pred))"
   ]
  },
  {
   "cell_type": "code",
   "execution_count": 51,
   "id": "collaborative-chess",
   "metadata": {},
   "outputs": [
    {
     "name": "stdout",
     "output_type": "stream",
     "text": [
      "              precision    recall  f1-score   support\n",
      "\n",
      "           0       0.97      0.78      0.87      1458\n",
      "           1       0.12      0.59      0.20        75\n",
      "\n",
      "    accuracy                           0.77      1533\n",
      "   macro avg       0.55      0.68      0.53      1533\n",
      "weighted avg       0.93      0.77      0.84      1533\n",
      "\n"
     ]
    }
   ],
   "source": [
    "estimatorknn = Pipeline([\n",
    "    ('transformer', transformer_mean),\n",
    "    ('balancing', smote),\n",
    "    ('model', knn)])\n",
    "estimatorknn.fit(x_train, y_train)\n",
    "y_pred = estimatorknn.predict(x_test)\n",
    "print(classification_report(y_test, y_pred))"
   ]
  },
  {
   "cell_type": "markdown",
   "id": "forced-annotation",
   "metadata": {},
   "source": [
    "BEST MODEL WOULD BE : LOGREG(0.83) WORST : TREE(0.12)"
   ]
  },
  {
   "cell_type": "markdown",
   "id": "noticed-operator",
   "metadata": {},
   "source": [
    "# Near Miss"
   ]
  },
  {
   "cell_type": "code",
   "execution_count": 52,
   "id": "awful-respondent",
   "metadata": {},
   "outputs": [
    {
     "name": "stdout",
     "output_type": "stream",
     "text": [
      "              precision    recall  f1-score   support\n",
      "\n",
      "           0       0.94      0.29      0.44      1458\n",
      "           1       0.04      0.63      0.08        75\n",
      "\n",
      "    accuracy                           0.30      1533\n",
      "   macro avg       0.49      0.46      0.26      1533\n",
      "weighted avg       0.89      0.30      0.42      1533\n",
      "\n"
     ]
    }
   ],
   "source": [
    "estimatorlogreg = Pipeline([\n",
    "    ('transformer', transformer_mean),\n",
    "    ('balancing', nearmiss),\n",
    "    ('model', logreg)])\n",
    "estimatorlogreg.fit(x_train, y_train)\n",
    "y_pred = estimatorlogreg.predict(x_test)\n",
    "print(classification_report(y_test, y_pred))"
   ]
  },
  {
   "cell_type": "code",
   "execution_count": 53,
   "id": "straight-botswana",
   "metadata": {},
   "outputs": [
    {
     "name": "stdout",
     "output_type": "stream",
     "text": [
      "              precision    recall  f1-score   support\n",
      "\n",
      "           0       0.93      0.21      0.35      1458\n",
      "           1       0.04      0.68      0.08        75\n",
      "\n",
      "    accuracy                           0.24      1533\n",
      "   macro avg       0.49      0.45      0.21      1533\n",
      "weighted avg       0.89      0.24      0.33      1533\n",
      "\n"
     ]
    }
   ],
   "source": [
    "estimatortree = Pipeline([\n",
    "    ('transformer', transformer_mean),\n",
    "    ('balancing', nearmiss),\n",
    "    ('model', tree)])\n",
    "estimatortree.fit(x_train, y_train)\n",
    "y_pred = estimatortree.predict(x_test)\n",
    "print(classification_report(y_test, y_pred))"
   ]
  },
  {
   "cell_type": "code",
   "execution_count": 54,
   "id": "optimum-employee",
   "metadata": {},
   "outputs": [
    {
     "name": "stdout",
     "output_type": "stream",
     "text": [
      "              precision    recall  f1-score   support\n",
      "\n",
      "           0       0.93      0.24      0.38      1458\n",
      "           1       0.04      0.63      0.08        75\n",
      "\n",
      "    accuracy                           0.26      1533\n",
      "   macro avg       0.48      0.43      0.23      1533\n",
      "weighted avg       0.88      0.26      0.36      1533\n",
      "\n"
     ]
    }
   ],
   "source": [
    "estimatorknn = Pipeline([\n",
    "    ('transformer', transformer_mean),\n",
    "    ('balancing', nearmiss),\n",
    "    ('model', knn)])\n",
    "estimatorknn.fit(x_train, y_train)\n",
    "y_pred = estimatorknn.predict(x_test)\n",
    "print(classification_report(y_test, y_pred))"
   ]
  },
  {
   "cell_type": "markdown",
   "id": "corrected-trick",
   "metadata": {},
   "source": [
    "BEST WOULD BE : TREE(0.68) WORST : LOGREG AND KNN(0.63)"
   ]
  },
  {
   "cell_type": "markdown",
   "id": "opened-national",
   "metadata": {},
   "source": [
    "# QUICK FUNCTION FOR PREDICT TEST OVERALL MODELS"
   ]
  },
  {
   "cell_type": "code",
   "execution_count": 55,
   "id": "driving-belle",
   "metadata": {},
   "outputs": [
    {
     "data": {
      "text/html": [
       "<div>\n",
       "<style scoped>\n",
       "    .dataframe tbody tr th:only-of-type {\n",
       "        vertical-align: middle;\n",
       "    }\n",
       "\n",
       "    .dataframe tbody tr th {\n",
       "        vertical-align: top;\n",
       "    }\n",
       "\n",
       "    .dataframe thead th {\n",
       "        text-align: right;\n",
       "    }\n",
       "</style>\n",
       "<table border=\"1\" class=\"dataframe\">\n",
       "  <thead>\n",
       "    <tr style=\"text-align: right;\">\n",
       "      <th></th>\n",
       "      <th>Model</th>\n",
       "      <th>randomunder</th>\n",
       "      <th>randomover</th>\n",
       "      <th>smote</th>\n",
       "      <th>nearmiss</th>\n",
       "    </tr>\n",
       "  </thead>\n",
       "  <tbody>\n",
       "    <tr>\n",
       "      <th>0</th>\n",
       "      <td>logreg</td>\n",
       "      <td>0.85</td>\n",
       "      <td>0.88</td>\n",
       "      <td>0.83</td>\n",
       "      <td>0.63</td>\n",
       "    </tr>\n",
       "    <tr>\n",
       "      <th>1</th>\n",
       "      <td>tree</td>\n",
       "      <td>0.73</td>\n",
       "      <td>0.17</td>\n",
       "      <td>0.12</td>\n",
       "      <td>0.68</td>\n",
       "    </tr>\n",
       "    <tr>\n",
       "      <th>2</th>\n",
       "      <td>knn</td>\n",
       "      <td>0.85</td>\n",
       "      <td>0.37</td>\n",
       "      <td>0.59</td>\n",
       "      <td>0.63</td>\n",
       "    </tr>\n",
       "  </tbody>\n",
       "</table>\n",
       "</div>"
      ],
      "text/plain": [
       "    Model  randomunder  randomover  smote  nearmiss\n",
       "0  logreg         0.85        0.88   0.83      0.63\n",
       "1    tree         0.73        0.17   0.12      0.68\n",
       "2     knn         0.85        0.37   0.59      0.63"
      ]
     },
     "execution_count": 55,
     "metadata": {},
     "output_type": "execute_result"
    }
   ],
   "source": [
    "def overall_func():\n",
    "    model_test = [logreg, tree, knn]\n",
    "    imbalance_method = [randomunder, randomover, smote, nearmiss]\n",
    "    imbalance_method_name = ['randomunder', 'randomover', 'smote', 'nearmiss']\n",
    "    data_comparison = pd.DataFrame({'Model' : ['logreg', 'tree', 'knn']})\n",
    "    for i in range(len(imbalance_method)):\n",
    "        temp_list = []\n",
    "        for j in range(len(model_test)):\n",
    "            estimator = Pipeline([\n",
    "                ('transformer', transformer_mean),\n",
    "                ('balancing', imbalance_method[i]),\n",
    "                ('model', model_test[j])])\n",
    "            estimator.fit(x_train, y_train)\n",
    "            y_pred = estimator.predict(x_test)\n",
    "            temp_list.append(round(recall_score(y_test, y_pred),2))\n",
    "        data_comparison[imbalance_method_name[i]] = temp_list\n",
    "    return data_comparison\n",
    "overall_func()"
   ]
  },
  {
   "cell_type": "markdown",
   "id": "honest-investing",
   "metadata": {},
   "source": [
    "# MODEL PERFORMANCE CROSSVALIDATE -> PREDICT TEST"
   ]
  },
  {
   "cell_type": "markdown",
   "id": "cutting-gibson",
   "metadata": {},
   "source": [
    "    \n",
    "    RANDOM UNDER :\n",
    "        logreg : 0.77 -> 0.85 difference +(0.08)\n",
    "        tree : 0.68 -> 0.73 difference +(0.06)\n",
    "        knn : 0.82 -> 0.85 difference +(0.03)\n",
    "    RANDOM OVER :\n",
    "        logreg : 0.78 -> 0.88 difference +(0.1)\n",
    "        tree : 0.11 -> 0.17 difference +(0.06)\n",
    "        knn : 0.35 -> 0.37 difference +(0.02)\n",
    "    SMOTE :\n",
    "        logreg : 0.77 -> 0.83 difference +(0.05)\n",
    "        tree : 0.16 -> 0.12 difference -(0.04)\n",
    "        knn : 0.51 -> 0.59 difference +(0.08)\n",
    "    NEARMISS :\n",
    "        logreg : 0.59 -> 0.63 difference +(0.04)\n",
    "        tree : 0.75 -> 0.68 difference -(0.07)\n",
    "        knn : 0.60 -> 0.63 difference +(0.03)\n",
    "        \n",
    "# Overall Best among the rest goes to Random Over Logreg with score of 0.88"
   ]
  },
  {
   "cell_type": "markdown",
   "id": "bridal-position",
   "metadata": {},
   "source": [
    "# Models that I will pick for further improvement\n",
    "    \n",
    "    Random Under : Logreg, KNN\n",
    "    Random Over : Logreg\n",
    "    SMOTE : Logreg\n",
    "    Nearmiss : Tree(UNDERFITTING), I will not be using this"
   ]
  },
  {
   "cell_type": "code",
   "execution_count": 56,
   "id": "interested-investigator",
   "metadata": {},
   "outputs": [
    {
     "data": {
      "text/plain": [
       "<AxesSubplot:xlabel='bmi'>"
      ]
     },
     "execution_count": 56,
     "metadata": {},
     "output_type": "execute_result"
    },
    {
     "data": {
      "image/png": "[encoded data removed]",
      "text/plain": [
       "<Figure size 576x504 with 1 Axes>"
      ]
     },
     "metadata": {},
     "output_type": "display_data"
    }
   ],
   "source": [
    "sns.boxplot(data = df, x = df['bmi'])"
   ]
  },
  {
   "cell_type": "code",
   "execution_count": 57,
   "id": "weighted-modification",
   "metadata": {},
   "outputs": [
    {
     "data": {
      "text/plain": [
       "<AxesSubplot:xlabel='avg_glucose_level'>"
      ]
     },
     "execution_count": 57,
     "metadata": {},
     "output_type": "execute_result"
    },
    {
     "data": {
      "image/png": "[encoded data removed]",
      "text/plain": [
       "<Figure size 576x504 with 1 Axes>"
      ]
     },
     "metadata": {},
     "output_type": "display_data"
    }
   ],
   "source": [
    "sns.boxplot(data = df, x = df['avg_glucose_level'])"
   ]
  },
  {
   "cell_type": "markdown",
   "id": "entitled-celtic",
   "metadata": {},
   "source": [
    "# SCALING\n",
    "\n",
    "    Robust, reasons : BMI and AVG glucose contains outliers\n",
    "    MinMaxScaler : For KNN only"
   ]
  },
  {
   "cell_type": "markdown",
   "id": "coordinated-controversy",
   "metadata": {},
   "source": [
    "RANDOM UNDER : KNN scaled by MINMAX Scaler"
   ]
  },
  {
   "cell_type": "code",
   "execution_count": 58,
   "id": "induced-excuse",
   "metadata": {},
   "outputs": [],
   "source": [
    "scale_pipe = Pipeline([\n",
    "    ('Simple Imputer',SimpleImputer(strategy = 'mean')),\n",
    "    ('Scaling', MinMaxScaler())\n",
    "])\n",
    "transformer_mean_knn_minmax = ColumnTransformer([\n",
    "    ('One Hot', one_hot, ['gender','ever_married','Residence_type']),\n",
    "    ('Binary', binary, ['work_type','smoking_status']),\n",
    "    ('Scaling', scale_pipe, ['bmi','avg_glucose_level'])\n",
    "], remainder = 'passthrough')"
   ]
  },
  {
   "cell_type": "code",
   "execution_count": 59,
   "id": "narrow-indonesia",
   "metadata": {},
   "outputs": [],
   "source": [
    "def model_evaluation_cv_mean_under(model):\n",
    "    skfold = StratifiedKFold(n_splits = 5)\n",
    "    estimator = Pipeline([\n",
    "    ('preprocess', transformer_mean_knn_minmax),\n",
    "    ('balancing', randomunder),\n",
    "    ('model', model)\n",
    "])\n",
    "    model_cv = cross_val_score(estimator, x_train, y_train, scoring = 'recall', cv = skfold)\n",
    "    return model_cv"
   ]
  },
  {
   "cell_type": "code",
   "execution_count": 60,
   "id": "municipal-humanitarian",
   "metadata": {},
   "outputs": [
    {
     "name": "stdout",
     "output_type": "stream",
     "text": [
      "score :  [0.77142857 0.91176471 0.82857143 0.65714286 0.74285714]\n",
      "mean score :  0.7823529411764706\n",
      "std score :  0.08513563120614413\n"
     ]
    }
   ],
   "source": [
    "model_cv = model_evaluation_cv_mean_under(knn)\n",
    "print_result(model_cv)"
   ]
  },
  {
   "cell_type": "code",
   "execution_count": 61,
   "id": "coral-anderson",
   "metadata": {},
   "outputs": [
    {
     "name": "stdout",
     "output_type": "stream",
     "text": [
      "              precision    recall  f1-score   support\n",
      "\n",
      "           0       0.99      0.71      0.83      1458\n",
      "           1       0.13      0.83      0.22        75\n",
      "\n",
      "    accuracy                           0.72      1533\n",
      "   macro avg       0.56      0.77      0.52      1533\n",
      "weighted avg       0.95      0.72      0.80      1533\n",
      "\n"
     ]
    }
   ],
   "source": [
    "estimatorknnminmax = Pipeline([\n",
    "    ('transformer', transformer_mean_knn_minmax),\n",
    "    ('balancing', randomunder),\n",
    "    ('model', knn)])\n",
    "estimatorknnminmax.fit(x_train, y_train)\n",
    "y_pred = estimatorknnminmax.predict(x_test)\n",
    "print(classification_report(y_test, y_pred))"
   ]
  },
  {
   "cell_type": "markdown",
   "id": "bulgarian-tuition",
   "metadata": {},
   "source": [
    "# Scaling MinMax untuk RandomUnder KNN Menurun\n",
    "\n",
    "    Dari 0.82(Crossvalidasi) - > 0.85(Test Predict) menjadi \n",
    "    0.78(Crossvalidasi) - > 0.83(Test Predict)"
   ]
  },
  {
   "cell_type": "markdown",
   "id": "sapphire-charity",
   "metadata": {},
   "source": [
    "# Scaling Robust untuk Logreg Random Under, Random Over dan SMOTE"
   ]
  },
  {
   "cell_type": "code",
   "execution_count": 62,
   "id": "authentic-sampling",
   "metadata": {},
   "outputs": [],
   "source": [
    "scale_pipe = Pipeline([\n",
    "    ('Simple Imputer',SimpleImputer(strategy = 'mean')),\n",
    "    ('Scaling', RobustScaler())\n",
    "])\n",
    "transformer_mean_logreg = ColumnTransformer([\n",
    "    ('One Hot', one_hot, ['gender','ever_married','Residence_type']),\n",
    "    ('Binary', binary, ['work_type','smoking_status']),\n",
    "    ('Scaling', scale_pipe, ['bmi','avg_glucose_level'])\n",
    "], remainder = 'passthrough')"
   ]
  },
  {
   "cell_type": "code",
   "execution_count": 63,
   "id": "enormous-mouth",
   "metadata": {},
   "outputs": [
    {
     "data": {
      "text/html": [
       "<div>\n",
       "<style scoped>\n",
       "    .dataframe tbody tr th:only-of-type {\n",
       "        vertical-align: middle;\n",
       "    }\n",
       "\n",
       "    .dataframe tbody tr th {\n",
       "        vertical-align: top;\n",
       "    }\n",
       "\n",
       "    .dataframe thead th {\n",
       "        text-align: right;\n",
       "    }\n",
       "</style>\n",
       "<table border=\"1\" class=\"dataframe\">\n",
       "  <thead>\n",
       "    <tr style=\"text-align: right;\">\n",
       "      <th></th>\n",
       "      <th>Model</th>\n",
       "      <th>randomunder</th>\n",
       "      <th>randomover</th>\n",
       "      <th>smote</th>\n",
       "    </tr>\n",
       "  </thead>\n",
       "  <tbody>\n",
       "    <tr>\n",
       "      <th>0</th>\n",
       "      <td>logreg</td>\n",
       "      <td>0.81</td>\n",
       "      <td>0.79</td>\n",
       "      <td>0.79</td>\n",
       "    </tr>\n",
       "  </tbody>\n",
       "</table>\n",
       "</div>"
      ],
      "text/plain": [
       "    Model  randomunder  randomover  smote\n",
       "0  logreg         0.81        0.79   0.79"
      ]
     },
     "execution_count": 63,
     "metadata": {},
     "output_type": "execute_result"
    }
   ],
   "source": [
    "def model_evaluation_cv_mean_overall_logreg():\n",
    "    model_test = [logreg]\n",
    "    imbalance_method = [randomunder, randomover, smote]\n",
    "    imbalance_method_name = ['randomunder', 'randomover', 'smote']\n",
    "    data_comparison = pd.DataFrame({'Model' : ['logreg']})\n",
    "    skfold = StratifiedKFold(n_splits = 5)\n",
    "    for i in range(len(imbalance_method)):\n",
    "        temp_list = []\n",
    "        for j in range(len(model_test)):\n",
    "            estimator = Pipeline([\n",
    "            ('preprocess', transformer_mean_logreg),\n",
    "            ('balancing', imbalance_method[i]),\n",
    "            ('model', model_test[j])\n",
    "        ])\n",
    "            model_cv = cross_val_score(estimator, x_train, y_train, scoring = 'recall', cv = skfold)\n",
    "            temp_list.append(round(model_cv.mean(),2))\n",
    "        data_comparison[imbalance_method_name[i]] = temp_list\n",
    "    return data_comparison\n",
    "\n",
    "model_evaluation_cv_mean_overall_logreg()            "
   ]
  },
  {
   "cell_type": "code",
   "execution_count": 64,
   "id": "developing-better",
   "metadata": {},
   "outputs": [
    {
     "data": {
      "text/html": [
       "<div>\n",
       "<style scoped>\n",
       "    .dataframe tbody tr th:only-of-type {\n",
       "        vertical-align: middle;\n",
       "    }\n",
       "\n",
       "    .dataframe tbody tr th {\n",
       "        vertical-align: top;\n",
       "    }\n",
       "\n",
       "    .dataframe thead th {\n",
       "        text-align: right;\n",
       "    }\n",
       "</style>\n",
       "<table border=\"1\" class=\"dataframe\">\n",
       "  <thead>\n",
       "    <tr style=\"text-align: right;\">\n",
       "      <th></th>\n",
       "      <th>Model</th>\n",
       "      <th>randomunder</th>\n",
       "      <th>randomover</th>\n",
       "      <th>smote</th>\n",
       "    </tr>\n",
       "  </thead>\n",
       "  <tbody>\n",
       "    <tr>\n",
       "      <th>0</th>\n",
       "      <td>logreg</td>\n",
       "      <td>0.87</td>\n",
       "      <td>0.87</td>\n",
       "      <td>0.84</td>\n",
       "    </tr>\n",
       "  </tbody>\n",
       "</table>\n",
       "</div>"
      ],
      "text/plain": [
       "    Model  randomunder  randomover  smote\n",
       "0  logreg         0.87        0.87   0.84"
      ]
     },
     "execution_count": 64,
     "metadata": {},
     "output_type": "execute_result"
    }
   ],
   "source": [
    "def overall_func_logreg():\n",
    "    model_test = [logreg]\n",
    "    imbalance_method = [randomunder, randomover, smote]\n",
    "    imbalance_method_name = ['randomunder', 'randomover', 'smote']\n",
    "    data_comparison = pd.DataFrame({'Model' : ['logreg']})\n",
    "    for i in range(len(imbalance_method)):\n",
    "        temp_list = []\n",
    "        for j in range(len(model_test)):\n",
    "            estimator = Pipeline([\n",
    "                ('transformer', transformer_mean_logreg),\n",
    "                ('balancing', imbalance_method[i]),\n",
    "                ('model', model_test[j])])\n",
    "            estimator.fit(x_train, y_train)\n",
    "            y_pred = estimator.predict(x_test)\n",
    "            temp_list.append(round(recall_score(y_test, y_pred),2))\n",
    "        data_comparison[imbalance_method_name[i]] = temp_list\n",
    "    return data_comparison\n",
    "overall_func_logreg()"
   ]
  },
  {
   "cell_type": "markdown",
   "id": "oriented-headset",
   "metadata": {},
   "source": [
    "# LOGREG PERFORMANCE AFTER SCALING BASED ON RESAMPLING METHOD\n",
    "\n",
    "    RANDOM UNDER : 0.81 -> 0.87 +(0.06)\n",
    "    RANDOM OVER :  0.79 -> 0.87 +(0.08)\n",
    "    SMOTE : 0.79 - > 0.84 +(0.05)\n",
    "    \n",
    "# DIFFERENCE BETWEEN BEFORE AND AFTER SCALING PERFORMANCE BASED ON PREDICT TEST RESULT\n",
    "\n",
    "    RANDOMUNDER : 0.85 -> 0.87 difference +(0.02)\n",
    "    RANDOMOVER : 0.88 -> 0.87 difference -(0.01)\n",
    "    SMOTE : 0.83 -> 0.84 difference +(0.01)"
   ]
  },
  {
   "cell_type": "markdown",
   "id": "opened-pathology",
   "metadata": {},
   "source": [
    "# Research so far :\n",
    "    \n",
    "    Logreg with scaling : Randomunder and Smote\n",
    "    Logreg without scaling : Randomover\n",
    "    KNN without scaling : Randomunder\n",
    "    Tree without scaling : Nearmiss"
   ]
  },
  {
   "cell_type": "markdown",
   "id": "resident-martin",
   "metadata": {},
   "source": [
    "# Last test for model improvement before Hyperparameter Tuning : Polynomial on LogReg"
   ]
  },
  {
   "cell_type": "code",
   "execution_count": 65,
   "id": "chemical-schema",
   "metadata": {},
   "outputs": [],
   "source": [
    "poly_scale = Pipeline([\n",
    "    ('Simple Imputer',SimpleImputer(strategy = 'mean')),\n",
    "    ('Poly', PolynomialFeatures(degree = 1, interaction_only = False, include_bias = False)),\n",
    "    ('Scaling', RobustScaler())\n",
    "])\n",
    "transformer_mean_logreg = ColumnTransformer([\n",
    "    ('One Hot', one_hot, ['gender','ever_married','Residence_type']),\n",
    "    ('Binary', binary, ['work_type','smoking_status']),\n",
    "    ('Polynomial then Robust', poly_scale, ['bmi','avg_glucose_level'])\n",
    "], remainder = 'passthrough')"
   ]
  },
  {
   "cell_type": "code",
   "execution_count": 66,
   "id": "antique-startup",
   "metadata": {},
   "outputs": [
    {
     "data": {
      "text/html": [
       "<div>\n",
       "<style scoped>\n",
       "    .dataframe tbody tr th:only-of-type {\n",
       "        vertical-align: middle;\n",
       "    }\n",
       "\n",
       "    .dataframe tbody tr th {\n",
       "        vertical-align: top;\n",
       "    }\n",
       "\n",
       "    .dataframe thead th {\n",
       "        text-align: right;\n",
       "    }\n",
       "</style>\n",
       "<table border=\"1\" class=\"dataframe\">\n",
       "  <thead>\n",
       "    <tr style=\"text-align: right;\">\n",
       "      <th></th>\n",
       "      <th>Model</th>\n",
       "      <th>randomunder</th>\n",
       "      <th>randomover</th>\n",
       "      <th>smote</th>\n",
       "    </tr>\n",
       "  </thead>\n",
       "  <tbody>\n",
       "    <tr>\n",
       "      <th>0</th>\n",
       "      <td>logreg</td>\n",
       "      <td>0.811</td>\n",
       "      <td>0.788</td>\n",
       "      <td>0.788</td>\n",
       "    </tr>\n",
       "  </tbody>\n",
       "</table>\n",
       "</div>"
      ],
      "text/plain": [
       "    Model  randomunder  randomover  smote\n",
       "0  logreg        0.811       0.788  0.788"
      ]
     },
     "execution_count": 66,
     "metadata": {},
     "output_type": "execute_result"
    }
   ],
   "source": [
    "def model_evaluation_cv_mean_overall_logreg():\n",
    "    model_test = [logreg]\n",
    "    imbalance_method = [randomunder, randomover, smote]\n",
    "    imbalance_method_name = ['randomunder', 'randomover', 'smote']\n",
    "    data_comparison = pd.DataFrame({'Model' : ['logreg']})\n",
    "    skfold = StratifiedKFold(n_splits = 5)\n",
    "    for i in range(len(imbalance_method)):\n",
    "        temp_list = []\n",
    "        for j in range(len(model_test)):\n",
    "            estimator = Pipeline([\n",
    "            ('preprocess', transformer_mean_logreg),\n",
    "            ('balancing', imbalance_method[i]),\n",
    "            ('model', model_test[j])\n",
    "        ])\n",
    "            model_cv = cross_val_score(estimator, x_train, y_train, scoring = 'recall', cv = skfold)\n",
    "            temp_list.append(round(model_cv.mean(),3))\n",
    "        data_comparison[imbalance_method_name[i]] = temp_list\n",
    "    return data_comparison    \n",
    "model_evaluation_cv_mean_overall_logreg()"
   ]
  },
  {
   "cell_type": "markdown",
   "id": "portable-habitat",
   "metadata": {},
   "source": [
    "    Degree 1\t\t0.811\t0.788\t0.788\n",
    "    Degree 2\t\t0.828\t0.793\t0.799\n",
    "    Degree 3\t\t0.822\t0.782\t0.793\n",
    "    Degree 4\t\t0.822\t0.799\t0.799\n",
    "    Degree 5\t\t0.816\t0.799\t0.793\n",
    "    Degree 6\t\t0.793\t0.799\t0.799\n",
    "    Degree 7\t\t0.793\t0.782\t0.787\n",
    "    Degree 8\t\t0.793\t0.793\t0.799\n",
    "    Degree 9\t\t0.793\t0.793\t0.799\n",
    "    Degree 10\t\t0.787\t0.793\t0.804"
   ]
  },
  {
   "cell_type": "code",
   "execution_count": 67,
   "id": "tired-guess",
   "metadata": {},
   "outputs": [
    {
     "data": {
      "text/html": [
       "<div>\n",
       "<style scoped>\n",
       "    .dataframe tbody tr th:only-of-type {\n",
       "        vertical-align: middle;\n",
       "    }\n",
       "\n",
       "    .dataframe tbody tr th {\n",
       "        vertical-align: top;\n",
       "    }\n",
       "\n",
       "    .dataframe thead th {\n",
       "        text-align: right;\n",
       "    }\n",
       "</style>\n",
       "<table border=\"1\" class=\"dataframe\">\n",
       "  <thead>\n",
       "    <tr style=\"text-align: right;\">\n",
       "      <th></th>\n",
       "      <th>Model</th>\n",
       "      <th>randomunder</th>\n",
       "      <th>randomover</th>\n",
       "      <th>smote</th>\n",
       "    </tr>\n",
       "  </thead>\n",
       "  <tbody>\n",
       "    <tr>\n",
       "      <th>0</th>\n",
       "      <td>logreg</td>\n",
       "      <td>0.867</td>\n",
       "      <td>0.867</td>\n",
       "      <td>0.84</td>\n",
       "    </tr>\n",
       "  </tbody>\n",
       "</table>\n",
       "</div>"
      ],
      "text/plain": [
       "    Model  randomunder  randomover  smote\n",
       "0  logreg        0.867       0.867   0.84"
      ]
     },
     "execution_count": 67,
     "metadata": {},
     "output_type": "execute_result"
    }
   ],
   "source": [
    "def overall_func_logreg():\n",
    "    model_test = [logreg]\n",
    "    imbalance_method = [randomunder, randomover, smote]\n",
    "    imbalance_method_name = ['randomunder', 'randomover', 'smote']\n",
    "    data_comparison = pd.DataFrame({'Model' : ['logreg']})\n",
    "    for i in range(len(imbalance_method)):\n",
    "        temp_list = []\n",
    "        for j in range(len(model_test)):\n",
    "            estimator = Pipeline([\n",
    "                ('transformer', transformer_mean_logreg),\n",
    "                ('balancing', imbalance_method[i]),\n",
    "                ('model', model_test[j])])\n",
    "            estimator.fit(x_train, y_train)\n",
    "            y_pred = estimator.predict(x_test)\n",
    "            temp_list.append(round(recall_score(y_test, y_pred),3))\n",
    "        data_comparison[imbalance_method_name[i]] = temp_list\n",
    "    return data_comparison\n",
    "overall_func_logreg()"
   ]
  },
  {
   "cell_type": "markdown",
   "id": "sapphire-concept",
   "metadata": {},
   "source": [
    "    Degree 1\t\t0.87\t0.87\t0.84\n",
    "    Degree 2\t\t0.81\t0.83\t0.80\n",
    "    Degree 3    \t0.80    0.81\t0.80\n",
    "    Degree 4\t\t0.79\t0.81\t0.79\n",
    "    Degree 5\t\t0.77\t0.79\t0.77\n",
    "    Degree 6\t\t0.79\t0.80    0.77\n",
    "    Degree 7\t\t0.80    0.81\t0.79\n",
    "    Degree 8\t\t0.81\t0.80    0.79\n",
    "    Degree 9\t\t0.81\t0.80    0.77\n",
    "    Degree 10\t\t0.80    0.81\t0.77"
   ]
  },
  {
   "cell_type": "markdown",
   "id": "clear-winner",
   "metadata": {},
   "source": [
    "# BEST DEGREE OVERALL GOES TO DEGREE 1\n",
    "\n",
    "    But because the performance is not as good as(no significant improvement) \n",
    "    without using polynomial, I won't be using it"
   ]
  },
  {
   "cell_type": "markdown",
   "id": "supposed-trust",
   "metadata": {},
   "source": [
    "# What do we learn so far\n",
    "\n",
    "    Scaling that does improvement for LogReg would be RandomUnder and Smote\n",
    "    Without Improvement for LogReg goes to Random Over, KNN for Random Under\n",
    "    Polynomial doesn't do any significant improvement for LogReg, so it won't be use later on\n",
    "    MinMaxScaler doesn't improve KNN performance\n",
    "    Tree won't be use even if it is the highest in Nearmiss because it is overfitting"
   ]
  },
  {
   "cell_type": "markdown",
   "id": "existing-lexington",
   "metadata": {},
   "source": [
    "For double check, I will do another rerun, this time with std shown. This way not only the performance is good, but it has to be balance too"
   ]
  },
  {
   "cell_type": "markdown",
   "id": "improving-model",
   "metadata": {},
   "source": [
    "LOGREG RANDOMUNDER SCALING"
   ]
  },
  {
   "cell_type": "code",
   "execution_count": 68,
   "id": "metropolitan-tuesday",
   "metadata": {},
   "outputs": [],
   "source": [
    "scale_pipe = Pipeline([\n",
    "    ('Simple Imputer',SimpleImputer(strategy = 'mean')),\n",
    "    ('Scaling', RobustScaler())\n",
    "])\n",
    "transformer_mean_logreg = ColumnTransformer([\n",
    "    ('One Hot', one_hot, ['gender','ever_married','Residence_type']),\n",
    "    ('Binary', binary, ['work_type','smoking_status']),\n",
    "    ('Scaling', scale_pipe, ['bmi','avg_glucose_level'])\n",
    "], remainder = 'passthrough')"
   ]
  },
  {
   "cell_type": "code",
   "execution_count": 69,
   "id": "sunrise-bruce",
   "metadata": {},
   "outputs": [
    {
     "name": "stdout",
     "output_type": "stream",
     "text": [
      "score :  [0.8        0.85294118 0.77142857 0.82857143 0.8       ]\n",
      "mean score :  0.8105882352941176\n",
      "std score :  0.027838346194041255\n"
     ]
    }
   ],
   "source": [
    "def model_evaluation_cv_mean_over(model):\n",
    "    skfold = StratifiedKFold(n_splits = 5)\n",
    "    estimator = Pipeline([\n",
    "    ('preprocess', transformer_mean_logreg),\n",
    "    ('balancing', randomunder),\n",
    "    ('model', model)\n",
    "])\n",
    "    model_cv = cross_val_score(estimator, x_train, y_train, scoring = 'recall', cv = skfold)\n",
    "    return model_cv\n",
    "model_cv = model_evaluation_cv_mean_over(logreg)\n",
    "print_result(model_cv)"
   ]
  },
  {
   "cell_type": "markdown",
   "id": "steady-reform",
   "metadata": {},
   "source": [
    "LOGREG SMOTE SCALING"
   ]
  },
  {
   "cell_type": "code",
   "execution_count": 70,
   "id": "novel-aviation",
   "metadata": {},
   "outputs": [
    {
     "name": "stdout",
     "output_type": "stream",
     "text": [
      "score :  [0.68571429 0.82352941 0.71428571 0.88571429 0.82857143]\n",
      "mean score :  0.787563025210084\n",
      "std score :  0.07530162027446238\n"
     ]
    }
   ],
   "source": [
    "def model_evaluation_cv_mean_over(model):\n",
    "    skfold = StratifiedKFold(n_splits = 5)\n",
    "    estimator = Pipeline([\n",
    "    ('preprocess', transformer_mean_logreg),\n",
    "    ('balancing', smote),\n",
    "    ('model', model)\n",
    "])\n",
    "    model_cv = cross_val_score(estimator, x_train, y_train, scoring = 'recall', cv = skfold)\n",
    "    return model_cv\n",
    "model_cv = model_evaluation_cv_mean_over(logreg)\n",
    "print_result(model_cv)"
   ]
  },
  {
   "cell_type": "markdown",
   "id": "relevant-finance",
   "metadata": {},
   "source": [
    "LOGREG RANDOMOVER WITHOUT SCALING"
   ]
  },
  {
   "cell_type": "code",
   "execution_count": 71,
   "id": "presidential-abraham",
   "metadata": {},
   "outputs": [],
   "source": [
    "imputer = Pipeline([\n",
    "    ('Simple Imputer',SimpleImputer(strategy = 'mean'))\n",
    "])\n",
    "transformer_mean = ColumnTransformer([\n",
    "    ('One Hot', one_hot, ['gender','ever_married','Residence_type']),\n",
    "    ('Binary', binary, ['work_type','smoking_status']),\n",
    "    ('Simple Impute', imputer, ['bmi','avg_glucose_level'])\n",
    "], remainder = 'passthrough')"
   ]
  },
  {
   "cell_type": "code",
   "execution_count": 72,
   "id": "optional-barrel",
   "metadata": {},
   "outputs": [
    {
     "name": "stdout",
     "output_type": "stream",
     "text": [
      "score :  [0.71428571 0.79411765 0.68571429 0.88571429 0.82857143]\n",
      "mean score :  0.7816806722689076\n",
      "std score :  0.07338670425214266\n"
     ]
    }
   ],
   "source": [
    "def model_evaluation_cv_mean_over(model):\n",
    "    skfold = StratifiedKFold(n_splits = 5)\n",
    "    estimator = Pipeline([\n",
    "    ('preprocess', transformer_mean),\n",
    "    ('balancing', randomover),\n",
    "    ('model', model)\n",
    "])\n",
    "    model_cv = cross_val_score(estimator, x_train, y_train, scoring = 'recall', cv = skfold)\n",
    "    return model_cv\n",
    "model_cv = model_evaluation_cv_mean_over(logreg)\n",
    "print_result(model_cv)"
   ]
  },
  {
   "cell_type": "markdown",
   "id": "referenced-office",
   "metadata": {},
   "source": [
    "KNN RANDOMUNDER WITHOUT SCALING"
   ]
  },
  {
   "cell_type": "code",
   "execution_count": 73,
   "id": "functioning-completion",
   "metadata": {},
   "outputs": [
    {
     "name": "stdout",
     "output_type": "stream",
     "text": [
      "score :  [0.8        0.85294118 0.8        0.82857143 0.82857143]\n",
      "mean score :  0.8220168067226892\n",
      "std score :  0.020058526047510152\n"
     ]
    }
   ],
   "source": [
    "def model_evaluation_cv_mean_over(model):\n",
    "    skfold = StratifiedKFold(n_splits = 5)\n",
    "    estimator = Pipeline([\n",
    "    ('preprocess', transformer_mean),\n",
    "    ('balancing', randomunder),\n",
    "    ('model', model)\n",
    "])\n",
    "    model_cv = cross_val_score(estimator, x_train, y_train, scoring = 'recall', cv = skfold)\n",
    "    return model_cv\n",
    "model_cv = model_evaluation_cv_mean_over(knn)\n",
    "print_result(model_cv)"
   ]
  },
  {
   "cell_type": "markdown",
   "id": "periodic-hybrid",
   "metadata": {},
   "source": [
    "# All of the STD's model are below 0.1 where the highest would be 0.07 and the lowest 0.02, acceptable"
   ]
  },
  {
   "cell_type": "markdown",
   "id": "dynamic-horse",
   "metadata": {},
   "source": [
    "# HYPERPARAMETER TUNING"
   ]
  },
  {
   "cell_type": "markdown",
   "id": "satellite-footage",
   "metadata": {},
   "source": [
    "HT ON LOGREG RANDOMUNDER SCALING"
   ]
  },
  {
   "cell_type": "code",
   "execution_count": 125,
   "id": "harmful-continent",
   "metadata": {},
   "outputs": [],
   "source": [
    "scale_pipe = Pipeline([\n",
    "    ('Simple Imputer',SimpleImputer(strategy = 'mean')),\n",
    "    ('Scaling', RobustScaler())\n",
    "])\n",
    "transformer_mean = ColumnTransformer([\n",
    "    ('One Hot', one_hot, ['gender','ever_married','Residence_type']),\n",
    "    ('Binary', binary, ['work_type','smoking_status']),\n",
    "    ('Scaling', scale_pipe, ['bmi','avg_glucose_level'])\n",
    "], remainder = 'passthrough')"
   ]
  },
  {
   "cell_type": "code",
   "execution_count": 126,
   "id": "compact-stationery",
   "metadata": {},
   "outputs": [],
   "source": [
    "estimator = Pipeline([\n",
    "    ('preprocess', transformer_mean),\n",
    "    ('balancing', randomunder),\n",
    "    ('model', logreg)\n",
    "])\n",
    "\n",
    "hyperparam_space =[{\n",
    "    'model__solver':['newton-cg', 'lbfgs', 'liblinear', 'sag', 'saga'], \n",
    "    'model__C' : [0.001, 0.01, 0.1, 1, 10, 100, 1000], \n",
    "    'preprocess__Scaling__Scaling__with_centering' : [True, False],\n",
    "    'preprocess__Scaling__Scaling__with_scaling' : [True, False]}\n",
    "]"
   ]
  },
  {
   "cell_type": "code",
   "execution_count": 127,
   "id": "golden-river",
   "metadata": {},
   "outputs": [],
   "source": [
    "skfold = StratifiedKFold(n_splits = 5)\n",
    "grid_search = GridSearchCV(estimator, param_grid = hyperparam_space, cv = skfold, scoring = 'recall', n_jobs = -1)"
   ]
  },
  {
   "cell_type": "code",
   "execution_count": 128,
   "id": "guilty-shelter",
   "metadata": {},
   "outputs": [
    {
     "name": "stdout",
     "output_type": "stream",
     "text": [
      "best score  1.0\n",
      "best score  {'model__C': 0.001, 'model__solver': 'liblinear', 'preprocess__Scaling__Scaling__with_centering': True, 'preprocess__Scaling__Scaling__with_scaling': True}\n"
     ]
    }
   ],
   "source": [
    "grid_search.fit(x_train, y_train)\n",
    "print('best score ', grid_search.best_score_)\n",
    "print('best score ', grid_search.best_params_)"
   ]
  },
  {
   "cell_type": "code",
   "execution_count": 129,
   "id": "stuffed-retail",
   "metadata": {},
   "outputs": [
    {
     "name": "stdout",
     "output_type": "stream",
     "text": [
      "              precision    recall  f1-score   support\n",
      "\n",
      "           0       0.99      0.09      0.17      1458\n",
      "           1       0.05      0.99      0.10        75\n",
      "\n",
      "    accuracy                           0.14      1533\n",
      "   macro avg       0.52      0.54      0.14      1533\n",
      "weighted avg       0.95      0.14      0.17      1533\n",
      "\n"
     ]
    }
   ],
   "source": [
    "y_pred = grid_search.best_estimator_.predict(x_test)\n",
    "print(classification_report(y_test, y_pred))"
   ]
  },
  {
   "cell_type": "code",
   "execution_count": 130,
   "id": "municipal-backing",
   "metadata": {},
   "outputs": [
    {
     "data": {
      "text/html": [
       "<div>\n",
       "<style scoped>\n",
       "    .dataframe tbody tr th:only-of-type {\n",
       "        vertical-align: middle;\n",
       "    }\n",
       "\n",
       "    .dataframe tbody tr th {\n",
       "        vertical-align: top;\n",
       "    }\n",
       "\n",
       "    .dataframe thead th {\n",
       "        text-align: right;\n",
       "    }\n",
       "</style>\n",
       "<table border=\"1\" class=\"dataframe\">\n",
       "  <thead>\n",
       "    <tr style=\"text-align: right;\">\n",
       "      <th></th>\n",
       "      <th>Predictions 0 Good</th>\n",
       "      <th>Predictions 1 Bad</th>\n",
       "    </tr>\n",
       "  </thead>\n",
       "  <tbody>\n",
       "    <tr>\n",
       "      <th>0</th>\n",
       "      <td>136</td>\n",
       "      <td>1322</td>\n",
       "    </tr>\n",
       "    <tr>\n",
       "      <th>1</th>\n",
       "      <td>1</td>\n",
       "      <td>74</td>\n",
       "    </tr>\n",
       "  </tbody>\n",
       "</table>\n",
       "</div>"
      ],
      "text/plain": [
       "   Predictions 0 Good  Predictions 1 Bad\n",
       "0                 136               1322\n",
       "1                   1                 74"
      ]
     },
     "execution_count": 130,
     "metadata": {},
     "output_type": "execute_result"
    }
   ],
   "source": [
    "pd.DataFrame(confusion_matrix(y_test, y_pred), columns=['Predictions 0 Good', 'Predictions 1 Bad'])"
   ]
  },
  {
   "cell_type": "code",
   "execution_count": 131,
   "id": "related-mechanism",
   "metadata": {},
   "outputs": [
    {
     "data": {
      "text/plain": [
       "(<sklearn.metrics._plot.precision_recall_curve.PrecisionRecallDisplay at 0x2d5537f95c8>,\n",
       " <sklearn.metrics._plot.roc_curve.RocCurveDisplay at 0x2d5566d3e08>)"
      ]
     },
     "execution_count": 131,
     "metadata": {},
     "output_type": "execute_result"
    },
    {
     "data": {
      "image/png": "[encoded data removed]",
      "text/plain": [
       "<Figure size 576x504 with 1 Axes>"
      ]
     },
     "metadata": {},
     "output_type": "display_data"
    },
    {
     "data": {
      "image/png": "[encoded data removed]",
      "text/plain": [
       "<Figure size 576x504 with 1 Axes>"
      ]
     },
     "metadata": {},
     "output_type": "display_data"
    }
   ],
   "source": [
    "plot_precision_recall_curve(grid_search.best_estimator_, x_test, y_test), plot_roc_curve(grid_search.best_estimator_, x_test, y_test)"
   ]
  },
  {
   "cell_type": "markdown",
   "id": "earned-disposal",
   "metadata": {},
   "source": [
    "HT ON LOGREG SMOTE WITH SCALING"
   ]
  },
  {
   "cell_type": "code",
   "execution_count": 132,
   "id": "legal-works",
   "metadata": {},
   "outputs": [],
   "source": [
    "estimator = Pipeline([\n",
    "    ('preprocess', transformer_mean),\n",
    "    ('balancing', smote),\n",
    "    ('model', logreg)\n",
    "])\n",
    "\n",
    "hyperparam_space =[{\n",
    "    'model__solver':['newton-cg', 'lbfgs', 'liblinear', 'sag', 'saga'], \n",
    "    'model__C' : [0.001, 0.01, 0.1, 1, 10, 100, 1000], \n",
    "    'preprocess__Scaling__Scaling__with_centering' : [True, False],\n",
    "    'preprocess__Scaling__Scaling__with_scaling' : [True, False],\n",
    "    'balancing__k_neighbors' : [5, 6, 7, 8, 9, 10]}\n",
    "]"
   ]
  },
  {
   "cell_type": "code",
   "execution_count": 133,
   "id": "false-audience",
   "metadata": {},
   "outputs": [],
   "source": [
    "skfold = StratifiedKFold(n_splits = 5)\n",
    "grid_search = GridSearchCV(estimator, param_grid = hyperparam_space, cv = skfold, scoring = 'recall', n_jobs = -1)"
   ]
  },
  {
   "cell_type": "code",
   "execution_count": 134,
   "id": "starting-karma",
   "metadata": {},
   "outputs": [
    {
     "name": "stdout",
     "output_type": "stream",
     "text": [
      "best score  0.9196638655462186\n",
      "best score  {'balancing__k_neighbors': 5, 'model__C': 0.001, 'model__solver': 'liblinear', 'preprocess__Scaling__Scaling__with_centering': True, 'preprocess__Scaling__Scaling__with_scaling': True}\n"
     ]
    }
   ],
   "source": [
    "grid_search.fit(x_train, y_train)\n",
    "print('best score ', grid_search.best_score_)\n",
    "print('best score ', grid_search.best_params_)"
   ]
  },
  {
   "cell_type": "code",
   "execution_count": 135,
   "id": "independent-reverse",
   "metadata": {},
   "outputs": [
    {
     "name": "stdout",
     "output_type": "stream",
     "text": [
      "              precision    recall  f1-score   support\n",
      "\n",
      "           0       0.99      0.53      0.70      1458\n",
      "           1       0.09      0.92      0.17        75\n",
      "\n",
      "    accuracy                           0.55      1533\n",
      "   macro avg       0.54      0.73      0.43      1533\n",
      "weighted avg       0.95      0.55      0.67      1533\n",
      "\n"
     ]
    }
   ],
   "source": [
    "y_pred = grid_search.best_estimator_.predict(x_test)\n",
    "print(classification_report(y_test, y_pred))"
   ]
  },
  {
   "cell_type": "code",
   "execution_count": 136,
   "id": "golden-indian",
   "metadata": {},
   "outputs": [
    {
     "data": {
      "text/html": [
       "<div>\n",
       "<style scoped>\n",
       "    .dataframe tbody tr th:only-of-type {\n",
       "        vertical-align: middle;\n",
       "    }\n",
       "\n",
       "    .dataframe tbody tr th {\n",
       "        vertical-align: top;\n",
       "    }\n",
       "\n",
       "    .dataframe thead th {\n",
       "        text-align: right;\n",
       "    }\n",
       "</style>\n",
       "<table border=\"1\" class=\"dataframe\">\n",
       "  <thead>\n",
       "    <tr style=\"text-align: right;\">\n",
       "      <th></th>\n",
       "      <th>Predictions 0 Good</th>\n",
       "      <th>Predictions 1 Bad</th>\n",
       "    </tr>\n",
       "  </thead>\n",
       "  <tbody>\n",
       "    <tr>\n",
       "      <th>0</th>\n",
       "      <td>780</td>\n",
       "      <td>678</td>\n",
       "    </tr>\n",
       "    <tr>\n",
       "      <th>1</th>\n",
       "      <td>6</td>\n",
       "      <td>69</td>\n",
       "    </tr>\n",
       "  </tbody>\n",
       "</table>\n",
       "</div>"
      ],
      "text/plain": [
       "   Predictions 0 Good  Predictions 1 Bad\n",
       "0                 780                678\n",
       "1                   6                 69"
      ]
     },
     "execution_count": 136,
     "metadata": {},
     "output_type": "execute_result"
    }
   ],
   "source": [
    "pd.DataFrame(confusion_matrix(y_test, y_pred), columns=['Predictions 0 Good', 'Predictions 1 Bad'])"
   ]
  },
  {
   "cell_type": "code",
   "execution_count": 137,
   "id": "confident-cassette",
   "metadata": {},
   "outputs": [
    {
     "data": {
      "text/plain": [
       "(<sklearn.metrics._plot.precision_recall_curve.PrecisionRecallDisplay at 0x2d5537b8b88>,\n",
       " <sklearn.metrics._plot.roc_curve.RocCurveDisplay at 0x2d555b9b408>)"
      ]
     },
     "execution_count": 137,
     "metadata": {},
     "output_type": "execute_result"
    },
    {
     "data": {
      "image/png": "[encoded data removed]",
      "text/plain": [
       "<Figure size 576x504 with 1 Axes>"
      ]
     },
     "metadata": {},
     "output_type": "display_data"
    },
    {
     "data": {
      "image/png": "[encoded data removed]",
      "text/plain": [
       "<Figure size 576x504 with 1 Axes>"
      ]
     },
     "metadata": {},
     "output_type": "display_data"
    }
   ],
   "source": [
    "plot_precision_recall_curve(grid_search.best_estimator_, x_test, y_test), plot_roc_curve(grid_search.best_estimator_, x_test, y_test)"
   ]
  },
  {
   "cell_type": "markdown",
   "id": "exempt-nitrogen",
   "metadata": {},
   "source": [
    "HT ON LOGREG RANDOMOVER WITHOUT SCALING"
   ]
  },
  {
   "cell_type": "code",
   "execution_count": 138,
   "id": "lasting-bahrain",
   "metadata": {},
   "outputs": [],
   "source": [
    "impute = Pipeline([\n",
    "    ('Simple Imputer',SimpleImputer(strategy = 'mean'))\n",
    "])\n",
    "transformer_mean = ColumnTransformer([\n",
    "    ('One Hot', one_hot, ['gender','ever_married','Residence_type']),\n",
    "    ('Binary', binary, ['work_type','smoking_status']),\n",
    "    ('Simple Imputer', impute, ['bmi','avg_glucose_level'])\n",
    "], remainder = 'passthrough')"
   ]
  },
  {
   "cell_type": "code",
   "execution_count": 139,
   "id": "acquired-composition",
   "metadata": {},
   "outputs": [],
   "source": [
    "estimator = Pipeline([\n",
    "    ('preprocess', transformer_mean),\n",
    "    ('balancing', randomover),\n",
    "    ('model', logreg)\n",
    "])\n",
    "\n",
    "hyperparam_space =[{\n",
    "    'model__solver':['newton-cg', 'lbfgs', 'liblinear', 'sag', 'saga'], \n",
    "    'model__C' : [0.001, 0.01, 0.1, 1, 10, 100, 1000]}\n",
    "]"
   ]
  },
  {
   "cell_type": "code",
   "execution_count": 140,
   "id": "answering-smile",
   "metadata": {},
   "outputs": [],
   "source": [
    "skfold = StratifiedKFold(n_splits = 5)\n",
    "grid_search = GridSearchCV(estimator, param_grid = hyperparam_space, cv = skfold, scoring = 'recall', n_jobs = -1)"
   ]
  },
  {
   "cell_type": "code",
   "execution_count": 141,
   "id": "classified-equilibrium",
   "metadata": {},
   "outputs": [
    {
     "name": "stdout",
     "output_type": "stream",
     "text": [
      "best score  0.7932773109243698\n",
      "best score  {'model__C': 0.1, 'model__solver': 'newton-cg'}\n"
     ]
    }
   ],
   "source": [
    "grid_search.fit(x_train, y_train)\n",
    "print('best score ', grid_search.best_score_)\n",
    "print('best score ', grid_search.best_params_)"
   ]
  },
  {
   "cell_type": "code",
   "execution_count": 142,
   "id": "naval-pacific",
   "metadata": {},
   "outputs": [
    {
     "name": "stdout",
     "output_type": "stream",
     "text": [
      "              precision    recall  f1-score   support\n",
      "\n",
      "           0       0.99      0.71      0.83      1458\n",
      "           1       0.13      0.88      0.23        75\n",
      "\n",
      "    accuracy                           0.72      1533\n",
      "   macro avg       0.56      0.79      0.53      1533\n",
      "weighted avg       0.95      0.72      0.80      1533\n",
      "\n"
     ]
    }
   ],
   "source": [
    "y_pred = grid_search.best_estimator_.predict(x_test)\n",
    "print(classification_report(y_test, y_pred))"
   ]
  },
  {
   "cell_type": "code",
   "execution_count": 143,
   "id": "social-humanitarian",
   "metadata": {},
   "outputs": [
    {
     "data": {
      "text/html": [
       "<div>\n",
       "<style scoped>\n",
       "    .dataframe tbody tr th:only-of-type {\n",
       "        vertical-align: middle;\n",
       "    }\n",
       "\n",
       "    .dataframe tbody tr th {\n",
       "        vertical-align: top;\n",
       "    }\n",
       "\n",
       "    .dataframe thead th {\n",
       "        text-align: right;\n",
       "    }\n",
       "</style>\n",
       "<table border=\"1\" class=\"dataframe\">\n",
       "  <thead>\n",
       "    <tr style=\"text-align: right;\">\n",
       "      <th></th>\n",
       "      <th>Predictions 0 Good</th>\n",
       "      <th>Predictions 1 Bad</th>\n",
       "    </tr>\n",
       "  </thead>\n",
       "  <tbody>\n",
       "    <tr>\n",
       "      <th>0</th>\n",
       "      <td>1033</td>\n",
       "      <td>425</td>\n",
       "    </tr>\n",
       "    <tr>\n",
       "      <th>1</th>\n",
       "      <td>9</td>\n",
       "      <td>66</td>\n",
       "    </tr>\n",
       "  </tbody>\n",
       "</table>\n",
       "</div>"
      ],
      "text/plain": [
       "   Predictions 0 Good  Predictions 1 Bad\n",
       "0                1033                425\n",
       "1                   9                 66"
      ]
     },
     "execution_count": 143,
     "metadata": {},
     "output_type": "execute_result"
    }
   ],
   "source": [
    "pd.DataFrame(confusion_matrix(y_test, y_pred), columns=['Predictions 0 Good', 'Predictions 1 Bad'])"
   ]
  },
  {
   "cell_type": "code",
   "execution_count": 144,
   "id": "ahead-convert",
   "metadata": {},
   "outputs": [
    {
     "data": {
      "text/plain": [
       "(<sklearn.metrics._plot.precision_recall_curve.PrecisionRecallDisplay at 0x2d555bda208>,\n",
       " <sklearn.metrics._plot.roc_curve.RocCurveDisplay at 0x2d555bc0288>)"
      ]
     },
     "execution_count": 144,
     "metadata": {},
     "output_type": "execute_result"
    },
    {
     "data": {
      "image/png": "[encoded data removed]",
      "text/plain": [
       "<Figure size 576x504 with 1 Axes>"
      ]
     },
     "metadata": {},
     "output_type": "display_data"
    },
    {
     "data": {
      "image/png": "[encoded data removed]",
      "text/plain": [
       "<Figure size 576x504 with 1 Axes>"
      ]
     },
     "metadata": {},
     "output_type": "display_data"
    }
   ],
   "source": [
    "plot_precision_recall_curve(grid_search.best_estimator_, x_test, y_test), plot_roc_curve(grid_search.best_estimator_, x_test, y_test)"
   ]
  },
  {
   "cell_type": "markdown",
   "id": "miniature-prescription",
   "metadata": {},
   "source": [
    "HT ON KNN RANDOMUNDER WITHOUT SCALING"
   ]
  },
  {
   "cell_type": "code",
   "execution_count": 145,
   "id": "awful-imagination",
   "metadata": {},
   "outputs": [],
   "source": [
    "estimator = Pipeline([\n",
    "    ('preprocess', transformer_mean),\n",
    "    ('balancing', randomunder),\n",
    "    ('model', knn)\n",
    "])\n",
    "\n",
    "hyperparam_space =[{\n",
    "    'model__n_neighbors':[5, 6, 7, 8, 9, 10], \n",
    "    'model__weights' : ['uniform', 'distance']}\n",
    "]"
   ]
  },
  {
   "cell_type": "code",
   "execution_count": 146,
   "id": "conceptual-cassette",
   "metadata": {},
   "outputs": [],
   "source": [
    "skfold = StratifiedKFold(n_splits = 5)\n",
    "grid_search = GridSearchCV(estimator, param_grid = hyperparam_space, cv = skfold, scoring = 'recall', n_jobs = -1)"
   ]
  },
  {
   "cell_type": "code",
   "execution_count": 147,
   "id": "infectious-glossary",
   "metadata": {},
   "outputs": [
    {
     "name": "stdout",
     "output_type": "stream",
     "text": [
      "best score  0.8275630252100841\n",
      "best score  {'model__n_neighbors': 5, 'model__weights': 'distance'}\n"
     ]
    }
   ],
   "source": [
    "grid_search.fit(x_train, y_train)\n",
    "print('best score ', grid_search.best_score_)\n",
    "print('best score ', grid_search.best_params_)"
   ]
  },
  {
   "cell_type": "code",
   "execution_count": 148,
   "id": "downtown-charity",
   "metadata": {},
   "outputs": [
    {
     "name": "stdout",
     "output_type": "stream",
     "text": [
      "              precision    recall  f1-score   support\n",
      "\n",
      "           0       0.99      0.66      0.79      1458\n",
      "           1       0.11      0.84      0.20        75\n",
      "\n",
      "    accuracy                           0.67      1533\n",
      "   macro avg       0.55      0.75      0.50      1533\n",
      "weighted avg       0.94      0.67      0.76      1533\n",
      "\n"
     ]
    }
   ],
   "source": [
    "y_pred = grid_search.best_estimator_.predict(x_test)\n",
    "print(classification_report(y_test, y_pred))"
   ]
  },
  {
   "cell_type": "code",
   "execution_count": 149,
   "id": "marine-holiday",
   "metadata": {},
   "outputs": [
    {
     "data": {
      "text/html": [
       "<div>\n",
       "<style scoped>\n",
       "    .dataframe tbody tr th:only-of-type {\n",
       "        vertical-align: middle;\n",
       "    }\n",
       "\n",
       "    .dataframe tbody tr th {\n",
       "        vertical-align: top;\n",
       "    }\n",
       "\n",
       "    .dataframe thead th {\n",
       "        text-align: right;\n",
       "    }\n",
       "</style>\n",
       "<table border=\"1\" class=\"dataframe\">\n",
       "  <thead>\n",
       "    <tr style=\"text-align: right;\">\n",
       "      <th></th>\n",
       "      <th>Predictions 0 Good</th>\n",
       "      <th>Predictions 1 Bad</th>\n",
       "    </tr>\n",
       "  </thead>\n",
       "  <tbody>\n",
       "    <tr>\n",
       "      <th>0</th>\n",
       "      <td>963</td>\n",
       "      <td>495</td>\n",
       "    </tr>\n",
       "    <tr>\n",
       "      <th>1</th>\n",
       "      <td>12</td>\n",
       "      <td>63</td>\n",
       "    </tr>\n",
       "  </tbody>\n",
       "</table>\n",
       "</div>"
      ],
      "text/plain": [
       "   Predictions 0 Good  Predictions 1 Bad\n",
       "0                 963                495\n",
       "1                  12                 63"
      ]
     },
     "execution_count": 149,
     "metadata": {},
     "output_type": "execute_result"
    }
   ],
   "source": [
    "pd.DataFrame(confusion_matrix(y_test, y_pred), columns=['Predictions 0 Good', 'Predictions 1 Bad'])"
   ]
  },
  {
   "cell_type": "code",
   "execution_count": 150,
   "id": "continued-afternoon",
   "metadata": {},
   "outputs": [
    {
     "data": {
      "text/plain": [
       "(<sklearn.metrics._plot.precision_recall_curve.PrecisionRecallDisplay at 0x2d555b65e48>,\n",
       " <sklearn.metrics._plot.roc_curve.RocCurveDisplay at 0x2d555f2c888>)"
      ]
     },
     "execution_count": 150,
     "metadata": {},
     "output_type": "execute_result"
    },
    {
     "data": {
      "image/png": "[encoded data removed]",
      "text/plain": [
       "<Figure size 576x504 with 1 Axes>"
      ]
     },
     "metadata": {},
     "output_type": "display_data"
    },
    {
     "data": {
      "image/png": "[encoded data removed]",
      "text/plain": [
       "<Figure size 576x504 with 1 Axes>"
      ]
     },
     "metadata": {},
     "output_type": "display_data"
    }
   ],
   "source": [
    "plot_precision_recall_curve(grid_search.best_estimator_, x_test, y_test), plot_roc_curve(grid_search.best_estimator_, x_test, y_test)"
   ]
  },
  {
   "cell_type": "markdown",
   "id": "partial-findings",
   "metadata": {},
   "source": [
    "# HYPERPARAMETER PERFORMANCE RESULT\n",
    "\n",
    "    LOGREG RANDOMUNDER SCALING : 0.99\n",
    "        params : 'model__C': 0.001, \n",
    "                    'model__solver': 'liblinear', \n",
    "                    'preprocess__Scaling__Scaling__with_centering': True, \n",
    "                    'preprocess__Scaling__Scaling__with_scaling': True\n",
    "    \n",
    "    LOGREG SMOTE SCALING : 0.92\n",
    "        params : 'balancing__k_neighbors': 5, \n",
    "                    'model__C': 0.001, \n",
    "                    'model__solver': 'liblinear', \n",
    "                    'preprocess__Scaling__Scaling__with_centering': True, \n",
    "                    'preprocess__Scaling__Scaling__with_scaling': True\n",
    "    \n",
    "    LOGREG RANDOMOVER WITHOUT SCALING : 0.88\n",
    "        params : 'model__C': 0.1, \n",
    "                    'model__solver': 'newton-cg'\n",
    "    \n",
    "    KNN RANDOMUNDER WITHOUT SCALING : 0.84\n",
    "        params : 'model__n_neighbors': 5, \n",
    "                    'model__weights': 'distance'"
   ]
  },
  {
   "cell_type": "markdown",
   "id": "stuck-campbell",
   "metadata": {},
   "source": [
    "# CONCLUSION ON WHAT MODEL AND METHOD TO PICK\n",
    "\n",
    "    I will be using randomunder with robust scaling using params \n",
    "         model__C : 0.001 \n",
    "         model__solver : liblinear \n",
    "         preprocess__Scaling__Scaling__with_centering : True\n",
    "         preprocess__Scaling__Scaling__with_scaling : True\n",
    "    with the score of 0.99 on recall\n",
    "    \n",
    "    Reason for me to decide why I use this as my predictive model even if the FN is really low\n",
    "    (in quantity) and very-very high(which means the machine will more often predicts people who's \n",
    "    healthy getting a stroke). But that's not a really big deal because the machine just predicts\n",
    "    that the person MIGHT get a stroke so the prevention would be :\n",
    "       - eat a healthy diet\n",
    "       - exercise regularly\n",
    "       - avoid smoking and drinking too much alcohol\n",
    "    But of course the worst case scenario would be that the person would be sad and panic, \n",
    "    but as how every medical situation goes, the person would be receiving countermeasures\n",
    "    to prevent this 'false' prediction from happening. So in a much simple explanation would be\n",
    "    this person is healthier than before.\n",
    "    \n",
    "    As for the recall score, I believe this is the best option. No matter how you look at it,\n",
    "    it is a bad call if the person that's might have stroke but predicted healthy. Because this way,\n",
    "    the person would 100% get a stroke because there's no proper treatment, the person will keep \n",
    "    living the unhealthy life and so end up getting a stroke for real.\n",
    "    \n",
    "Source about stroke prevention : https://www.nhs.uk/conditions/stroke/prevention/#:~:text=The%20best%20way%20to%20help,high%20blood%20pressure"
   ]
  },
  {
   "cell_type": "markdown",
   "id": "dental-launch",
   "metadata": {},
   "source": [
    "# QUICK UPDATE ABOUT TREE\n",
    "\n",
    "    Eventhough the value decrease by -0.07 between crossvalidation and test predict, the difference isn't that\n",
    "    bad so I thought I should give it try using hyperparams on it to see if it could give some good result.\n",
    "    Of course the resampling method I'm going to use would be Nearmiss(because the others are underfitting)\n",
    "    "
   ]
  },
  {
   "cell_type": "code",
   "execution_count": 159,
   "id": "general-sheet",
   "metadata": {},
   "outputs": [],
   "source": [
    "impute = Pipeline([\n",
    "    ('Simple Imputer',SimpleImputer(strategy = 'mean'))\n",
    "])\n",
    "transformer_mean = ColumnTransformer([\n",
    "    ('One Hot', one_hot, ['gender','ever_married','Residence_type']),\n",
    "    ('Binary', binary, ['work_type','smoking_status']),\n",
    "    ('Simple Imputer', impute, ['bmi','avg_glucose_level'])\n",
    "], remainder = 'passthrough')"
   ]
  },
  {
   "cell_type": "code",
   "execution_count": 160,
   "id": "false-officer",
   "metadata": {},
   "outputs": [],
   "source": [
    "estimator = Pipeline([\n",
    "    ('preprocess', transformer_mean),\n",
    "    ('balancing', nearmiss),\n",
    "    ('model', tree)\n",
    "])\n",
    "\n",
    "hyperparam_space =[{\n",
    "    'model__criterion': ['gini', 'entropy'], \n",
    "    'model__splitter' : ['best', 'random'],\n",
    "    'model__max_depth' : [1, 2, 3, 4],\n",
    "    'model__min_samples_split' : [2, 3, 4, 5],\n",
    "    'model__min_samples_leaf' : [1, 2, 3, 4],\n",
    "    'balancing__n_neighbors' : [3, 4, 5, 6]}\n",
    "]"
   ]
  },
  {
   "cell_type": "code",
   "execution_count": 161,
   "id": "bridal-truck",
   "metadata": {},
   "outputs": [],
   "source": [
    "skfold = StratifiedKFold(n_splits = 5)\n",
    "grid_search = GridSearchCV(estimator, param_grid = hyperparam_space, cv = skfold, scoring = 'recall', n_jobs = -1)"
   ]
  },
  {
   "cell_type": "code",
   "execution_count": 162,
   "id": "computational-columbia",
   "metadata": {},
   "outputs": [
    {
     "name": "stdout",
     "output_type": "stream",
     "text": [
      "best score  0.5870588235294119\n",
      "best score  {'balancing__n_neighbors': 6, 'model__criterion': 'gini', 'model__max_depth': 4, 'model__min_samples_leaf': 1, 'model__min_samples_split': 2, 'model__splitter': 'best'}\n"
     ]
    }
   ],
   "source": [
    "grid_search.fit(x_train, y_train)\n",
    "print('best score ', grid_search.best_score_)\n",
    "print('best score ', grid_search.best_params_)"
   ]
  },
  {
   "cell_type": "code",
   "execution_count": 163,
   "id": "north-immigration",
   "metadata": {},
   "outputs": [
    {
     "name": "stdout",
     "output_type": "stream",
     "text": [
      "              precision    recall  f1-score   support\n",
      "\n",
      "           0       0.92      0.18      0.29      1458\n",
      "           1       0.04      0.71      0.08        75\n",
      "\n",
      "    accuracy                           0.20      1533\n",
      "   macro avg       0.48      0.44      0.19      1533\n",
      "weighted avg       0.88      0.20      0.28      1533\n",
      "\n"
     ]
    }
   ],
   "source": [
    "y_pred = grid_search.best_estimator_.predict(x_test)\n",
    "print(classification_report(y_test, y_pred))"
   ]
  },
  {
   "cell_type": "code",
   "execution_count": 164,
   "id": "personalized-passion",
   "metadata": {},
   "outputs": [
    {
     "data": {
      "text/html": [
       "<div>\n",
       "<style scoped>\n",
       "    .dataframe tbody tr th:only-of-type {\n",
       "        vertical-align: middle;\n",
       "    }\n",
       "\n",
       "    .dataframe tbody tr th {\n",
       "        vertical-align: top;\n",
       "    }\n",
       "\n",
       "    .dataframe thead th {\n",
       "        text-align: right;\n",
       "    }\n",
       "</style>\n",
       "<table border=\"1\" class=\"dataframe\">\n",
       "  <thead>\n",
       "    <tr style=\"text-align: right;\">\n",
       "      <th></th>\n",
       "      <th>Predictions 0 Good</th>\n",
       "      <th>Predictions 1 Bad</th>\n",
       "    </tr>\n",
       "  </thead>\n",
       "  <tbody>\n",
       "    <tr>\n",
       "      <th>0</th>\n",
       "      <td>256</td>\n",
       "      <td>1202</td>\n",
       "    </tr>\n",
       "    <tr>\n",
       "      <th>1</th>\n",
       "      <td>22</td>\n",
       "      <td>53</td>\n",
       "    </tr>\n",
       "  </tbody>\n",
       "</table>\n",
       "</div>"
      ],
      "text/plain": [
       "   Predictions 0 Good  Predictions 1 Bad\n",
       "0                 256               1202\n",
       "1                  22                 53"
      ]
     },
     "execution_count": 164,
     "metadata": {},
     "output_type": "execute_result"
    }
   ],
   "source": [
    "pd.DataFrame(confusion_matrix(y_test, y_pred), columns=['Predictions 0 Good', 'Predictions 1 Bad'])"
   ]
  },
  {
   "cell_type": "code",
   "execution_count": 165,
   "id": "mathematical-alabama",
   "metadata": {
    "scrolled": false
   },
   "outputs": [
    {
     "data": {
      "text/plain": [
       "(<sklearn.metrics._plot.precision_recall_curve.PrecisionRecallDisplay at 0x2d5563b83c8>,\n",
       " <sklearn.metrics._plot.roc_curve.RocCurveDisplay at 0x2d5565dbf08>)"
      ]
     },
     "execution_count": 165,
     "metadata": {},
     "output_type": "execute_result"
    },
    {
     "data": {
      "image/png": "[encoded data removed]",
      "text/plain": [
       "<Figure size 576x504 with 1 Axes>"
      ]
     },
     "metadata": {},
     "output_type": "display_data"
    },
    {
     "data": {
      "image/png": "[encoded data removed]",
      "text/plain": [
       "<Figure size 576x504 with 1 Axes>"
      ]
     },
     "metadata": {},
     "output_type": "display_data"
    }
   ],
   "source": [
    "plot_precision_recall_curve(grid_search.best_estimator_, x_test, y_test), plot_roc_curve(grid_search.best_estimator_, x_test, y_test)"
   ]
  },
  {
   "cell_type": "markdown",
   "id": "approximate-microphone",
   "metadata": {},
   "source": [
    "# CONCLUSION FOR TREE\n",
    "\n",
    "    The result isn't that great even after hyperparams, there's an increase though in performance from\n",
    "    0.68 to 0.71 (+0.03)"
   ]
  },
  {
   "cell_type": "markdown",
   "id": "continuous-davis",
   "metadata": {},
   "source": [
    "# TESTING SAJA UNTUK RESAMPLING HYPERPARAMS"
   ]
  },
  {
   "cell_type": "code",
   "execution_count": 166,
   "id": "democratic-collection",
   "metadata": {},
   "outputs": [],
   "source": [
    "scale_pipe = Pipeline([\n",
    "    ('Simple Imputer',SimpleImputer(strategy = 'mean')),\n",
    "    ('Scaling', RobustScaler())\n",
    "])\n",
    "transformer_mean = ColumnTransformer([\n",
    "    ('One Hot', one_hot, ['gender','ever_married','Residence_type']),\n",
    "    ('Binary', binary, ['work_type','smoking_status']),\n",
    "    ('Scaling', scale_pipe, ['bmi','avg_glucose_level'])\n",
    "], remainder = 'passthrough')"
   ]
  },
  {
   "cell_type": "code",
   "execution_count": 180,
   "id": "special-water",
   "metadata": {},
   "outputs": [],
   "source": [
    "estimator = Pipeline([\n",
    "    ('preprocess', transformer_mean),\n",
    "    ('balancing', randomunder),\n",
    "    ('model', logreg)\n",
    "])\n",
    "\n",
    "hyperparam_space =[{\n",
    "    'model__solver':['newton-cg', 'lbfgs', 'liblinear', 'sag', 'saga'], \n",
    "    'model__C' : [0.001, 0.01, 0.1, 1, 10, 100, 1000], \n",
    "    'balancing' : [randomunder, randomover, smote, nearmiss],\n",
    "    'preprocess__Scaling__Scaling__with_centering' : [True, False],\n",
    "    'preprocess__Scaling__Scaling__with_scaling' : [True, False]}\n",
    "]"
   ]
  },
  {
   "cell_type": "code",
   "execution_count": 181,
   "id": "weighted-resolution",
   "metadata": {},
   "outputs": [],
   "source": [
    "skfold = StratifiedKFold(n_splits = 5)\n",
    "grid_search = GridSearchCV(estimator, param_grid = hyperparam_space, cv = skfold, scoring = 'recall', n_jobs = -1)"
   ]
  },
  {
   "cell_type": "code",
   "execution_count": 182,
   "id": "departmental-furniture",
   "metadata": {},
   "outputs": [
    {
     "name": "stdout",
     "output_type": "stream",
     "text": [
      "best score  1.0\n",
      "best score  {'balancing': RandomUnderSampler(random_state=2021), 'model__C': 0.001, 'model__solver': 'liblinear', 'preprocess__Scaling__Scaling__with_centering': True, 'preprocess__Scaling__Scaling__with_scaling': True}\n"
     ]
    }
   ],
   "source": [
    "grid_search.fit(x_train, y_train)\n",
    "print('best score ', grid_search.best_score_)\n",
    "print('best score ', grid_search.best_params_)"
   ]
  },
  {
   "cell_type": "code",
   "execution_count": 183,
   "id": "broken-guess",
   "metadata": {},
   "outputs": [
    {
     "name": "stdout",
     "output_type": "stream",
     "text": [
      "              precision    recall  f1-score   support\n",
      "\n",
      "           0       0.99      0.09      0.17      1458\n",
      "           1       0.05      0.99      0.10        75\n",
      "\n",
      "    accuracy                           0.14      1533\n",
      "   macro avg       0.52      0.54      0.14      1533\n",
      "weighted avg       0.95      0.14      0.17      1533\n",
      "\n"
     ]
    }
   ],
   "source": [
    "y_pred = grid_search.best_estimator_.predict(x_test)\n",
    "print(classification_report(y_test, y_pred))"
   ]
  },
  {
   "cell_type": "code",
   "execution_count": 184,
   "id": "outside-advisory",
   "metadata": {},
   "outputs": [
    {
     "data": {
      "text/html": [
       "<div>\n",
       "<style scoped>\n",
       "    .dataframe tbody tr th:only-of-type {\n",
       "        vertical-align: middle;\n",
       "    }\n",
       "\n",
       "    .dataframe tbody tr th {\n",
       "        vertical-align: top;\n",
       "    }\n",
       "\n",
       "    .dataframe thead th {\n",
       "        text-align: right;\n",
       "    }\n",
       "</style>\n",
       "<table border=\"1\" class=\"dataframe\">\n",
       "  <thead>\n",
       "    <tr style=\"text-align: right;\">\n",
       "      <th></th>\n",
       "      <th>Predictions 0 Good</th>\n",
       "      <th>Predictions 1 Bad</th>\n",
       "    </tr>\n",
       "  </thead>\n",
       "  <tbody>\n",
       "    <tr>\n",
       "      <th>0</th>\n",
       "      <td>136</td>\n",
       "      <td>1322</td>\n",
       "    </tr>\n",
       "    <tr>\n",
       "      <th>1</th>\n",
       "      <td>1</td>\n",
       "      <td>74</td>\n",
       "    </tr>\n",
       "  </tbody>\n",
       "</table>\n",
       "</div>"
      ],
      "text/plain": [
       "   Predictions 0 Good  Predictions 1 Bad\n",
       "0                 136               1322\n",
       "1                   1                 74"
      ]
     },
     "execution_count": 184,
     "metadata": {},
     "output_type": "execute_result"
    }
   ],
   "source": [
    "pd.DataFrame(confusion_matrix(y_test, y_pred), columns=['Predictions 0 Good', 'Predictions 1 Bad'])"
   ]
  },
  {
   "cell_type": "code",
   "execution_count": 185,
   "id": "identical-revelation",
   "metadata": {},
   "outputs": [
    {
     "data": {
      "text/plain": [
       "(<sklearn.metrics._plot.precision_recall_curve.PrecisionRecallDisplay at 0x2d5562a7cc8>,\n",
       " <sklearn.metrics._plot.roc_curve.RocCurveDisplay at 0x2d5565938c8>)"
      ]
     },
     "execution_count": 185,
     "metadata": {},
     "output_type": "execute_result"
    },
    {
     "data": {
      "image/png": "[encoded data removed]",
      "text/plain": [
       "<Figure size 576x504 with 1 Axes>"
      ]
     },
     "metadata": {},
     "output_type": "display_data"
    },
    {
     "data": {
      "image/png": "[encoded data removed]",
      "text/plain": [
       "<Figure size 576x504 with 1 Axes>"
      ]
     },
     "metadata": {},
     "output_type": "display_data"
    }
   ],
   "source": [
    "plot_precision_recall_curve(grid_search.best_estimator_, x_test, y_test), plot_roc_curve(grid_search.best_estimator_, x_test, y_test)"
   ]
  },
  {
   "cell_type": "markdown",
   "id": "narrow-destination",
   "metadata": {},
   "source": [
    "Work as intended, overall the best resampling method would be random-under-sampling"
   ]
  }
 ],
 "metadata": {
  "kernelspec": {
   "display_name": "Python 3",
   "language": "python",
   "name": "python3"
  },
  "language_info": {
   "codemirror_mode": {
    "name": "ipython",
    "version": 3
   },
   "file_extension": ".py",
   "mimetype": "text/x-python",
   "name": "python",
   "nbconvert_exporter": "python",
   "pygments_lexer": "ipython3",
   "version": "3.7.9"
  }
 },
 "nbformat": 4,
 "nbformat_minor": 5
}
