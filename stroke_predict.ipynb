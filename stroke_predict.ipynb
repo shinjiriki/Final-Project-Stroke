{
 "cells": [
  {
   "cell_type": "code",
   "execution_count": 2,
   "id": "closed-joining",
   "metadata": {},
   "outputs": [],
   "source": [
    "import pandas as pd\n",
    "import numpy as np\n",
    "import seaborn as sns\n",
    "import matplotlib.pyplot as plt\n",
    "from jupyterthemes import jtplot\n",
    "jtplot.style(theme = 'monokai', context = 'notebook',ticks=True, grid=False)\n",
    "import warnings\n",
    "warnings.filterwarnings('ignore')\n",
    "#models\n",
    "from sklearn.linear_model import LogisticRegression\n",
    "from sklearn.tree import DecisionTreeClassifier, plot_tree\n",
    "from sklearn.neighbors import KNeighborsClassifier\n",
    "#feature engineering\n",
    "from sklearn.impute import SimpleImputer\n",
    "from sklearn.pipeline import Pipeline\n",
    "from imblearn.pipeline import Pipeline\n",
    "from category_encoders import BinaryEncoder\n",
    "from sklearn.preprocessing import OneHotEncoder, PolynomialFeatures, RobustScaler, MinMaxScaler\n",
    "from sklearn.compose import ColumnTransformer\n",
    "from imblearn.over_sampling import SMOTE, RandomOverSampler\n",
    "from imblearn.under_sampling import RandomUnderSampler, NearMiss\n",
    "#evaluation\n",
    "from sklearn.model_selection import train_test_split, cross_val_score, GridSearchCV, StratifiedKFold\n",
    "from sklearn.metrics import confusion_matrix, f1_score, recall_score, precision_score, accuracy_score, classification_report, plot_precision_recall_curve, plot_roc_curve\n",
    "#saving models\n",
    "import pickle"
   ]
  },
  {
   "cell_type": "code",
   "execution_count": 3,
   "id": "piano-chart",
   "metadata": {},
   "outputs": [
    {
     "data": {
      "text/html": [
       "<div>\n",
       "<style scoped>\n",
       "    .dataframe tbody tr th:only-of-type {\n",
       "        vertical-align: middle;\n",
       "    }\n",
       "\n",
       "    .dataframe tbody tr th {\n",
       "        vertical-align: top;\n",
       "    }\n",
       "\n",
       "    .dataframe thead th {\n",
       "        text-align: right;\n",
       "    }\n",
       "</style>\n",
       "<table border=\"1\" class=\"dataframe\">\n",
       "  <thead>\n",
       "    <tr style=\"text-align: right;\">\n",
       "      <th></th>\n",
       "      <th>id</th>\n",
       "      <th>gender</th>\n",
       "      <th>age</th>\n",
       "      <th>hypertension</th>\n",
       "      <th>heart_disease</th>\n",
       "      <th>ever_married</th>\n",
       "      <th>work_type</th>\n",
       "      <th>Residence_type</th>\n",
       "      <th>avg_glucose_level</th>\n",
       "      <th>bmi</th>\n",
       "      <th>smoking_status</th>\n",
       "      <th>stroke</th>\n",
       "    </tr>\n",
       "  </thead>\n",
       "  <tbody>\n",
       "    <tr>\n",
       "      <th>0</th>\n",
       "      <td>9046</td>\n",
       "      <td>Male</td>\n",
       "      <td>67.0</td>\n",
       "      <td>0</td>\n",
       "      <td>1</td>\n",
       "      <td>Yes</td>\n",
       "      <td>Private</td>\n",
       "      <td>Urban</td>\n",
       "      <td>228.69</td>\n",
       "      <td>36.6</td>\n",
       "      <td>formerly smoked</td>\n",
       "      <td>1</td>\n",
       "    </tr>\n",
       "    <tr>\n",
       "      <th>1</th>\n",
       "      <td>51676</td>\n",
       "      <td>Female</td>\n",
       "      <td>61.0</td>\n",
       "      <td>0</td>\n",
       "      <td>0</td>\n",
       "      <td>Yes</td>\n",
       "      <td>Self-employed</td>\n",
       "      <td>Rural</td>\n",
       "      <td>202.21</td>\n",
       "      <td>NaN</td>\n",
       "      <td>never smoked</td>\n",
       "      <td>1</td>\n",
       "    </tr>\n",
       "    <tr>\n",
       "      <th>2</th>\n",
       "      <td>31112</td>\n",
       "      <td>Male</td>\n",
       "      <td>80.0</td>\n",
       "      <td>0</td>\n",
       "      <td>1</td>\n",
       "      <td>Yes</td>\n",
       "      <td>Private</td>\n",
       "      <td>Rural</td>\n",
       "      <td>105.92</td>\n",
       "      <td>32.5</td>\n",
       "      <td>never smoked</td>\n",
       "      <td>1</td>\n",
       "    </tr>\n",
       "    <tr>\n",
       "      <th>3</th>\n",
       "      <td>60182</td>\n",
       "      <td>Female</td>\n",
       "      <td>49.0</td>\n",
       "      <td>0</td>\n",
       "      <td>0</td>\n",
       "      <td>Yes</td>\n",
       "      <td>Private</td>\n",
       "      <td>Urban</td>\n",
       "      <td>171.23</td>\n",
       "      <td>34.4</td>\n",
       "      <td>smokes</td>\n",
       "      <td>1</td>\n",
       "    </tr>\n",
       "    <tr>\n",
       "      <th>4</th>\n",
       "      <td>1665</td>\n",
       "      <td>Female</td>\n",
       "      <td>79.0</td>\n",
       "      <td>1</td>\n",
       "      <td>0</td>\n",
       "      <td>Yes</td>\n",
       "      <td>Self-employed</td>\n",
       "      <td>Rural</td>\n",
       "      <td>174.12</td>\n",
       "      <td>24.0</td>\n",
       "      <td>never smoked</td>\n",
       "      <td>1</td>\n",
       "    </tr>\n",
       "    <tr>\n",
       "      <th>...</th>\n",
       "      <td>...</td>\n",
       "      <td>...</td>\n",
       "      <td>...</td>\n",
       "      <td>...</td>\n",
       "      <td>...</td>\n",
       "      <td>...</td>\n",
       "      <td>...</td>\n",
       "      <td>...</td>\n",
       "      <td>...</td>\n",
       "      <td>...</td>\n",
       "      <td>...</td>\n",
       "      <td>...</td>\n",
       "    </tr>\n",
       "    <tr>\n",
       "      <th>5105</th>\n",
       "      <td>18234</td>\n",
       "      <td>Female</td>\n",
       "      <td>80.0</td>\n",
       "      <td>1</td>\n",
       "      <td>0</td>\n",
       "      <td>Yes</td>\n",
       "      <td>Private</td>\n",
       "      <td>Urban</td>\n",
       "      <td>83.75</td>\n",
       "      <td>NaN</td>\n",
       "      <td>never smoked</td>\n",
       "      <td>0</td>\n",
       "    </tr>\n",
       "    <tr>\n",
       "      <th>5106</th>\n",
       "      <td>44873</td>\n",
       "      <td>Female</td>\n",
       "      <td>81.0</td>\n",
       "      <td>0</td>\n",
       "      <td>0</td>\n",
       "      <td>Yes</td>\n",
       "      <td>Self-employed</td>\n",
       "      <td>Urban</td>\n",
       "      <td>125.20</td>\n",
       "      <td>40.0</td>\n",
       "      <td>never smoked</td>\n",
       "      <td>0</td>\n",
       "    </tr>\n",
       "    <tr>\n",
       "      <th>5107</th>\n",
       "      <td>19723</td>\n",
       "      <td>Female</td>\n",
       "      <td>35.0</td>\n",
       "      <td>0</td>\n",
       "      <td>0</td>\n",
       "      <td>Yes</td>\n",
       "      <td>Self-employed</td>\n",
       "      <td>Rural</td>\n",
       "      <td>82.99</td>\n",
       "      <td>30.6</td>\n",
       "      <td>never smoked</td>\n",
       "      <td>0</td>\n",
       "    </tr>\n",
       "    <tr>\n",
       "      <th>5108</th>\n",
       "      <td>37544</td>\n",
       "      <td>Male</td>\n",
       "      <td>51.0</td>\n",
       "      <td>0</td>\n",
       "      <td>0</td>\n",
       "      <td>Yes</td>\n",
       "      <td>Private</td>\n",
       "      <td>Rural</td>\n",
       "      <td>166.29</td>\n",
       "      <td>25.6</td>\n",
       "      <td>formerly smoked</td>\n",
       "      <td>0</td>\n",
       "    </tr>\n",
       "    <tr>\n",
       "      <th>5109</th>\n",
       "      <td>44679</td>\n",
       "      <td>Female</td>\n",
       "      <td>44.0</td>\n",
       "      <td>0</td>\n",
       "      <td>0</td>\n",
       "      <td>Yes</td>\n",
       "      <td>Govt_job</td>\n",
       "      <td>Urban</td>\n",
       "      <td>85.28</td>\n",
       "      <td>26.2</td>\n",
       "      <td>Unknown</td>\n",
       "      <td>0</td>\n",
       "    </tr>\n",
       "  </tbody>\n",
       "</table>\n",
       "<p>5110 rows × 12 columns</p>\n",
       "</div>"
      ],
      "text/plain": [
       "         id  gender   age  hypertension  heart_disease ever_married  \\\n",
       "0      9046    Male  67.0             0              1          Yes   \n",
       "1     51676  Female  61.0             0              0          Yes   \n",
       "2     31112    Male  80.0             0              1          Yes   \n",
       "3     60182  Female  49.0             0              0          Yes   \n",
       "4      1665  Female  79.0             1              0          Yes   \n",
       "...     ...     ...   ...           ...            ...          ...   \n",
       "5105  18234  Female  80.0             1              0          Yes   \n",
       "5106  44873  Female  81.0             0              0          Yes   \n",
       "5107  19723  Female  35.0             0              0          Yes   \n",
       "5108  37544    Male  51.0             0              0          Yes   \n",
       "5109  44679  Female  44.0             0              0          Yes   \n",
       "\n",
       "          work_type Residence_type  avg_glucose_level   bmi   smoking_status  \\\n",
       "0           Private          Urban             228.69  36.6  formerly smoked   \n",
       "1     Self-employed          Rural             202.21   NaN     never smoked   \n",
       "2           Private          Rural             105.92  32.5     never smoked   \n",
       "3           Private          Urban             171.23  34.4           smokes   \n",
       "4     Self-employed          Rural             174.12  24.0     never smoked   \n",
       "...             ...            ...                ...   ...              ...   \n",
       "5105        Private          Urban              83.75   NaN     never smoked   \n",
       "5106  Self-employed          Urban             125.20  40.0     never smoked   \n",
       "5107  Self-employed          Rural              82.99  30.6     never smoked   \n",
       "5108        Private          Rural             166.29  25.6  formerly smoked   \n",
       "5109       Govt_job          Urban              85.28  26.2          Unknown   \n",
       "\n",
       "      stroke  \n",
       "0          1  \n",
       "1          1  \n",
       "2          1  \n",
       "3          1  \n",
       "4          1  \n",
       "...      ...  \n",
       "5105       0  \n",
       "5106       0  \n",
       "5107       0  \n",
       "5108       0  \n",
       "5109       0  \n",
       "\n",
       "[5110 rows x 12 columns]"
      ]
     },
     "execution_count": 3,
     "metadata": {},
     "output_type": "execute_result"
    }
   ],
   "source": [
    "df = pd.read_csv('healthcare-dataset-stroke-data.csv')\n",
    "df"
   ]
  },
  {
   "cell_type": "markdown",
   "id": "mounted-stake",
   "metadata": {},
   "source": [
    "# Metrics Selection\n",
    "    \n",
    "    TP : If the model predict stroke, and actual is stroke : early treatment to prevent stroke\n",
    "    TN : If the model predict false stroke, and actual is false stroke : safe\n",
    "    FP : If the model predict stroke, but actual is false stroke : panic\n",
    "    FN : If the model predict false stroke, but actual is stroke : stroke because not getting \n",
    "    an early treatment\n",
    "    \n",
    "Here I want to focus more on preveting FN, which means I will be using Recall"
   ]
  },
  {
   "cell_type": "code",
   "execution_count": 4,
   "id": "foster-hampshire",
   "metadata": {},
   "outputs": [
    {
     "data": {
      "text/plain": [
       "id                   0.00\n",
       "gender               0.00\n",
       "age                  0.00\n",
       "hypertension         0.00\n",
       "heart_disease        0.00\n",
       "ever_married         0.00\n",
       "work_type            0.00\n",
       "Residence_type       0.00\n",
       "avg_glucose_level    0.00\n",
       "bmi                  3.93\n",
       "smoking_status       0.00\n",
       "stroke               0.00\n",
       "dtype: float64"
      ]
     },
     "execution_count": 4,
     "metadata": {},
     "output_type": "execute_result"
    }
   ],
   "source": [
    "round(df.isna().sum()/len(df.index)*100, 2)"
   ]
  },
  {
   "cell_type": "code",
   "execution_count": 5,
   "id": "accepted-accident",
   "metadata": {},
   "outputs": [],
   "source": [
    "df.drop(['id'], axis = 1, inplace = True)"
   ]
  },
  {
   "cell_type": "code",
   "execution_count": 6,
   "id": "european-wedding",
   "metadata": {},
   "outputs": [],
   "source": [
    "df.drop(df.loc[df['gender']=='Other'].index, inplace=True)"
   ]
  },
  {
   "cell_type": "code",
   "execution_count": 7,
   "id": "visible-ceiling",
   "metadata": {},
   "outputs": [],
   "source": [
    "x = df.drop(['stroke'], axis = 1)\n",
    "y = df['stroke']"
   ]
  },
  {
   "cell_type": "code",
   "execution_count": 8,
   "id": "crude-renaissance",
   "metadata": {},
   "outputs": [],
   "source": [
    "x_train, x_test, y_train, y_test = train_test_split(x, y, test_size = 0.3, stratify = y, random_state = 2021)"
   ]
  },
  {
   "cell_type": "markdown",
   "id": "matched-subscriber",
   "metadata": {},
   "source": [
    "# Model Selection\n",
    "\n",
    "    DecisionTree\n",
    "    Logistric Regression\n",
    "    KNN"
   ]
  },
  {
   "cell_type": "markdown",
   "id": "geological-humor",
   "metadata": {},
   "source": [
    "    I will be making 2 different transformer base on the way I fill the missing values in BMI \n",
    "    which will be mean and median"
   ]
  },
  {
   "cell_type": "markdown",
   "id": "precious-evolution",
   "metadata": {},
   "source": [
    "# Data Preprocessing"
   ]
  },
  {
   "cell_type": "code",
   "execution_count": 9,
   "id": "tough-pennsylvania",
   "metadata": {},
   "outputs": [],
   "source": [
    "one_hot = OneHotEncoder(drop = 'first')\n",
    "binary = BinaryEncoder()\n",
    "imputer_mean = SimpleImputer(strategy = 'mean')\n",
    "imputer_medi = SimpleImputer(strategy = 'median')\n",
    "\n",
    "#MEAN IMPUTER\n",
    "transformer_mean = ColumnTransformer([\n",
    "    ('One Hot', one_hot, ['gender','ever_married','Residence_type']),\n",
    "    ('Binary', binary, ['work_type','smoking_status']),\n",
    "    ('Simple Imputer', imputer_mean, ['bmi'])\n",
    "], remainder = 'passthrough')\n",
    "\n",
    "#MEDIAN IMPUTER\n",
    "transformer_medi = ColumnTransformer([\n",
    "    ('One Hot', one_hot, ['gender','ever_married','Residence_type']),\n",
    "    ('Binary', binary, ['work_type','smoking_status']),\n",
    "    ('Simple Imputer', imputer_medi, ['bmi'])\n",
    "], remainder = 'passthrough')"
   ]
  },
  {
   "cell_type": "markdown",
   "id": "stunning-porcelain",
   "metadata": {},
   "source": [
    "# SETUP MODELS(DEFAULT)"
   ]
  },
  {
   "cell_type": "code",
   "execution_count": 10,
   "id": "choice-rider",
   "metadata": {},
   "outputs": [],
   "source": [
    "logreg = LogisticRegression(solver = 'liblinear')\n",
    "tree = DecisionTreeClassifier(random_state = 2021)\n",
    "knn = KNeighborsClassifier()"
   ]
  },
  {
   "cell_type": "markdown",
   "id": "excited-segment",
   "metadata": {},
   "source": [
    "# CROSSVALIDATE MEAN AND MEDIAN TO SEE WHICH IS BETTER"
   ]
  },
  {
   "cell_type": "code",
   "execution_count": 29,
   "id": "respective-haven",
   "metadata": {},
   "outputs": [
    {
     "data": {
      "text/html": [
       "<div>\n",
       "<style scoped>\n",
       "    .dataframe tbody tr th:only-of-type {\n",
       "        vertical-align: middle;\n",
       "    }\n",
       "\n",
       "    .dataframe tbody tr th {\n",
       "        vertical-align: top;\n",
       "    }\n",
       "\n",
       "    .dataframe thead th {\n",
       "        text-align: right;\n",
       "    }\n",
       "</style>\n",
       "<table border=\"1\" class=\"dataframe\">\n",
       "  <thead>\n",
       "    <tr style=\"text-align: right;\">\n",
       "      <th></th>\n",
       "      <th>Model</th>\n",
       "      <th>mean Imputing</th>\n",
       "      <th>median Imputing</th>\n",
       "    </tr>\n",
       "  </thead>\n",
       "  <tbody>\n",
       "    <tr>\n",
       "      <th>0</th>\n",
       "      <td>logreg</td>\n",
       "      <td>0.00</td>\n",
       "      <td>0.00</td>\n",
       "    </tr>\n",
       "    <tr>\n",
       "      <th>1</th>\n",
       "      <td>tree</td>\n",
       "      <td>0.19</td>\n",
       "      <td>0.18</td>\n",
       "    </tr>\n",
       "    <tr>\n",
       "      <th>2</th>\n",
       "      <td>knn</td>\n",
       "      <td>0.02</td>\n",
       "      <td>0.01</td>\n",
       "    </tr>\n",
       "  </tbody>\n",
       "</table>\n",
       "</div>"
      ],
      "text/plain": [
       "    Model  mean Imputing  median Imputing\n",
       "0  logreg           0.00             0.00\n",
       "1    tree           0.19             0.18\n",
       "2     knn           0.02             0.01"
      ]
     },
     "execution_count": 29,
     "metadata": {},
     "output_type": "execute_result"
    }
   ],
   "source": [
    "def model_evaluation_cv_mean_or_median():\n",
    "    model_test = [logreg, tree, knn]\n",
    "    imputing_method_name = ['mean Imputing', 'median Imputing']\n",
    "    imputing_method = [transformer_mean, transformer_medi]\n",
    "    data_comparison = pd.DataFrame({'Model' : ['logreg', 'tree', 'knn']})\n",
    "    skfold = StratifiedKFold(n_splits = 5)\n",
    "    for i in range(len(imputing_method)):\n",
    "        temp_list = []\n",
    "        for j in range(len(model_test)):\n",
    "            estimator = Pipeline([\n",
    "            ('preprocess', imputing_method[i]),\n",
    "            ('model', model_test[j])\n",
    "        ])\n",
    "            model_cv = cross_val_score(estimator, x_train, y_train, scoring = 'recall', cv = skfold)\n",
    "            temp_list.append(round(model_cv.mean(),2))\n",
    "        data_comparison[imputing_method_name[i]] = temp_list\n",
    "    return data_comparison\n",
    "\n",
    "model_evaluation_cv_mean_or_median()            "
   ]
  },
  {
   "cell_type": "markdown",
   "id": "strange-camera",
   "metadata": {},
   "source": [
    "# Conclusion for which imputer suits best? Median or Mean\n",
    "\n",
    "    Impute the missing values by Mean is better than Median. Eventhough the data is pretty skewed which mean\n",
    "    I should be using median instead, but as a performance, using Mean is much better than Median, and so\n",
    "    I will be using Mean."
   ]
  },
  {
   "cell_type": "code",
   "execution_count": 60,
   "id": "operating-chicago",
   "metadata": {},
   "outputs": [
    {
     "name": "stdout",
     "output_type": "stream",
     "text": [
      "------------------------------\n",
      "Raw Data Stroke\n",
      "\n",
      " 0    4860\n",
      "1     249\n",
      "Name: stroke, dtype: int64\n",
      "------------------------------\n",
      "Raw Data Stroke\n",
      "\n",
      " 0    3402\n",
      "1     174\n",
      "Name: stroke, dtype: int64\n",
      "------------------------------\n",
      "Raw Data Stroke\n",
      "\n",
      " 0    1458\n",
      "1      75\n",
      "Name: stroke, dtype: int64\n"
     ]
    }
   ],
   "source": [
    "target = [df['stroke'], y_train, y_test]\n",
    "for i in target:\n",
    "    print('-'*30)\n",
    "    print('Raw Data Stroke\\n\\n',i.value_counts())"
   ]
  },
  {
   "cell_type": "markdown",
   "id": "yellow-aircraft",
   "metadata": {},
   "source": [
    "# Resampling\n",
    "    \n",
    "    The difference(in quantity) between target 1 and 0 is quite huge. \n",
    "    And that might be the reason why the model performance is really low\n",
    "    Which is why resampling is needed"
   ]
  },
  {
   "cell_type": "markdown",
   "id": "extraordinary-hurricane",
   "metadata": {},
   "source": [
    "# List of resampling method"
   ]
  },
  {
   "cell_type": "code",
   "execution_count": 66,
   "id": "tired-falls",
   "metadata": {},
   "outputs": [],
   "source": [
    "randomover = RandomOverSampler(random_state = 2021)\n",
    "randomunder = RandomUnderSampler(random_state = 2021)\n",
    "smote = SMOTE(random_state = 2021)\n",
    "nearmiss = NearMiss()"
   ]
  },
  {
   "cell_type": "markdown",
   "id": "unlimited-injection",
   "metadata": {},
   "source": [
    "# QUICK FUNCTION FOR CROSSVALIDATE OVERALL MODELS"
   ]
  },
  {
   "cell_type": "code",
   "execution_count": 42,
   "id": "composite-egyptian",
   "metadata": {},
   "outputs": [
    {
     "data": {
      "text/html": [
       "<div>\n",
       "<style scoped>\n",
       "    .dataframe tbody tr th:only-of-type {\n",
       "        vertical-align: middle;\n",
       "    }\n",
       "\n",
       "    .dataframe tbody tr th {\n",
       "        vertical-align: top;\n",
       "    }\n",
       "\n",
       "    .dataframe thead th {\n",
       "        text-align: right;\n",
       "    }\n",
       "</style>\n",
       "<table border=\"1\" class=\"dataframe\">\n",
       "  <thead>\n",
       "    <tr style=\"text-align: right;\">\n",
       "      <th></th>\n",
       "      <th>Model</th>\n",
       "      <th>randomunder</th>\n",
       "      <th>randomover</th>\n",
       "      <th>smote</th>\n",
       "      <th>nearmiss</th>\n",
       "    </tr>\n",
       "  </thead>\n",
       "  <tbody>\n",
       "    <tr>\n",
       "      <th>0</th>\n",
       "      <td>logreg</td>\n",
       "      <td>0.77</td>\n",
       "      <td>0.78</td>\n",
       "      <td>0.79</td>\n",
       "      <td>0.59</td>\n",
       "    </tr>\n",
       "    <tr>\n",
       "      <th>1</th>\n",
       "      <td>tree</td>\n",
       "      <td>0.68</td>\n",
       "      <td>0.11</td>\n",
       "      <td>0.16</td>\n",
       "      <td>0.75</td>\n",
       "    </tr>\n",
       "    <tr>\n",
       "      <th>2</th>\n",
       "      <td>knn</td>\n",
       "      <td>0.82</td>\n",
       "      <td>0.35</td>\n",
       "      <td>0.51</td>\n",
       "      <td>0.60</td>\n",
       "    </tr>\n",
       "  </tbody>\n",
       "</table>\n",
       "</div>"
      ],
      "text/plain": [
       "    Model  randomunder  randomover  smote  nearmiss\n",
       "0  logreg         0.77        0.78   0.79      0.59\n",
       "1    tree         0.68        0.11   0.16      0.75\n",
       "2     knn         0.82        0.35   0.51      0.60"
      ]
     },
     "execution_count": 42,
     "metadata": {},
     "output_type": "execute_result"
    }
   ],
   "source": [
    "def model_evaluation_cv_mean_overall():\n",
    "    model_test = [logreg, tree, knn]\n",
    "    imbalance_method = [randomunder, randomover, smote, nearmiss]\n",
    "    imbalance_method_name = ['randomunder', 'randomover', 'smote', 'nearmiss']\n",
    "    data_comparison = pd.DataFrame({'Model' : ['logreg', 'tree', 'knn']})\n",
    "    skfold = StratifiedKFold(n_splits = 5)\n",
    "    for i in range(len(imbalance_method)):\n",
    "        temp_list = []\n",
    "        for j in range(len(model_test)):\n",
    "            estimator = Pipeline([\n",
    "            ('preprocess', transformer_mean),\n",
    "            ('balancing', imbalance_method[i]),\n",
    "            ('model', model_test[j])\n",
    "        ])\n",
    "            model_cv = cross_val_score(estimator, x_train, y_train, scoring = 'recall', cv = skfold)\n",
    "            temp_list.append(round(model_cv.mean(),2))\n",
    "        data_comparison[imbalance_method_name[i]] = temp_list\n",
    "    return data_comparison\n",
    "\n",
    "model_evaluation_cv_mean_overall()            "
   ]
  },
  {
   "cell_type": "markdown",
   "id": "opened-national",
   "metadata": {},
   "source": [
    "# QUICK FUNCTION FOR PREDICT TEST OVERALL MODELS"
   ]
  },
  {
   "cell_type": "code",
   "execution_count": 55,
   "id": "driving-belle",
   "metadata": {},
   "outputs": [
    {
     "data": {
      "text/html": [
       "<div>\n",
       "<style scoped>\n",
       "    .dataframe tbody tr th:only-of-type {\n",
       "        vertical-align: middle;\n",
       "    }\n",
       "\n",
       "    .dataframe tbody tr th {\n",
       "        vertical-align: top;\n",
       "    }\n",
       "\n",
       "    .dataframe thead th {\n",
       "        text-align: right;\n",
       "    }\n",
       "</style>\n",
       "<table border=\"1\" class=\"dataframe\">\n",
       "  <thead>\n",
       "    <tr style=\"text-align: right;\">\n",
       "      <th></th>\n",
       "      <th>Model</th>\n",
       "      <th>randomunder</th>\n",
       "      <th>randomover</th>\n",
       "      <th>smote</th>\n",
       "      <th>nearmiss</th>\n",
       "    </tr>\n",
       "  </thead>\n",
       "  <tbody>\n",
       "    <tr>\n",
       "      <th>0</th>\n",
       "      <td>logreg</td>\n",
       "      <td>0.85</td>\n",
       "      <td>0.88</td>\n",
       "      <td>0.83</td>\n",
       "      <td>0.63</td>\n",
       "    </tr>\n",
       "    <tr>\n",
       "      <th>1</th>\n",
       "      <td>tree</td>\n",
       "      <td>0.73</td>\n",
       "      <td>0.17</td>\n",
       "      <td>0.12</td>\n",
       "      <td>0.68</td>\n",
       "    </tr>\n",
       "    <tr>\n",
       "      <th>2</th>\n",
       "      <td>knn</td>\n",
       "      <td>0.85</td>\n",
       "      <td>0.37</td>\n",
       "      <td>0.59</td>\n",
       "      <td>0.63</td>\n",
       "    </tr>\n",
       "  </tbody>\n",
       "</table>\n",
       "</div>"
      ],
      "text/plain": [
       "    Model  randomunder  randomover  smote  nearmiss\n",
       "0  logreg         0.85        0.88   0.83      0.63\n",
       "1    tree         0.73        0.17   0.12      0.68\n",
       "2     knn         0.85        0.37   0.59      0.63"
      ]
     },
     "execution_count": 55,
     "metadata": {},
     "output_type": "execute_result"
    }
   ],
   "source": [
    "def overall_func():\n",
    "    model_test = [logreg, tree, knn]\n",
    "    imbalance_method = [randomunder, randomover, smote, nearmiss]\n",
    "    imbalance_method_name = ['randomunder', 'randomover', 'smote', 'nearmiss']\n",
    "    data_comparison = pd.DataFrame({'Model' : ['logreg', 'tree', 'knn']})\n",
    "    for i in range(len(imbalance_method)):\n",
    "        temp_list = []\n",
    "        for j in range(len(model_test)):\n",
    "            estimator = Pipeline([\n",
    "                ('transformer', transformer_mean),\n",
    "                ('balancing', imbalance_method[i]),\n",
    "                ('model', model_test[j])])\n",
    "            estimator.fit(x_train, y_train)\n",
    "            y_pred = estimator.predict(x_test)\n",
    "            temp_list.append(round(recall_score(y_test, y_pred),2))\n",
    "        data_comparison[imbalance_method_name[i]] = temp_list\n",
    "    return data_comparison\n",
    "overall_func()"
   ]
  },
  {
   "cell_type": "markdown",
   "id": "honest-investing",
   "metadata": {},
   "source": [
    "# MODEL PERFORMANCE CROSSVALIDATE -> PREDICT TEST"
   ]
  },
  {
   "cell_type": "markdown",
   "id": "cutting-gibson",
   "metadata": {},
   "source": [
    "    \n",
    "    RANDOM UNDER :\n",
    "        logreg : 0.77 -> 0.85 difference +(0.08)\n",
    "        tree : 0.68 -> 0.73 difference +(0.06)\n",
    "        knn : 0.82 -> 0.85 difference +(0.03)\n",
    "    RANDOM OVER :\n",
    "        logreg : 0.78 -> 0.88 difference +(0.1)\n",
    "        tree : 0.11 -> 0.17 difference +(0.06)\n",
    "        knn : 0.35 -> 0.37 difference +(0.02)\n",
    "    SMOTE :\n",
    "        logreg : 0.77 -> 0.83 difference +(0.05)\n",
    "        tree : 0.16 -> 0.12 difference -(0.04)\n",
    "        knn : 0.51 -> 0.59 difference +(0.08)\n",
    "    NEARMISS :\n",
    "        logreg : 0.59 -> 0.63 difference +(0.04)\n",
    "        tree : 0.75 -> 0.68 difference -(0.07)\n",
    "        knn : 0.60 -> 0.63 difference +(0.03)\n",
    "        \n",
    "# Overall Best among the rest goes to Random Over Logreg with score of 0.88"
   ]
  },
  {
   "cell_type": "code",
   "execution_count": 56,
   "id": "interested-investigator",
   "metadata": {},
   "outputs": [
    {
     "data": {
      "text/plain": [
       "<AxesSubplot:xlabel='bmi'>"
      ]
     },
     "execution_count": 56,
     "metadata": {},
     "output_type": "execute_result"
    },
    {
     "data": {
      "image/png": "[encoded data removed]",
      "text/plain": [
       "<Figure size 576x504 with 1 Axes>"
      ]
     },
     "metadata": {},
     "output_type": "display_data"
    }
   ],
   "source": [
    "sns.boxplot(data = df, x = df['bmi'])"
   ]
  },
  {
   "cell_type": "code",
   "execution_count": 57,
   "id": "weighted-modification",
   "metadata": {},
   "outputs": [
    {
     "data": {
      "text/plain": [
       "<AxesSubplot:xlabel='avg_glucose_level'>"
      ]
     },
     "execution_count": 57,
     "metadata": {},
     "output_type": "execute_result"
    },
    {
     "data": {
      "image/png": "[encoded data removed]",
      "text/plain": [
       "<Figure size 576x504 with 1 Axes>"
      ]
     },
     "metadata": {},
     "output_type": "display_data"
    }
   ],
   "source": [
    "sns.boxplot(data = df, x = df['avg_glucose_level'])"
   ]
  },
  {
   "cell_type": "markdown",
   "id": "entitled-celtic",
   "metadata": {},
   "source": [
    "# SCALING\n",
    "\n",
    "    Robust, reasons : BMI and AVG glucose contains outliers"
   ]
  },
  {
   "cell_type": "code",
   "execution_count": 62,
   "id": "authentic-sampling",
   "metadata": {},
   "outputs": [],
   "source": [
    "scale_pipe = Pipeline([\n",
    "    ('Simple Imputer',SimpleImputer(strategy = 'mean')),\n",
    "    ('Scaling', RobustScaler())\n",
    "])\n",
    "transformer_mean_logreg_scaling = ColumnTransformer([\n",
    "    ('One Hot', one_hot, ['gender','ever_married','Residence_type']),\n",
    "    ('Binary', binary, ['work_type','smoking_status']),\n",
    "    ('Scaling', scale_pipe, ['bmi','avg_glucose_level'])\n",
    "], remainder = 'passthrough')\n",
    "\n",
    "transformer_mean_logreg = ColumnTransformer([\n",
    "    ('One Hot', one_hot, ['gender','ever_married','Residence_type']),\n",
    "    ('Binary', binary, ['work_type','smoking_status']),\n",
    "    ('Simple Imputer', SimpleImputer(strategy = 'mean'), ['bmi'])\n",
    "], remainder = 'passthrough')"
   ]
  },
  {
   "cell_type": "code",
   "execution_count": 71,
   "id": "enormous-mouth",
   "metadata": {},
   "outputs": [
    {
     "data": {
      "text/html": [
       "<div>\n",
       "<style scoped>\n",
       "    .dataframe tbody tr th:only-of-type {\n",
       "        vertical-align: middle;\n",
       "    }\n",
       "\n",
       "    .dataframe tbody tr th {\n",
       "        vertical-align: top;\n",
       "    }\n",
       "\n",
       "    .dataframe thead th {\n",
       "        text-align: right;\n",
       "    }\n",
       "</style>\n",
       "<table border=\"1\" class=\"dataframe\">\n",
       "  <thead>\n",
       "    <tr style=\"text-align: right;\">\n",
       "      <th></th>\n",
       "      <th>Model</th>\n",
       "      <th>With Scaling</th>\n",
       "      <th>Without Scaling</th>\n",
       "    </tr>\n",
       "  </thead>\n",
       "  <tbody>\n",
       "    <tr>\n",
       "      <th>0</th>\n",
       "      <td>logreg</td>\n",
       "      <td>0.78756</td>\n",
       "      <td>0.78168</td>\n",
       "    </tr>\n",
       "  </tbody>\n",
       "</table>\n",
       "</div>"
      ],
      "text/plain": [
       "    Model  With Scaling  Without Scaling\n",
       "0  logreg       0.78756          0.78168"
      ]
     },
     "execution_count": 71,
     "metadata": {},
     "output_type": "execute_result"
    }
   ],
   "source": [
    "def model_evaluation_cv_mean_overall_logreg():\n",
    "    model_test = [logreg]\n",
    "    scaling_method = [transformer_mean_logreg_scaling, transformer_mean_logreg]\n",
    "    scaling_method_name = ['With Scaling', 'Without Scaling']\n",
    "    data_comparison = pd.DataFrame({'Model' : ['logreg']})\n",
    "    skfold = StratifiedKFold(n_splits = 5)\n",
    "    for i in range(len(scaling_method)):\n",
    "        temp_list = []\n",
    "        for j in range(len(model_test)):\n",
    "            estimator = Pipeline([\n",
    "            ('preprocess', scaling_method[i]),\n",
    "            ('balancing', randomover),\n",
    "            ('model', model_test[j])\n",
    "        ])\n",
    "            model_cv = cross_val_score(estimator, x_train, y_train, scoring = 'recall', cv = skfold)\n",
    "            temp_list.append(round(model_cv.mean(),5))\n",
    "        data_comparison[scaling_method_name[i]] = temp_list\n",
    "    return data_comparison\n",
    "\n",
    "model_evaluation_cv_mean_overall_logreg()            "
   ]
  },
  {
   "cell_type": "code",
   "execution_count": 70,
   "id": "developing-better",
   "metadata": {},
   "outputs": [
    {
     "data": {
      "text/html": [
       "<div>\n",
       "<style scoped>\n",
       "    .dataframe tbody tr th:only-of-type {\n",
       "        vertical-align: middle;\n",
       "    }\n",
       "\n",
       "    .dataframe tbody tr th {\n",
       "        vertical-align: top;\n",
       "    }\n",
       "\n",
       "    .dataframe thead th {\n",
       "        text-align: right;\n",
       "    }\n",
       "</style>\n",
       "<table border=\"1\" class=\"dataframe\">\n",
       "  <thead>\n",
       "    <tr style=\"text-align: right;\">\n",
       "      <th></th>\n",
       "      <th>Model</th>\n",
       "      <th>With Scaling</th>\n",
       "      <th>Without Scaling</th>\n",
       "    </tr>\n",
       "  </thead>\n",
       "  <tbody>\n",
       "    <tr>\n",
       "      <th>0</th>\n",
       "      <td>logreg</td>\n",
       "      <td>0.88</td>\n",
       "      <td>0.88</td>\n",
       "    </tr>\n",
       "  </tbody>\n",
       "</table>\n",
       "</div>"
      ],
      "text/plain": [
       "    Model  With Scaling  Without Scaling\n",
       "0  logreg          0.88             0.88"
      ]
     },
     "execution_count": 70,
     "metadata": {},
     "output_type": "execute_result"
    }
   ],
   "source": [
    "def overall_func_logreg():\n",
    "    model_test = [logreg]\n",
    "    scaling_method = [transformer_mean_logreg_scaling, transformer_mean_logreg]\n",
    "    scaling_method_name = ['With Scaling', 'Without Scaling']\n",
    "    data_comparison = pd.DataFrame({'Model' : ['logreg']})\n",
    "    for i in range(len(scaling_method)):\n",
    "        temp_list = []\n",
    "        for j in range(len(model_test)):\n",
    "            estimator = Pipeline([\n",
    "                ('transformer', transformer_mean_logreg),\n",
    "                ('balancing', randomover),\n",
    "                ('model', model_test[j])])\n",
    "            estimator.fit(x_train, y_train)\n",
    "            y_pred = estimator.predict(x_test)\n",
    "            temp_list.append(recall_score(y_test, y_pred))\n",
    "        data_comparison[scaling_method_name[i]] = temp_list\n",
    "    return data_comparison\n",
    "overall_func_logreg()"
   ]
  },
  {
   "cell_type": "markdown",
   "id": "resident-martin",
   "metadata": {},
   "source": [
    "# Last test for model improvement before Hyperparameter Tuning : Polynomial on LogReg"
   ]
  },
  {
   "cell_type": "code",
   "execution_count": 88,
   "id": "chemical-schema",
   "metadata": {},
   "outputs": [],
   "source": [
    "poly_scale = Pipeline([\n",
    "    ('Simple Imputer',SimpleImputer(strategy = 'mean')),\n",
    "    ('Poly', PolynomialFeatures(degree = 1, interaction_only = False, include_bias = False)),\n",
    "    ('Scaling', RobustScaler())\n",
    "])\n",
    "transformer_mean_logreg = ColumnTransformer([\n",
    "    ('One Hot', one_hot, ['gender','ever_married','Residence_type']),\n",
    "    ('Binary', binary, ['work_type','smoking_status']),\n",
    "    ('PolynomialRobust', poly_scale, ['bmi','avg_glucose_level'])\n",
    "], remainder = 'passthrough')"
   ]
  },
  {
   "cell_type": "code",
   "execution_count": 89,
   "id": "expanded-girlfriend",
   "metadata": {},
   "outputs": [],
   "source": [
    "estimator = Pipeline([\n",
    "    ('preprocess', transformer_mean_logreg),\n",
    "    ('balancing', randomover),\n",
    "    ('model', logreg)\n",
    "])\n",
    "hyperparam_space =[{\n",
    "    'preprocess__PolynomialRobust__Poly__degree' : [1, 2,3, 4, 6, 7, 8, 9, 10]}\n",
    "]"
   ]
  },
  {
   "cell_type": "code",
   "execution_count": 90,
   "id": "wooden-daniel",
   "metadata": {},
   "outputs": [],
   "source": [
    "skfold = StratifiedKFold(n_splits = 5)\n",
    "grid_search = GridSearchCV(estimator, param_grid = hyperparam_space, cv = skfold, scoring = 'recall', n_jobs = -1)"
   ]
  },
  {
   "cell_type": "code",
   "execution_count": 91,
   "id": "scenic-maryland",
   "metadata": {},
   "outputs": [
    {
     "name": "stdout",
     "output_type": "stream",
     "text": [
      "best score  0.7988235294117648\n",
      "best score  {'preprocess__PolynomialRobust__Poly__degree': 4}\n"
     ]
    }
   ],
   "source": [
    "grid_search.fit(x_train, y_train)\n",
    "print('best score ', grid_search.best_score_)\n",
    "print('best score ', grid_search.best_params_)"
   ]
  },
  {
   "cell_type": "code",
   "execution_count": 92,
   "id": "august-inspiration",
   "metadata": {},
   "outputs": [
    {
     "name": "stdout",
     "output_type": "stream",
     "text": [
      "              precision    recall  f1-score   support\n",
      "\n",
      "           0       0.99      0.71      0.82      1458\n",
      "           1       0.12      0.81      0.22        75\n",
      "\n",
      "    accuracy                           0.71      1533\n",
      "   macro avg       0.56      0.76      0.52      1533\n",
      "weighted avg       0.94      0.71      0.79      1533\n",
      "\n"
     ]
    }
   ],
   "source": [
    "y_pred = grid_search.best_estimator_.predict(x_test)\n",
    "print(classification_report(y_test, y_pred))"
   ]
  },
  {
   "cell_type": "markdown",
   "id": "clear-winner",
   "metadata": {},
   "source": [
    "# BEST DEGREE OVERALL GOES TO DEGREE 4\n",
    "\n",
    "    But because the performance is not as good as(no significant improvement) \n",
    "    without using polynomial, I won't be using it"
   ]
  },
  {
   "cell_type": "markdown",
   "id": "supposed-trust",
   "metadata": {},
   "source": [
    "# What do we learn so far\n",
    "\n",
    "    Scaling slighty improve Logreg perfomance by 0.006\n",
    "    \n",
    "    Polynomial does slighty improve the model 0.01 during crossvalidating but not as good as\n",
    "    without one when test predict"
   ]
  },
  {
   "cell_type": "markdown",
   "id": "dynamic-horse",
   "metadata": {},
   "source": [
    "# HYPERPARAMETER TUNING"
   ]
  },
  {
   "cell_type": "code",
   "execution_count": 99,
   "id": "lasting-bahrain",
   "metadata": {},
   "outputs": [],
   "source": [
    "impute = Pipeline([\n",
    "    ('Simple Imputer',SimpleImputer(strategy = 'mean'))\n",
    "])\n",
    "transformer_mean = ColumnTransformer([\n",
    "    ('One Hot', one_hot, ['gender','ever_married','Residence_type']),\n",
    "    ('Binary', binary, ['work_type','smoking_status']),\n",
    "    ('Simple Imputer', impute, ['bmi','avg_glucose_level'])\n",
    "], remainder = 'passthrough')"
   ]
  },
  {
   "cell_type": "code",
   "execution_count": 100,
   "id": "acquired-composition",
   "metadata": {},
   "outputs": [],
   "source": [
    "estimator = Pipeline([\n",
    "    ('preprocess', transformer_mean),\n",
    "    ('balancing', randomover),\n",
    "    ('model', logreg)\n",
    "])\n",
    "\n",
    "hyperparam_space =[{\n",
    "    'model__solver':['newton-cg', 'lbfgs', 'liblinear', 'sag', 'saga'], \n",
    "    'model__C' : [0.001, 0.01, 0.1, 1, 10, 100, 1000]}\n",
    "]"
   ]
  },
  {
   "cell_type": "code",
   "execution_count": 101,
   "id": "answering-smile",
   "metadata": {},
   "outputs": [],
   "source": [
    "skfold = StratifiedKFold(n_splits = 5)\n",
    "grid_search = GridSearchCV(estimator, param_grid = hyperparam_space, cv = skfold, scoring = 'recall', n_jobs = -1)"
   ]
  },
  {
   "cell_type": "code",
   "execution_count": 102,
   "id": "classified-equilibrium",
   "metadata": {},
   "outputs": [
    {
     "name": "stdout",
     "output_type": "stream",
     "text": [
      "best score  0.7932773109243698\n",
      "best score  {'model__C': 0.1, 'model__solver': 'newton-cg'}\n"
     ]
    }
   ],
   "source": [
    "grid_search.fit(x_train, y_train)\n",
    "print('best score ', grid_search.best_score_)\n",
    "print('best score ', grid_search.best_params_)"
   ]
  },
  {
   "cell_type": "code",
   "execution_count": 103,
   "id": "naval-pacific",
   "metadata": {},
   "outputs": [
    {
     "name": "stdout",
     "output_type": "stream",
     "text": [
      "              precision    recall  f1-score   support\n",
      "\n",
      "           0       0.99      0.71      0.83      1458\n",
      "           1       0.13      0.88      0.23        75\n",
      "\n",
      "    accuracy                           0.72      1533\n",
      "   macro avg       0.56      0.79      0.53      1533\n",
      "weighted avg       0.95      0.72      0.80      1533\n",
      "\n"
     ]
    }
   ],
   "source": [
    "y_pred = grid_search.best_estimator_.predict(x_test)\n",
    "print(classification_report(y_test, y_pred))"
   ]
  },
  {
   "cell_type": "code",
   "execution_count": 104,
   "id": "social-humanitarian",
   "metadata": {},
   "outputs": [
    {
     "data": {
      "text/html": [
       "<div>\n",
       "<style scoped>\n",
       "    .dataframe tbody tr th:only-of-type {\n",
       "        vertical-align: middle;\n",
       "    }\n",
       "\n",
       "    .dataframe tbody tr th {\n",
       "        vertical-align: top;\n",
       "    }\n",
       "\n",
       "    .dataframe thead th {\n",
       "        text-align: right;\n",
       "    }\n",
       "</style>\n",
       "<table border=\"1\" class=\"dataframe\">\n",
       "  <thead>\n",
       "    <tr style=\"text-align: right;\">\n",
       "      <th></th>\n",
       "      <th>Predictions 0 Good</th>\n",
       "      <th>Predictions 1 Bad</th>\n",
       "    </tr>\n",
       "  </thead>\n",
       "  <tbody>\n",
       "    <tr>\n",
       "      <th>0</th>\n",
       "      <td>1033</td>\n",
       "      <td>425</td>\n",
       "    </tr>\n",
       "    <tr>\n",
       "      <th>1</th>\n",
       "      <td>9</td>\n",
       "      <td>66</td>\n",
       "    </tr>\n",
       "  </tbody>\n",
       "</table>\n",
       "</div>"
      ],
      "text/plain": [
       "   Predictions 0 Good  Predictions 1 Bad\n",
       "0                1033                425\n",
       "1                   9                 66"
      ]
     },
     "execution_count": 104,
     "metadata": {},
     "output_type": "execute_result"
    }
   ],
   "source": [
    "pd.DataFrame(confusion_matrix(y_test, y_pred), columns=['Predictions 0 Good', 'Predictions 1 Bad'])"
   ]
  },
  {
   "cell_type": "code",
   "execution_count": 105,
   "id": "ahead-convert",
   "metadata": {},
   "outputs": [
    {
     "data": {
      "text/plain": [
       "(<sklearn.metrics._plot.precision_recall_curve.PrecisionRecallDisplay at 0x257d5d6f288>,\n",
       " <sklearn.metrics._plot.roc_curve.RocCurveDisplay at 0x257d649e788>)"
      ]
     },
     "execution_count": 105,
     "metadata": {},
     "output_type": "execute_result"
    },
    {
     "data": {
      "image/png": "[encoded data removed]",
      "text/plain": [
       "<Figure size 576x504 with 1 Axes>"
      ]
     },
     "metadata": {},
     "output_type": "display_data"
    },
    {
     "data": {
      "image/png": "[encoded data removed]",
      "text/plain": [
       "<Figure size 576x504 with 1 Axes>"
      ]
     },
     "metadata": {},
     "output_type": "display_data"
    }
   ],
   "source": [
    "plot_precision_recall_curve(grid_search.best_estimator_, x_test, y_test), plot_roc_curve(grid_search.best_estimator_, x_test, y_test)"
   ]
  },
  {
   "cell_type": "markdown",
   "id": "stuck-campbell",
   "metadata": {},
   "source": [
    "# CONCLUSION ON WHAT MODEL AND METHOD TO PICK\n",
    "\n",
    "    I will be using randomover without any scaling using params \n",
    "         model__C : 0.1 \n",
    "         model__solver : netwon-sg \n",
    "    with the score of 0.88 on recall and 0.72 accuracy\n",
    "    \n",
    "    Reason for me to decide why I use this as my predictive model eventhough scaling has a higher perfomance during\n",
    "    crossvalidating was because the difference wasn't that much (0.006), and without scaling, the speed\n",
    "    perfomance would be much lighter and faster, and so I use RandomOver without scaling instead."
   ]
  },
  {
   "cell_type": "markdown",
   "id": "talented-gnome",
   "metadata": {},
   "source": [
    "# CHECKING FOR FEATURE SELECTION"
   ]
  },
  {
   "cell_type": "code",
   "execution_count": 106,
   "id": "framed-pillow",
   "metadata": {},
   "outputs": [
    {
     "data": {
      "text/plain": [
       "Pipeline(steps=[('preprocess',\n",
       "                 ColumnTransformer(remainder='passthrough',\n",
       "                                   transformers=[('One Hot',\n",
       "                                                  OneHotEncoder(drop='first'),\n",
       "                                                  ['gender', 'ever_married',\n",
       "                                                   'Residence_type']),\n",
       "                                                 ('Binary', BinaryEncoder(),\n",
       "                                                  ['work_type',\n",
       "                                                   'smoking_status']),\n",
       "                                                 ('Simple Imputer',\n",
       "                                                  Pipeline(steps=[('Simple '\n",
       "                                                                   'Imputer',\n",
       "                                                                   SimpleImputer())]),\n",
       "                                                  ['bmi',\n",
       "                                                   'avg_glucose_level'])])),\n",
       "                ('balancing', RandomOverSampler(random_state=2021)),\n",
       "                ('model', LogisticRegression(C=0.1, solver='newton-cg'))])"
      ]
     },
     "execution_count": 106,
     "metadata": {},
     "output_type": "execute_result"
    }
   ],
   "source": [
    "grid_search.best_estimator_"
   ]
  },
  {
   "cell_type": "code",
   "execution_count": 107,
   "id": "muslim-mistress",
   "metadata": {},
   "outputs": [
    {
     "data": {
      "text/plain": [
       "['x0_Male', 'x1_Yes', 'x2_Urban']"
      ]
     },
     "execution_count": 107,
     "metadata": {},
     "output_type": "execute_result"
    }
   ],
   "source": [
    "list(grid_search.best_estimator_[0].transformers_[0][1].get_feature_names())"
   ]
  },
  {
   "cell_type": "code",
   "execution_count": 108,
   "id": "valid-easter",
   "metadata": {},
   "outputs": [
    {
     "data": {
      "text/plain": [
       "['work_type_0',\n",
       " 'work_type_1',\n",
       " 'work_type_2',\n",
       " 'work_type_3',\n",
       " 'smoking_status_0',\n",
       " 'smoking_status_1',\n",
       " 'smoking_status_2']"
      ]
     },
     "execution_count": 108,
     "metadata": {},
     "output_type": "execute_result"
    }
   ],
   "source": [
    "grid_search.best_estimator_[0].transformers_[1][1].get_feature_names()"
   ]
  },
  {
   "cell_type": "code",
   "execution_count": 109,
   "id": "previous-scholarship",
   "metadata": {},
   "outputs": [
    {
     "data": {
      "text/plain": [
       "['bmi', 'avg_glucose_level']"
      ]
     },
     "execution_count": 109,
     "metadata": {},
     "output_type": "execute_result"
    }
   ],
   "source": [
    "grid_search.best_estimator_[0].transformers_[2][2]"
   ]
  },
  {
   "cell_type": "code",
   "execution_count": 110,
   "id": "supported-morrison",
   "metadata": {},
   "outputs": [],
   "source": [
    "feature = list(grid_search.best_estimator_[0].transformers_[0][1].get_feature_names()) + grid_search.best_estimator_[0].transformers_[1][1].get_feature_names() + grid_search.best_estimator_[0].transformers_[2][2] + ['age','hypertension','heart_disease']"
   ]
  },
  {
   "cell_type": "code",
   "execution_count": 111,
   "id": "expensive-valve",
   "metadata": {},
   "outputs": [
    {
     "data": {
      "text/html": [
       "<div>\n",
       "<style scoped>\n",
       "    .dataframe tbody tr th:only-of-type {\n",
       "        vertical-align: middle;\n",
       "    }\n",
       "\n",
       "    .dataframe tbody tr th {\n",
       "        vertical-align: top;\n",
       "    }\n",
       "\n",
       "    .dataframe thead th {\n",
       "        text-align: right;\n",
       "    }\n",
       "</style>\n",
       "<table border=\"1\" class=\"dataframe\">\n",
       "  <thead>\n",
       "    <tr style=\"text-align: right;\">\n",
       "      <th></th>\n",
       "      <th>coef</th>\n",
       "    </tr>\n",
       "    <tr>\n",
       "      <th>index</th>\n",
       "      <th></th>\n",
       "    </tr>\n",
       "  </thead>\n",
       "  <tbody>\n",
       "    <tr>\n",
       "      <th>hypertension</th>\n",
       "      <td>0.548416</td>\n",
       "    </tr>\n",
       "    <tr>\n",
       "      <th>work_type_1</th>\n",
       "      <td>0.495963</td>\n",
       "    </tr>\n",
       "    <tr>\n",
       "      <th>smoking_status_0</th>\n",
       "      <td>0.406593</td>\n",
       "    </tr>\n",
       "    <tr>\n",
       "      <th>heart_disease</th>\n",
       "      <td>0.217135</td>\n",
       "    </tr>\n",
       "    <tr>\n",
       "      <th>smoking_status_1</th>\n",
       "      <td>0.116996</td>\n",
       "    </tr>\n",
       "    <tr>\n",
       "      <th>age</th>\n",
       "      <td>0.080335</td>\n",
       "    </tr>\n",
       "    <tr>\n",
       "      <th>bmi</th>\n",
       "      <td>0.015721</td>\n",
       "    </tr>\n",
       "    <tr>\n",
       "      <th>x2_Urban</th>\n",
       "      <td>0.009898</td>\n",
       "    </tr>\n",
       "    <tr>\n",
       "      <th>x1_Yes</th>\n",
       "      <td>0.004013</td>\n",
       "    </tr>\n",
       "    <tr>\n",
       "      <th>avg_glucose_level</th>\n",
       "      <td>0.002401</td>\n",
       "    </tr>\n",
       "    <tr>\n",
       "      <th>work_type_0</th>\n",
       "      <td>0.000000</td>\n",
       "    </tr>\n",
       "    <tr>\n",
       "      <th>work_type_2</th>\n",
       "      <td>-0.040521</td>\n",
       "    </tr>\n",
       "    <tr>\n",
       "      <th>x0_Male</th>\n",
       "      <td>-0.050463</td>\n",
       "    </tr>\n",
       "    <tr>\n",
       "      <th>smoking_status_2</th>\n",
       "      <td>-0.065571</td>\n",
       "    </tr>\n",
       "    <tr>\n",
       "      <th>work_type_3</th>\n",
       "      <td>-0.405213</td>\n",
       "    </tr>\n",
       "  </tbody>\n",
       "</table>\n",
       "</div>"
      ],
      "text/plain": [
       "                       coef\n",
       "index                      \n",
       "hypertension       0.548416\n",
       "work_type_1        0.495963\n",
       "smoking_status_0   0.406593\n",
       "heart_disease      0.217135\n",
       "smoking_status_1   0.116996\n",
       "age                0.080335\n",
       "bmi                0.015721\n",
       "x2_Urban           0.009898\n",
       "x1_Yes             0.004013\n",
       "avg_glucose_level  0.002401\n",
       "work_type_0        0.000000\n",
       "work_type_2       -0.040521\n",
       "x0_Male           -0.050463\n",
       "smoking_status_2  -0.065571\n",
       "work_type_3       -0.405213"
      ]
     },
     "execution_count": 111,
     "metadata": {},
     "output_type": "execute_result"
    }
   ],
   "source": [
    "coef_tab = pd.DataFrame({'index' : feature, 'coef': grid_search.best_estimator_[2].coef_.flatten()}).set_index('index').sort_values('coef', ascending= False)\n",
    "coef_tab"
   ]
  },
  {
   "cell_type": "code",
   "execution_count": 121,
   "id": "knowing-conviction",
   "metadata": {
    "scrolled": false
   },
   "outputs": [
    {
     "data": {
      "text/plain": [
       "<AxesSubplot:ylabel='index'>"
      ]
     },
     "execution_count": 121,
     "metadata": {},
     "output_type": "execute_result"
    },
    {
     "data": {
      "image/png": "[encoded data removed]",
      "text/plain": [
       "<Figure size 720x720 with 1 Axes>"
      ]
     },
     "metadata": {},
     "output_type": "display_data"
    }
   ],
   "source": [
    "coef_tab.plot(kind= 'barh',figsize=(10,10))"
   ]
  },
  {
   "cell_type": "markdown",
   "id": "alpine-arkansas",
   "metadata": {},
   "source": [
    "# ###########################################################################"
   ]
  }
 ],
 "metadata": {
  "kernelspec": {
   "display_name": "Python 3",
   "language": "python",
   "name": "python3"
  },
  "language_info": {
   "codemirror_mode": {
    "name": "ipython",
    "version": 3
   },
   "file_extension": ".py",
   "mimetype": "text/x-python",
   "name": "python",
   "nbconvert_exporter": "python",
   "pygments_lexer": "ipython3",
   "version": "3.7.9"
  }
 },
 "nbformat": 4,
 "nbformat_minor": 5
}
