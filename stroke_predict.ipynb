{
 "cells": [
  {
   "cell_type": "code",
   "execution_count": 109,
   "id": "closed-joining",
   "metadata": {},
   "outputs": [],
   "source": [
    "import pandas as pd\n",
    "import numpy as np\n",
    "import seaborn as sns\n",
    "import matplotlib.pyplot as plt\n",
    "from jupyterthemes import jtplot\n",
    "jtplot.style(theme = 'monokai', context = 'notebook',ticks=True, grid=False)\n",
    "import warnings\n",
    "warnings.filterwarnings('ignore')\n",
    "#models\n",
    "from sklearn.linear_model import LogisticRegression\n",
    "from sklearn.tree import DecisionTreeClassifier, plot_tree\n",
    "from sklearn.neighbors import KNeighborsClassifier\n",
    "#feature engineering\n",
    "from sklearn.impute import SimpleImputer\n",
    "from sklearn.pipeline import Pipeline\n",
    "from imblearn.pipeline import Pipeline\n",
    "from category_encoders import BinaryEncoder\n",
    "from sklearn.preprocessing import OneHotEncoder, PolynomialFeatures, RobustScaler\n",
    "from sklearn.compose import ColumnTransformer\n",
    "from imblearn.over_sampling import SMOTE, RandomOverSampler\n",
    "from imblearn.under_sampling import RandomUnderSampler, NearMiss\n",
    "#evaluation\n",
    "from sklearn.model_selection import train_test_split, cross_val_score, GridSearchCV, StratifiedKFold\n",
    "from sklearn.metrics import f1_score, recall_score, precision_score, accuracy_score, classification_report\n",
    "#saving models\n",
    "import pickle"
   ]
  },
  {
   "cell_type": "code",
   "execution_count": 2,
   "id": "piano-chart",
   "metadata": {},
   "outputs": [
    {
     "data": {
      "text/html": [
       "<div>\n",
       "<style scoped>\n",
       "    .dataframe tbody tr th:only-of-type {\n",
       "        vertical-align: middle;\n",
       "    }\n",
       "\n",
       "    .dataframe tbody tr th {\n",
       "        vertical-align: top;\n",
       "    }\n",
       "\n",
       "    .dataframe thead th {\n",
       "        text-align: right;\n",
       "    }\n",
       "</style>\n",
       "<table border=\"1\" class=\"dataframe\">\n",
       "  <thead>\n",
       "    <tr style=\"text-align: right;\">\n",
       "      <th></th>\n",
       "      <th>id</th>\n",
       "      <th>gender</th>\n",
       "      <th>age</th>\n",
       "      <th>hypertension</th>\n",
       "      <th>heart_disease</th>\n",
       "      <th>ever_married</th>\n",
       "      <th>work_type</th>\n",
       "      <th>Residence_type</th>\n",
       "      <th>avg_glucose_level</th>\n",
       "      <th>bmi</th>\n",
       "      <th>smoking_status</th>\n",
       "      <th>stroke</th>\n",
       "    </tr>\n",
       "  </thead>\n",
       "  <tbody>\n",
       "    <tr>\n",
       "      <th>0</th>\n",
       "      <td>9046</td>\n",
       "      <td>Male</td>\n",
       "      <td>67.0</td>\n",
       "      <td>0</td>\n",
       "      <td>1</td>\n",
       "      <td>Yes</td>\n",
       "      <td>Private</td>\n",
       "      <td>Urban</td>\n",
       "      <td>228.69</td>\n",
       "      <td>36.6</td>\n",
       "      <td>formerly smoked</td>\n",
       "      <td>1</td>\n",
       "    </tr>\n",
       "    <tr>\n",
       "      <th>1</th>\n",
       "      <td>51676</td>\n",
       "      <td>Female</td>\n",
       "      <td>61.0</td>\n",
       "      <td>0</td>\n",
       "      <td>0</td>\n",
       "      <td>Yes</td>\n",
       "      <td>Self-employed</td>\n",
       "      <td>Rural</td>\n",
       "      <td>202.21</td>\n",
       "      <td>NaN</td>\n",
       "      <td>never smoked</td>\n",
       "      <td>1</td>\n",
       "    </tr>\n",
       "    <tr>\n",
       "      <th>2</th>\n",
       "      <td>31112</td>\n",
       "      <td>Male</td>\n",
       "      <td>80.0</td>\n",
       "      <td>0</td>\n",
       "      <td>1</td>\n",
       "      <td>Yes</td>\n",
       "      <td>Private</td>\n",
       "      <td>Rural</td>\n",
       "      <td>105.92</td>\n",
       "      <td>32.5</td>\n",
       "      <td>never smoked</td>\n",
       "      <td>1</td>\n",
       "    </tr>\n",
       "    <tr>\n",
       "      <th>3</th>\n",
       "      <td>60182</td>\n",
       "      <td>Female</td>\n",
       "      <td>49.0</td>\n",
       "      <td>0</td>\n",
       "      <td>0</td>\n",
       "      <td>Yes</td>\n",
       "      <td>Private</td>\n",
       "      <td>Urban</td>\n",
       "      <td>171.23</td>\n",
       "      <td>34.4</td>\n",
       "      <td>smokes</td>\n",
       "      <td>1</td>\n",
       "    </tr>\n",
       "    <tr>\n",
       "      <th>4</th>\n",
       "      <td>1665</td>\n",
       "      <td>Female</td>\n",
       "      <td>79.0</td>\n",
       "      <td>1</td>\n",
       "      <td>0</td>\n",
       "      <td>Yes</td>\n",
       "      <td>Self-employed</td>\n",
       "      <td>Rural</td>\n",
       "      <td>174.12</td>\n",
       "      <td>24.0</td>\n",
       "      <td>never smoked</td>\n",
       "      <td>1</td>\n",
       "    </tr>\n",
       "    <tr>\n",
       "      <th>...</th>\n",
       "      <td>...</td>\n",
       "      <td>...</td>\n",
       "      <td>...</td>\n",
       "      <td>...</td>\n",
       "      <td>...</td>\n",
       "      <td>...</td>\n",
       "      <td>...</td>\n",
       "      <td>...</td>\n",
       "      <td>...</td>\n",
       "      <td>...</td>\n",
       "      <td>...</td>\n",
       "      <td>...</td>\n",
       "    </tr>\n",
       "    <tr>\n",
       "      <th>5105</th>\n",
       "      <td>18234</td>\n",
       "      <td>Female</td>\n",
       "      <td>80.0</td>\n",
       "      <td>1</td>\n",
       "      <td>0</td>\n",
       "      <td>Yes</td>\n",
       "      <td>Private</td>\n",
       "      <td>Urban</td>\n",
       "      <td>83.75</td>\n",
       "      <td>NaN</td>\n",
       "      <td>never smoked</td>\n",
       "      <td>0</td>\n",
       "    </tr>\n",
       "    <tr>\n",
       "      <th>5106</th>\n",
       "      <td>44873</td>\n",
       "      <td>Female</td>\n",
       "      <td>81.0</td>\n",
       "      <td>0</td>\n",
       "      <td>0</td>\n",
       "      <td>Yes</td>\n",
       "      <td>Self-employed</td>\n",
       "      <td>Urban</td>\n",
       "      <td>125.20</td>\n",
       "      <td>40.0</td>\n",
       "      <td>never smoked</td>\n",
       "      <td>0</td>\n",
       "    </tr>\n",
       "    <tr>\n",
       "      <th>5107</th>\n",
       "      <td>19723</td>\n",
       "      <td>Female</td>\n",
       "      <td>35.0</td>\n",
       "      <td>0</td>\n",
       "      <td>0</td>\n",
       "      <td>Yes</td>\n",
       "      <td>Self-employed</td>\n",
       "      <td>Rural</td>\n",
       "      <td>82.99</td>\n",
       "      <td>30.6</td>\n",
       "      <td>never smoked</td>\n",
       "      <td>0</td>\n",
       "    </tr>\n",
       "    <tr>\n",
       "      <th>5108</th>\n",
       "      <td>37544</td>\n",
       "      <td>Male</td>\n",
       "      <td>51.0</td>\n",
       "      <td>0</td>\n",
       "      <td>0</td>\n",
       "      <td>Yes</td>\n",
       "      <td>Private</td>\n",
       "      <td>Rural</td>\n",
       "      <td>166.29</td>\n",
       "      <td>25.6</td>\n",
       "      <td>formerly smoked</td>\n",
       "      <td>0</td>\n",
       "    </tr>\n",
       "    <tr>\n",
       "      <th>5109</th>\n",
       "      <td>44679</td>\n",
       "      <td>Female</td>\n",
       "      <td>44.0</td>\n",
       "      <td>0</td>\n",
       "      <td>0</td>\n",
       "      <td>Yes</td>\n",
       "      <td>Govt_job</td>\n",
       "      <td>Urban</td>\n",
       "      <td>85.28</td>\n",
       "      <td>26.2</td>\n",
       "      <td>Unknown</td>\n",
       "      <td>0</td>\n",
       "    </tr>\n",
       "  </tbody>\n",
       "</table>\n",
       "<p>5110 rows × 12 columns</p>\n",
       "</div>"
      ],
      "text/plain": [
       "         id  gender   age  hypertension  heart_disease ever_married  \\\n",
       "0      9046    Male  67.0             0              1          Yes   \n",
       "1     51676  Female  61.0             0              0          Yes   \n",
       "2     31112    Male  80.0             0              1          Yes   \n",
       "3     60182  Female  49.0             0              0          Yes   \n",
       "4      1665  Female  79.0             1              0          Yes   \n",
       "...     ...     ...   ...           ...            ...          ...   \n",
       "5105  18234  Female  80.0             1              0          Yes   \n",
       "5106  44873  Female  81.0             0              0          Yes   \n",
       "5107  19723  Female  35.0             0              0          Yes   \n",
       "5108  37544    Male  51.0             0              0          Yes   \n",
       "5109  44679  Female  44.0             0              0          Yes   \n",
       "\n",
       "          work_type Residence_type  avg_glucose_level   bmi   smoking_status  \\\n",
       "0           Private          Urban             228.69  36.6  formerly smoked   \n",
       "1     Self-employed          Rural             202.21   NaN     never smoked   \n",
       "2           Private          Rural             105.92  32.5     never smoked   \n",
       "3           Private          Urban             171.23  34.4           smokes   \n",
       "4     Self-employed          Rural             174.12  24.0     never smoked   \n",
       "...             ...            ...                ...   ...              ...   \n",
       "5105        Private          Urban              83.75   NaN     never smoked   \n",
       "5106  Self-employed          Urban             125.20  40.0     never smoked   \n",
       "5107  Self-employed          Rural              82.99  30.6     never smoked   \n",
       "5108        Private          Rural             166.29  25.6  formerly smoked   \n",
       "5109       Govt_job          Urban              85.28  26.2          Unknown   \n",
       "\n",
       "      stroke  \n",
       "0          1  \n",
       "1          1  \n",
       "2          1  \n",
       "3          1  \n",
       "4          1  \n",
       "...      ...  \n",
       "5105       0  \n",
       "5106       0  \n",
       "5107       0  \n",
       "5108       0  \n",
       "5109       0  \n",
       "\n",
       "[5110 rows x 12 columns]"
      ]
     },
     "execution_count": 2,
     "metadata": {},
     "output_type": "execute_result"
    }
   ],
   "source": [
    "df = pd.read_csv('healthcare-dataset-stroke-data.csv')\n",
    "df"
   ]
  },
  {
   "cell_type": "markdown",
   "id": "mounted-stake",
   "metadata": {},
   "source": [
    "# Metrics Selection\n",
    "    \n",
    "    TP : If the model predict stroke, and actual is stroke : early treatment to prevent stroke\n",
    "    TN : If the model predict false stroke, and actual is false stroke : safe\n",
    "    FP : If the model predict stroke, but actual is false stroke : panic\n",
    "    FN : If the model predict false stroke, but actual is stroke : stroke because not getting \n",
    "    an early treatment\n",
    "    \n",
    "Here I want to focus more on preveting FN, which means I will be using Recall"
   ]
  },
  {
   "cell_type": "code",
   "execution_count": 3,
   "id": "foster-hampshire",
   "metadata": {},
   "outputs": [
    {
     "data": {
      "text/plain": [
       "id                   0.00\n",
       "gender               0.00\n",
       "age                  0.00\n",
       "hypertension         0.00\n",
       "heart_disease        0.00\n",
       "ever_married         0.00\n",
       "work_type            0.00\n",
       "Residence_type       0.00\n",
       "avg_glucose_level    0.00\n",
       "bmi                  3.93\n",
       "smoking_status       0.00\n",
       "stroke               0.00\n",
       "dtype: float64"
      ]
     },
     "execution_count": 3,
     "metadata": {},
     "output_type": "execute_result"
    }
   ],
   "source": [
    "round(df.isna().sum()/len(df.index)*100, 2)"
   ]
  },
  {
   "cell_type": "code",
   "execution_count": 4,
   "id": "accepted-accident",
   "metadata": {},
   "outputs": [],
   "source": [
    "df.drop(['id'], axis = 1, inplace = True)"
   ]
  },
  {
   "cell_type": "code",
   "execution_count": 5,
   "id": "european-wedding",
   "metadata": {},
   "outputs": [],
   "source": [
    "df.drop(df.loc[df['gender']=='Other'].index, inplace=True)"
   ]
  },
  {
   "cell_type": "code",
   "execution_count": 6,
   "id": "visible-ceiling",
   "metadata": {},
   "outputs": [],
   "source": [
    "x = df.drop(['stroke'], axis = 1)\n",
    "y = df['stroke']"
   ]
  },
  {
   "cell_type": "code",
   "execution_count": 7,
   "id": "crude-renaissance",
   "metadata": {},
   "outputs": [],
   "source": [
    "x_train, x_test, y_train, y_test = train_test_split(x, y, test_size = 0.3, stratify = y, random_state = 2021)"
   ]
  },
  {
   "cell_type": "markdown",
   "id": "matched-subscriber",
   "metadata": {},
   "source": [
    "# Model Selection\n",
    "\n",
    "    DecisionTree\n",
    "    Logistric Regression\n",
    "    KNN"
   ]
  },
  {
   "cell_type": "code",
   "execution_count": 8,
   "id": "reverse-indianapolis",
   "metadata": {},
   "outputs": [
    {
     "data": {
      "text/plain": [
       "array(['Private', 'Self-employed', 'Govt_job', 'children', 'Never_worked'],\n",
       "      dtype=object)"
      ]
     },
     "execution_count": 8,
     "metadata": {},
     "output_type": "execute_result"
    }
   ],
   "source": [
    "df['work_type'].unique()"
   ]
  },
  {
   "cell_type": "code",
   "execution_count": 9,
   "id": "superb-latest",
   "metadata": {},
   "outputs": [
    {
     "data": {
      "text/plain": [
       "array(['formerly smoked', 'never smoked', 'smokes', 'Unknown'],\n",
       "      dtype=object)"
      ]
     },
     "execution_count": 9,
     "metadata": {},
     "output_type": "execute_result"
    }
   ],
   "source": [
    "df['smoking_status'].unique()"
   ]
  },
  {
   "cell_type": "markdown",
   "id": "geological-humor",
   "metadata": {},
   "source": [
    "    I will be making 2 different transformer base on the way I fill the missing values in BMI which will be mean and median"
   ]
  },
  {
   "cell_type": "code",
   "execution_count": 10,
   "id": "tough-pennsylvania",
   "metadata": {},
   "outputs": [],
   "source": [
    "one_hot = OneHotEncoder(drop = 'first')\n",
    "binary = BinaryEncoder()\n",
    "imputer_mean = SimpleImputer(strategy = 'mean')\n",
    "imputer_medi = SimpleImputer(strategy = 'median')\n",
    "\n",
    "transformer_mean = ColumnTransformer([\n",
    "    ('One Hot', one_hot, ['gender','ever_married','Residence_type']),\n",
    "    ('Binary', binary, ['work_type','smoking_status']),\n",
    "    ('Simple Imputer', imputer_mean, ['bmi'])\n",
    "], remainder = 'passthrough')\n",
    "\n",
    "transformer_medi = ColumnTransformer([\n",
    "    ('One Hot', one_hot, ['gender','ever_married','Residence_type']),\n",
    "    ('Binary', binary, ['work_type','smoking_status']),\n",
    "    ('Simple Imputer', imputer_medi, ['bmi'])\n",
    "], remainder = 'passthrough')"
   ]
  },
  {
   "cell_type": "code",
   "execution_count": 11,
   "id": "choice-rider",
   "metadata": {},
   "outputs": [],
   "source": [
    "logreg = LogisticRegression(solver = 'liblinear')\n",
    "tree = DecisionTreeClassifier(random_state = 2021)\n",
    "knn = KNeighborsClassifier()"
   ]
  },
  {
   "cell_type": "code",
   "execution_count": 12,
   "id": "shared-dependence",
   "metadata": {},
   "outputs": [],
   "source": [
    "################################################################################################################################"
   ]
  },
  {
   "cell_type": "code",
   "execution_count": 13,
   "id": "floppy-corrections",
   "metadata": {},
   "outputs": [
    {
     "name": "stdout",
     "output_type": "stream",
     "text": [
      "              precision    recall  f1-score   support\n",
      "\n",
      "           0       0.96      0.94      0.95      1458\n",
      "           1       0.14      0.17      0.15        75\n",
      "\n",
      "    accuracy                           0.91      1533\n",
      "   macro avg       0.55      0.56      0.55      1533\n",
      "weighted avg       0.92      0.91      0.91      1533\n",
      "\n"
     ]
    }
   ],
   "source": [
    "estimatortree = Pipeline([\n",
    "    ('transformer', transformer_mean),\n",
    "    ('model', tree)])\n",
    "estimatortree.fit(x_train, y_train)\n",
    "y_pred = estimatortree.predict(x_test)\n",
    "print(classification_report(y_test, y_pred))"
   ]
  },
  {
   "cell_type": "code",
   "execution_count": 14,
   "id": "bizarre-print",
   "metadata": {},
   "outputs": [
    {
     "name": "stdout",
     "output_type": "stream",
     "text": [
      "              precision    recall  f1-score   support\n",
      "\n",
      "           0       0.95      0.99      0.97      1458\n",
      "           1       0.07      0.01      0.02        75\n",
      "\n",
      "    accuracy                           0.94      1533\n",
      "   macro avg       0.51      0.50      0.50      1533\n",
      "weighted avg       0.91      0.94      0.92      1533\n",
      "\n"
     ]
    }
   ],
   "source": [
    "estimatorknn = Pipeline([\n",
    "    ('transformer', transformer_mean),\n",
    "    ('model', knn)])\n",
    "estimatorknn.fit(x_train, y_train)\n",
    "y_pred = estimatorknn.predict(x_test)\n",
    "print(classification_report(y_test, y_pred))"
   ]
  },
  {
   "cell_type": "code",
   "execution_count": 15,
   "id": "three-september",
   "metadata": {},
   "outputs": [
    {
     "name": "stdout",
     "output_type": "stream",
     "text": [
      "              precision    recall  f1-score   support\n",
      "\n",
      "           0       0.95      1.00      0.97      1458\n",
      "           1       0.00      0.00      0.00        75\n",
      "\n",
      "    accuracy                           0.95      1533\n",
      "   macro avg       0.48      0.50      0.49      1533\n",
      "weighted avg       0.90      0.95      0.93      1533\n",
      "\n"
     ]
    }
   ],
   "source": [
    "estimatorlogreg = Pipeline([\n",
    "    ('transformer', transformer_mean),\n",
    "    ('model', logreg)])\n",
    "estimatorlogreg.fit(x_train, y_train)\n",
    "y_pred = estimatorlogreg.predict(x_test)\n",
    "print(classification_report(y_test, y_pred))"
   ]
  },
  {
   "cell_type": "code",
   "execution_count": 16,
   "id": "informational-aerospace",
   "metadata": {},
   "outputs": [],
   "source": [
    "################################################################################################################################"
   ]
  },
  {
   "cell_type": "code",
   "execution_count": 17,
   "id": "random-decline",
   "metadata": {},
   "outputs": [
    {
     "name": "stdout",
     "output_type": "stream",
     "text": [
      "              precision    recall  f1-score   support\n",
      "\n",
      "           0       0.96      0.95      0.95      1458\n",
      "           1       0.15      0.19      0.17        75\n",
      "\n",
      "    accuracy                           0.91      1533\n",
      "   macro avg       0.55      0.57      0.56      1533\n",
      "weighted avg       0.92      0.91      0.91      1533\n",
      "\n"
     ]
    }
   ],
   "source": [
    "estimatortree = Pipeline([\n",
    "    ('transformer', transformer_medi),\n",
    "    ('model', tree)])\n",
    "estimatortree.fit(x_train, y_train)\n",
    "y_pred = estimatortree.predict(x_test)\n",
    "print(classification_report(y_test, y_pred))"
   ]
  },
  {
   "cell_type": "code",
   "execution_count": 18,
   "id": "married-discharge",
   "metadata": {},
   "outputs": [
    {
     "name": "stdout",
     "output_type": "stream",
     "text": [
      "              precision    recall  f1-score   support\n",
      "\n",
      "           0       0.95      0.99      0.97      1458\n",
      "           1       0.07      0.01      0.02        75\n",
      "\n",
      "    accuracy                           0.94      1533\n",
      "   macro avg       0.51      0.50      0.50      1533\n",
      "weighted avg       0.91      0.94      0.92      1533\n",
      "\n"
     ]
    }
   ],
   "source": [
    "estimatorknn = Pipeline([\n",
    "    ('transformer', transformer_medi),\n",
    "    ('model', knn)])\n",
    "estimatorknn.fit(x_train, y_train)\n",
    "y_pred = estimatorknn.predict(x_test)\n",
    "print(classification_report(y_test, y_pred))"
   ]
  },
  {
   "cell_type": "code",
   "execution_count": 19,
   "id": "consecutive-medline",
   "metadata": {},
   "outputs": [
    {
     "name": "stdout",
     "output_type": "stream",
     "text": [
      "              precision    recall  f1-score   support\n",
      "\n",
      "           0       0.95      1.00      0.97      1458\n",
      "           1       0.00      0.00      0.00        75\n",
      "\n",
      "    accuracy                           0.95      1533\n",
      "   macro avg       0.48      0.50      0.49      1533\n",
      "weighted avg       0.90      0.95      0.93      1533\n",
      "\n"
     ]
    }
   ],
   "source": [
    "estimatorlogreg = Pipeline([\n",
    "    ('transformer', transformer_medi),\n",
    "    ('model', logreg)])\n",
    "estimatorlogreg.fit(x_train, y_train)\n",
    "y_pred = estimatorlogreg.predict(x_test)\n",
    "print(classification_report(y_test, y_pred))"
   ]
  },
  {
   "cell_type": "code",
   "execution_count": 20,
   "id": "primary-heather",
   "metadata": {},
   "outputs": [],
   "source": [
    "################################################################################################################################"
   ]
  },
  {
   "cell_type": "code",
   "execution_count": 21,
   "id": "driven-validation",
   "metadata": {},
   "outputs": [],
   "source": [
    "def model_evaluation_cv_mean(model):\n",
    "    skfold = StratifiedKFold(n_splits = 5)\n",
    "    estimator = Pipeline([\n",
    "    ('preprocess', transformer_mean),\n",
    "    ('model', model)\n",
    "])\n",
    "    model_cv = cross_val_score(estimator, x_train, y_train, scoring = 'recall', cv = skfold)\n",
    "    return model_cv"
   ]
  },
  {
   "cell_type": "code",
   "execution_count": 22,
   "id": "grand-guatemala",
   "metadata": {},
   "outputs": [],
   "source": [
    "def model_evaluation_cv_medi(model):\n",
    "    skfold = StratifiedKFold(n_splits = 5)\n",
    "    estimator = Pipeline([\n",
    "    ('preprocess', transformer_medi),\n",
    "    ('model', model)\n",
    "])\n",
    "    model_cv = cross_val_score(estimator, x_train, y_train, scoring = 'recall', cv = skfold)\n",
    "    return model_cv"
   ]
  },
  {
   "cell_type": "code",
   "execution_count": 23,
   "id": "victorian-shopper",
   "metadata": {},
   "outputs": [],
   "source": [
    "def print_result(model_cv):\n",
    "    print('score : ', model_cv)\n",
    "    print('mean score : ', model_cv.mean())\n",
    "    print('std score : ', model_cv.std())"
   ]
  },
  {
   "cell_type": "code",
   "execution_count": 88,
   "id": "martial-relation",
   "metadata": {},
   "outputs": [
    {
     "name": "stdout",
     "output_type": "stream",
     "text": [
      "score :  [0.22857143 0.26470588 0.17142857 0.11428571 0.17142857]\n",
      "mean score :  0.19008403361344542\n",
      "std score :  0.0519444657909256\n"
     ]
    }
   ],
   "source": [
    "model_cv = model_evaluation_cv_mean(tree)\n",
    "print_result(model_cv)"
   ]
  },
  {
   "cell_type": "code",
   "execution_count": 87,
   "id": "norwegian-alarm",
   "metadata": {},
   "outputs": [
    {
     "name": "stdout",
     "output_type": "stream",
     "text": [
      "score :  [0.22857143 0.17647059 0.2        0.11428571 0.17142857]\n",
      "mean score :  0.17815126050420171\n",
      "std score :  0.0378057878292504\n"
     ]
    }
   ],
   "source": [
    "model_cv = model_evaluation_cv_medi(tree)\n",
    "print_result(model_cv)"
   ]
  },
  {
   "cell_type": "code",
   "execution_count": 26,
   "id": "adequate-springfield",
   "metadata": {},
   "outputs": [
    {
     "name": "stdout",
     "output_type": "stream",
     "text": [
      "score :  [0.         0.02941176 0.02857143 0.         0.05714286]\n",
      "mean score :  0.023025210084033614\n",
      "std score :  0.021428406656146863\n"
     ]
    }
   ],
   "source": [
    "model_cv = model_evaluation_cv_mean(knn)\n",
    "print_result(model_cv)"
   ]
  },
  {
   "cell_type": "code",
   "execution_count": 27,
   "id": "cardiovascular-shannon",
   "metadata": {},
   "outputs": [
    {
     "name": "stdout",
     "output_type": "stream",
     "text": [
      "score :  [0.         0.         0.         0.         0.05714286]\n",
      "mean score :  0.011428571428571429\n",
      "std score :  0.022857142857142857\n"
     ]
    }
   ],
   "source": [
    "model_cv = model_evaluation_cv_medi(knn)\n",
    "print_result(model_cv)"
   ]
  },
  {
   "cell_type": "code",
   "execution_count": 28,
   "id": "molecular-dating",
   "metadata": {},
   "outputs": [
    {
     "name": "stdout",
     "output_type": "stream",
     "text": [
      "score :  [0. 0. 0. 0. 0.]\n",
      "mean score :  0.0\n",
      "std score :  0.0\n"
     ]
    }
   ],
   "source": [
    "model_cv = model_evaluation_cv_mean(logreg)\n",
    "print_result(model_cv)"
   ]
  },
  {
   "cell_type": "code",
   "execution_count": 29,
   "id": "indian-connectivity",
   "metadata": {},
   "outputs": [
    {
     "name": "stdout",
     "output_type": "stream",
     "text": [
      "score :  [0. 0. 0. 0. 0.]\n",
      "mean score :  0.0\n",
      "std score :  0.0\n"
     ]
    }
   ],
   "source": [
    "model_cv = model_evaluation_cv_medi(logreg)\n",
    "print_result(model_cv)"
   ]
  },
  {
   "cell_type": "markdown",
   "id": "veterinary-communications",
   "metadata": {},
   "source": [
    "# Conclusion #1\n",
    "\n",
    "    Impute the missing values by Mean is better than Median"
   ]
  },
  {
   "cell_type": "code",
   "execution_count": 30,
   "id": "existing-exclusion",
   "metadata": {},
   "outputs": [],
   "source": [
    "################################################################################################################################"
   ]
  },
  {
   "cell_type": "code",
   "execution_count": 31,
   "id": "satisfied-institution",
   "metadata": {},
   "outputs": [],
   "source": [
    "poly_pipe = Pipeline([\n",
    "    ('Simple Imputer',SimpleImputer(strategy = 'mean')),\n",
    "    ('Poly', PolynomialFeatures(degree = 3, interaction_only = False, include_bias = False))\n",
    "])\n",
    "transformer_mean_logreg = ColumnTransformer([\n",
    "    ('One Hot', one_hot, ['gender','ever_married','Residence_type']),\n",
    "    ('Binary', binary, ['work_type','smoking_status']),\n",
    "    ('Polynomial', poly_pipe, ['bmi','avg_glucose_level'])\n",
    "], remainder = 'passthrough')"
   ]
  },
  {
   "cell_type": "code",
   "execution_count": 32,
   "id": "japanese-holocaust",
   "metadata": {},
   "outputs": [],
   "source": [
    "def model_evaluation_cv_mean_poly(model):\n",
    "    skfold = StratifiedKFold(n_splits = 5)\n",
    "    estimator = Pipeline([\n",
    "    ('preprocess', transformer_mean_logreg),\n",
    "    ('model', model)\n",
    "])\n",
    "    model_cv = cross_val_score(estimator, x_train, y_train, scoring = 'recall', cv = skfold)\n",
    "    return model_cv"
   ]
  },
  {
   "cell_type": "code",
   "execution_count": 33,
   "id": "adaptive-craps",
   "metadata": {},
   "outputs": [
    {
     "name": "stdout",
     "output_type": "stream",
     "text": [
      "score :  [0.02857143 0.         0.         0.05714286 0.        ]\n",
      "mean score :  0.017142857142857144\n",
      "std score :  0.022857142857142857\n"
     ]
    }
   ],
   "source": [
    "model_cv = model_evaluation_cv_mean_poly(logreg)\n",
    "print_result(model_cv)"
   ]
  },
  {
   "cell_type": "code",
   "execution_count": 34,
   "id": "increased-maria",
   "metadata": {},
   "outputs": [
    {
     "data": {
      "text/plain": [
       "['x0_Male',\n",
       " 'x1_Yes',\n",
       " 'x2_Urban',\n",
       " 'work_type_0',\n",
       " 'work_type_1',\n",
       " 'work_type_2',\n",
       " 'work_type_3',\n",
       " 'smoking_status_0',\n",
       " 'smoking_status_1',\n",
       " 'smoking_status_2',\n",
       " 'age',\n",
       " 'hypertension',\n",
       " 'heart_disease',\n",
       " 'avg_glucose_level',\n",
       " 'bmi']"
      ]
     },
     "execution_count": 34,
     "metadata": {},
     "output_type": "execute_result"
    }
   ],
   "source": [
    "features=list(transformer_mean.transformers_[0][1].get_feature_names()) + transformer_mean.transformers_[1][1].get_feature_names() + [\n",
    "    'age','hypertension','heart_disease','avg_glucose_level','bmi']\n",
    "features"
   ]
  },
  {
   "cell_type": "code",
   "execution_count": 35,
   "id": "dental-contemporary",
   "metadata": {},
   "outputs": [],
   "source": [
    "importance_table=pd.DataFrame({\n",
    "    'imp': tree.feature_importances_\n",
    "}, index=features)"
   ]
  },
  {
   "cell_type": "code",
   "execution_count": 36,
   "id": "maritime-commercial",
   "metadata": {},
   "outputs": [
    {
     "data": {
      "text/html": [
       "<div>\n",
       "<style scoped>\n",
       "    .dataframe tbody tr th:only-of-type {\n",
       "        vertical-align: middle;\n",
       "    }\n",
       "\n",
       "    .dataframe tbody tr th {\n",
       "        vertical-align: top;\n",
       "    }\n",
       "\n",
       "    .dataframe thead th {\n",
       "        text-align: right;\n",
       "    }\n",
       "</style>\n",
       "<table border=\"1\" class=\"dataframe\">\n",
       "  <thead>\n",
       "    <tr style=\"text-align: right;\">\n",
       "      <th></th>\n",
       "      <th>imp</th>\n",
       "    </tr>\n",
       "  </thead>\n",
       "  <tbody>\n",
       "    <tr>\n",
       "      <th>x0_Male</th>\n",
       "      <td>0.023243</td>\n",
       "    </tr>\n",
       "    <tr>\n",
       "      <th>x1_Yes</th>\n",
       "      <td>0.028930</td>\n",
       "    </tr>\n",
       "    <tr>\n",
       "      <th>x2_Urban</th>\n",
       "      <td>0.031268</td>\n",
       "    </tr>\n",
       "    <tr>\n",
       "      <th>work_type_0</th>\n",
       "      <td>0.000000</td>\n",
       "    </tr>\n",
       "    <tr>\n",
       "      <th>work_type_1</th>\n",
       "      <td>0.000000</td>\n",
       "    </tr>\n",
       "    <tr>\n",
       "      <th>work_type_2</th>\n",
       "      <td>0.012535</td>\n",
       "    </tr>\n",
       "    <tr>\n",
       "      <th>work_type_3</th>\n",
       "      <td>0.029797</td>\n",
       "    </tr>\n",
       "    <tr>\n",
       "      <th>smoking_status_0</th>\n",
       "      <td>0.014847</td>\n",
       "    </tr>\n",
       "    <tr>\n",
       "      <th>smoking_status_1</th>\n",
       "      <td>0.022411</td>\n",
       "    </tr>\n",
       "    <tr>\n",
       "      <th>smoking_status_2</th>\n",
       "      <td>0.028513</td>\n",
       "    </tr>\n",
       "    <tr>\n",
       "      <th>age</th>\n",
       "      <td>0.253487</td>\n",
       "    </tr>\n",
       "    <tr>\n",
       "      <th>hypertension</th>\n",
       "      <td>0.174561</td>\n",
       "    </tr>\n",
       "    <tr>\n",
       "      <th>heart_disease</th>\n",
       "      <td>0.031112</td>\n",
       "    </tr>\n",
       "    <tr>\n",
       "      <th>avg_glucose_level</th>\n",
       "      <td>0.014847</td>\n",
       "    </tr>\n",
       "    <tr>\n",
       "      <th>bmi</th>\n",
       "      <td>0.334448</td>\n",
       "    </tr>\n",
       "  </tbody>\n",
       "</table>\n",
       "</div>"
      ],
      "text/plain": [
       "                        imp\n",
       "x0_Male            0.023243\n",
       "x1_Yes             0.028930\n",
       "x2_Urban           0.031268\n",
       "work_type_0        0.000000\n",
       "work_type_1        0.000000\n",
       "work_type_2        0.012535\n",
       "work_type_3        0.029797\n",
       "smoking_status_0   0.014847\n",
       "smoking_status_1   0.022411\n",
       "smoking_status_2   0.028513\n",
       "age                0.253487\n",
       "hypertension       0.174561\n",
       "heart_disease      0.031112\n",
       "avg_glucose_level  0.014847\n",
       "bmi                0.334448"
      ]
     },
     "execution_count": 36,
     "metadata": {},
     "output_type": "execute_result"
    }
   ],
   "source": [
    "importance_table"
   ]
  },
  {
   "cell_type": "code",
   "execution_count": 37,
   "id": "numeric-jefferson",
   "metadata": {},
   "outputs": [
    {
     "data": {
      "text/plain": [
       "<AxesSubplot:>"
      ]
     },
     "execution_count": 37,
     "metadata": {},
     "output_type": "execute_result"
    },
    {
     "data": {
      "image/png": "[encoded data removed]",
      "text/plain": [
       "<Figure size 576x504 with 1 Axes>"
      ]
     },
     "metadata": {},
     "output_type": "display_data"
    }
   ],
   "source": [
    "importance_table.sort_values('imp').plot(kind='barh')"
   ]
  },
  {
   "cell_type": "markdown",
   "id": "yellow-aircraft",
   "metadata": {},
   "source": [
    "# oversampling/undersampling dulu"
   ]
  },
  {
   "cell_type": "markdown",
   "id": "extraordinary-hurricane",
   "metadata": {},
   "source": [
    "# feature selection diawal"
   ]
  },
  {
   "cell_type": "code",
   "execution_count": 38,
   "id": "strong-taylor",
   "metadata": {},
   "outputs": [],
   "source": [
    "randomover = RandomOverSampler(random_state = 2021)\n",
    "randomunder = RandomUnderSampler(random_state = 2021)\n",
    "smote = SMOTE(random_state = 2021)\n",
    "nearmiss = NearMiss()"
   ]
  },
  {
   "cell_type": "code",
   "execution_count": 39,
   "id": "manual-maker",
   "metadata": {},
   "outputs": [],
   "source": [
    "def model_evaluation_cv_mean_over(model):\n",
    "    skfold = StratifiedKFold(n_splits = 5)\n",
    "    estimator = Pipeline([\n",
    "    ('preprocess', transformer_mean),\n",
    "    ('balancing', randomover),\n",
    "    ('model', model)\n",
    "])\n",
    "    model_cv = cross_val_score(estimator, x_train, y_train, scoring = 'recall', cv = skfold)\n",
    "    return model_cv"
   ]
  },
  {
   "cell_type": "code",
   "execution_count": 40,
   "id": "immune-requirement",
   "metadata": {},
   "outputs": [],
   "source": [
    "def model_evaluation_cv_mean_under(model):\n",
    "    skfold = StratifiedKFold(n_splits = 5)\n",
    "    estimator = Pipeline([\n",
    "    ('preprocess', transformer_mean),\n",
    "    ('balancing', randomunder),\n",
    "    ('model', model)\n",
    "])\n",
    "    model_cv = cross_val_score(estimator, x_train, y_train, scoring = 'recall', cv = skfold)\n",
    "    return model_cv"
   ]
  },
  {
   "cell_type": "code",
   "execution_count": 41,
   "id": "chinese-stranger",
   "metadata": {},
   "outputs": [],
   "source": [
    "def model_evaluation_cv_mean_smote(model):\n",
    "    skfold = StratifiedKFold(n_splits = 5)\n",
    "    estimator = Pipeline([\n",
    "    ('preprocess', transformer_mean),\n",
    "    ('balancing', smote),\n",
    "    ('model', model)\n",
    "])\n",
    "    model_cv = cross_val_score(estimator, x_train, y_train, scoring = 'recall', cv = skfold)\n",
    "    return model_cv"
   ]
  },
  {
   "cell_type": "code",
   "execution_count": 42,
   "id": "ancient-familiar",
   "metadata": {},
   "outputs": [],
   "source": [
    "def model_evaluation_cv_mean_near(model):\n",
    "    skfold = StratifiedKFold(n_splits = 5)\n",
    "    estimator = Pipeline([\n",
    "    ('preprocess', transformer_mean),\n",
    "    ('balancing', nearmiss),\n",
    "    ('model', model)\n",
    "])\n",
    "    model_cv = cross_val_score(estimator, x_train, y_train, scoring = 'recall', cv = skfold)\n",
    "    return model_cv"
   ]
  },
  {
   "cell_type": "code",
   "execution_count": 43,
   "id": "decent-rhythm",
   "metadata": {},
   "outputs": [
    {
     "name": "stdout",
     "output_type": "stream",
     "text": [
      "score :  [0.08571429 0.26470588 0.02857143 0.11428571 0.05714286]\n",
      "mean score :  0.11008403361344536\n",
      "std score :  0.08242151149740658\n"
     ]
    }
   ],
   "source": [
    "model_cv = model_evaluation_cv_mean_over(tree)\n",
    "print_result(model_cv)"
   ]
  },
  {
   "cell_type": "code",
   "execution_count": 44,
   "id": "pursuant-shore",
   "metadata": {},
   "outputs": [
    {
     "name": "stdout",
     "output_type": "stream",
     "text": [
      "score :  [0.65714286 0.55882353 0.71428571 0.71428571 0.77142857]\n",
      "mean score :  0.6831932773109244\n",
      "std score :  0.07192413362081414\n"
     ]
    }
   ],
   "source": [
    "model_cv = model_evaluation_cv_mean_under(tree)\n",
    "print_result(model_cv)"
   ]
  },
  {
   "cell_type": "code",
   "execution_count": 45,
   "id": "composed-responsibility",
   "metadata": {},
   "outputs": [
    {
     "name": "stdout",
     "output_type": "stream",
     "text": [
      "score :  [0.2        0.17647059 0.11428571 0.11428571 0.2       ]\n",
      "mean score :  0.16100840336134453\n",
      "std score :  0.03910444406165481\n"
     ]
    }
   ],
   "source": [
    "model_cv = model_evaluation_cv_mean_smote(tree)\n",
    "print_result(model_cv)"
   ]
  },
  {
   "cell_type": "code",
   "execution_count": 46,
   "id": "israeli-group",
   "metadata": {},
   "outputs": [
    {
     "name": "stdout",
     "output_type": "stream",
     "text": [
      "score :  [0.74285714 0.79411765 0.74285714 0.68571429 0.77142857]\n",
      "mean score :  0.7473949579831933\n",
      "std score :  0.036349176368882644\n"
     ]
    }
   ],
   "source": [
    "model_cv = model_evaluation_cv_mean_near(tree)\n",
    "print_result(model_cv)"
   ]
  },
  {
   "cell_type": "code",
   "execution_count": null,
   "id": "stuck-native",
   "metadata": {},
   "outputs": [],
   "source": []
  },
  {
   "cell_type": "code",
   "execution_count": 47,
   "id": "japanese-tours",
   "metadata": {},
   "outputs": [
    {
     "name": "stdout",
     "output_type": "stream",
     "text": [
      "score :  [0.71428571 0.79411765 0.68571429 0.88571429 0.82857143]\n",
      "mean score :  0.7816806722689076\n",
      "std score :  0.07338670425214266\n"
     ]
    }
   ],
   "source": [
    "model_cv = model_evaluation_cv_mean_over(logreg)\n",
    "print_result(model_cv)"
   ]
  },
  {
   "cell_type": "code",
   "execution_count": 48,
   "id": "injured-learning",
   "metadata": {},
   "outputs": [
    {
     "name": "stdout",
     "output_type": "stream",
     "text": [
      "score :  [0.77142857 0.76470588 0.74285714 0.8        0.77142857]\n",
      "mean score :  0.7700840336134454\n",
      "std score :  0.018269147215732705\n"
     ]
    }
   ],
   "source": [
    "model_cv = model_evaluation_cv_mean_under(logreg)\n",
    "print_result(model_cv)"
   ]
  },
  {
   "cell_type": "code",
   "execution_count": 49,
   "id": "rational-distribution",
   "metadata": {},
   "outputs": [
    {
     "name": "stdout",
     "output_type": "stream",
     "text": [
      "score :  [0.74285714 0.79411765 0.68571429 0.88571429 0.82857143]\n",
      "mean score :  0.7873949579831934\n",
      "std score :  0.06889116427128314\n"
     ]
    }
   ],
   "source": [
    "model_cv = model_evaluation_cv_mean_smote(logreg)\n",
    "print_result(model_cv)"
   ]
  },
  {
   "cell_type": "code",
   "execution_count": 50,
   "id": "satisfactory-event",
   "metadata": {},
   "outputs": [
    {
     "name": "stdout",
     "output_type": "stream",
     "text": [
      "score :  [0.6        0.70588235 0.51428571 0.6        0.54285714]\n",
      "mean score :  0.5926050420168066\n",
      "std score :  0.06565042352407652\n"
     ]
    }
   ],
   "source": [
    "model_cv = model_evaluation_cv_mean_near(logreg)\n",
    "print_result(model_cv)"
   ]
  },
  {
   "cell_type": "code",
   "execution_count": null,
   "id": "developmental-closing",
   "metadata": {},
   "outputs": [],
   "source": []
  },
  {
   "cell_type": "code",
   "execution_count": 51,
   "id": "elementary-heating",
   "metadata": {},
   "outputs": [
    {
     "name": "stdout",
     "output_type": "stream",
     "text": [
      "score :  [0.37142857 0.32352941 0.31428571 0.42857143 0.31428571]\n",
      "mean score :  0.35042016806722687\n",
      "std score :  0.04446005579143296\n"
     ]
    }
   ],
   "source": [
    "model_cv = model_evaluation_cv_mean_over(knn)\n",
    "print_result(model_cv)"
   ]
  },
  {
   "cell_type": "code",
   "execution_count": 52,
   "id": "agricultural-payment",
   "metadata": {},
   "outputs": [
    {
     "name": "stdout",
     "output_type": "stream",
     "text": [
      "score :  [0.8        0.85294118 0.8        0.82857143 0.82857143]\n",
      "mean score :  0.8220168067226892\n",
      "std score :  0.020058526047510152\n"
     ]
    }
   ],
   "source": [
    "model_cv = model_evaluation_cv_mean_under(knn)\n",
    "print_result(model_cv)"
   ]
  },
  {
   "cell_type": "code",
   "execution_count": 96,
   "id": "hungarian-crest",
   "metadata": {},
   "outputs": [
    {
     "name": "stdout",
     "output_type": "stream",
     "text": [
      "score :  [0.45714286 0.47058824 0.57142857 0.57142857 0.45714286]\n",
      "mean score :  0.5055462184873949\n",
      "std score :  0.05401629425640515\n"
     ]
    }
   ],
   "source": [
    "model_cv = model_evaluation_cv_mean_smote(knn)\n",
    "print_result(model_cv)"
   ]
  },
  {
   "cell_type": "code",
   "execution_count": 75,
   "id": "careful-better",
   "metadata": {},
   "outputs": [
    {
     "name": "stdout",
     "output_type": "stream",
     "text": [
      "score :  [0.51428571 0.70588235 0.48571429 0.62857143 0.65714286]\n",
      "mean score :  0.5983193277310924\n",
      "std score :  0.084482832914563\n"
     ]
    }
   ],
   "source": [
    "model_cv = model_evaluation_cv_mean_near(knn)\n",
    "print_result(model_cv)"
   ]
  },
  {
   "cell_type": "markdown",
   "id": "charged-buying",
   "metadata": {},
   "source": [
    "# Conclusion #2\n",
    "\n",
    "    RandomOverSampler = Best : Logreg(mean score :  0.781, std score :  0.073)\n",
    "    RandomUnderSampler = Best : KNN(mean score :  0.822, std score :  0.020)\n",
    "    SMOTE = Best : Logreg(mean score :  0.787, std score :  0.068)\n",
    "    NearMiss = Best : Tree(mean score :  0.747, std score :  0.036)"
   ]
  },
  {
   "cell_type": "markdown",
   "id": "composite-worthy",
   "metadata": {},
   "source": [
    "# RANDOM OVER"
   ]
  },
  {
   "cell_type": "code",
   "execution_count": 55,
   "id": "optical-pakistan",
   "metadata": {},
   "outputs": [
    {
     "name": "stdout",
     "output_type": "stream",
     "text": [
      "              precision    recall  f1-score   support\n",
      "\n",
      "           0       0.99      0.71      0.83      1458\n",
      "           1       0.13      0.88      0.23        75\n",
      "\n",
      "    accuracy                           0.72      1533\n",
      "   macro avg       0.56      0.79      0.53      1533\n",
      "weighted avg       0.95      0.72      0.80      1533\n",
      "\n"
     ]
    }
   ],
   "source": [
    "estimatorlogreg = Pipeline([\n",
    "    ('transformer', transformer_mean),\n",
    "    ('balancing', randomover),\n",
    "    ('model', logreg)])\n",
    "estimatorlogreg.fit(x_train, y_train)\n",
    "y_pred = estimatorlogreg.predict(x_test)\n",
    "print(classification_report(y_test, y_pred))"
   ]
  },
  {
   "cell_type": "code",
   "execution_count": 56,
   "id": "transparent-devil",
   "metadata": {},
   "outputs": [
    {
     "name": "stdout",
     "output_type": "stream",
     "text": [
      "              precision    recall  f1-score   support\n",
      "\n",
      "           0       0.96      0.96      0.96      1458\n",
      "           1       0.17      0.17      0.17        75\n",
      "\n",
      "    accuracy                           0.92      1533\n",
      "   macro avg       0.57      0.57      0.57      1533\n",
      "weighted avg       0.92      0.92      0.92      1533\n",
      "\n"
     ]
    }
   ],
   "source": [
    "estimatortree = Pipeline([\n",
    "    ('transformer', transformer_mean),\n",
    "    ('balancing', randomover),\n",
    "    ('model', tree)])\n",
    "estimatortree.fit(x_train, y_train)\n",
    "y_pred = estimatortree.predict(x_test)\n",
    "print(classification_report(y_test, y_pred))"
   ]
  },
  {
   "cell_type": "code",
   "execution_count": 57,
   "id": "intimate-platinum",
   "metadata": {},
   "outputs": [
    {
     "name": "stdout",
     "output_type": "stream",
     "text": [
      "              precision    recall  f1-score   support\n",
      "\n",
      "           0       0.96      0.87      0.91      1458\n",
      "           1       0.13      0.37      0.19        75\n",
      "\n",
      "    accuracy                           0.85      1533\n",
      "   macro avg       0.55      0.62      0.55      1533\n",
      "weighted avg       0.92      0.85      0.88      1533\n",
      "\n"
     ]
    }
   ],
   "source": [
    "estimatorknn = Pipeline([\n",
    "    ('transformer', transformer_mean),\n",
    "    ('balancing', randomover),\n",
    "    ('model', knn)])\n",
    "estimatorknn.fit(x_train, y_train)\n",
    "y_pred = estimatorknn.predict(x_test)\n",
    "print(classification_report(y_test, y_pred))"
   ]
  },
  {
   "cell_type": "markdown",
   "id": "cosmetic-position",
   "metadata": {},
   "source": [
    "# Random Under"
   ]
  },
  {
   "cell_type": "code",
   "execution_count": 58,
   "id": "interesting-duncan",
   "metadata": {},
   "outputs": [
    {
     "name": "stdout",
     "output_type": "stream",
     "text": [
      "              precision    recall  f1-score   support\n",
      "\n",
      "           0       0.99      0.71      0.83      1458\n",
      "           1       0.13      0.85      0.23        75\n",
      "\n",
      "    accuracy                           0.72      1533\n",
      "   macro avg       0.56      0.78      0.53      1533\n",
      "weighted avg       0.95      0.72      0.80      1533\n",
      "\n"
     ]
    }
   ],
   "source": [
    "estimatorlogreg = Pipeline([\n",
    "    ('transformer', transformer_mean),\n",
    "    ('balancing', randomunder),\n",
    "    ('model', logreg)])\n",
    "estimatorlogreg.fit(x_train, y_train)\n",
    "y_pred = estimatorlogreg.predict(x_test)\n",
    "print(classification_report(y_test, y_pred))"
   ]
  },
  {
   "cell_type": "code",
   "execution_count": 59,
   "id": "bacterial-firmware",
   "metadata": {},
   "outputs": [
    {
     "name": "stdout",
     "output_type": "stream",
     "text": [
      "              precision    recall  f1-score   support\n",
      "\n",
      "           0       0.98      0.67      0.80      1458\n",
      "           1       0.10      0.73      0.18        75\n",
      "\n",
      "    accuracy                           0.68      1533\n",
      "   macro avg       0.54      0.70      0.49      1533\n",
      "weighted avg       0.94      0.68      0.77      1533\n",
      "\n"
     ]
    }
   ],
   "source": [
    "estimatortree = Pipeline([\n",
    "    ('transformer', transformer_mean),\n",
    "    ('balancing', randomunder),\n",
    "    ('model', tree)])\n",
    "estimatortree.fit(x_train, y_train)\n",
    "y_pred = estimatortree.predict(x_test)\n",
    "print(classification_report(y_test, y_pred))"
   ]
  },
  {
   "cell_type": "code",
   "execution_count": 60,
   "id": "further-calibration",
   "metadata": {},
   "outputs": [
    {
     "name": "stdout",
     "output_type": "stream",
     "text": [
      "              precision    recall  f1-score   support\n",
      "\n",
      "           0       0.99      0.65      0.78      1458\n",
      "           1       0.11      0.85      0.20        75\n",
      "\n",
      "    accuracy                           0.66      1533\n",
      "   macro avg       0.55      0.75      0.49      1533\n",
      "weighted avg       0.95      0.66      0.75      1533\n",
      "\n"
     ]
    }
   ],
   "source": [
    "estimatorknn = Pipeline([\n",
    "    ('transformer', transformer_mean),\n",
    "    ('balancing', randomunder),\n",
    "    ('model', knn)])\n",
    "estimatorknn.fit(x_train, y_train)\n",
    "y_pred = estimatorknn.predict(x_test)\n",
    "print(classification_report(y_test, y_pred))"
   ]
  },
  {
   "cell_type": "markdown",
   "id": "romantic-introduction",
   "metadata": {},
   "source": [
    "# SMOTE"
   ]
  },
  {
   "cell_type": "code",
   "execution_count": 61,
   "id": "universal-publisher",
   "metadata": {},
   "outputs": [
    {
     "name": "stdout",
     "output_type": "stream",
     "text": [
      "              precision    recall  f1-score   support\n",
      "\n",
      "           0       0.99      0.72      0.84      1458\n",
      "           1       0.13      0.83      0.23        75\n",
      "\n",
      "    accuracy                           0.73      1533\n",
      "   macro avg       0.56      0.78      0.53      1533\n",
      "weighted avg       0.95      0.73      0.81      1533\n",
      "\n"
     ]
    }
   ],
   "source": [
    "estimatorlogreg = Pipeline([\n",
    "    ('transformer', transformer_mean),\n",
    "    ('balancing', smote),\n",
    "    ('model', logreg)])\n",
    "estimatorlogreg.fit(x_train, y_train)\n",
    "y_pred = estimatorlogreg.predict(x_test)\n",
    "print(classification_report(y_test, y_pred))"
   ]
  },
  {
   "cell_type": "code",
   "execution_count": 62,
   "id": "existing-sydney",
   "metadata": {},
   "outputs": [
    {
     "name": "stdout",
     "output_type": "stream",
     "text": [
      "              precision    recall  f1-score   support\n",
      "\n",
      "           0       0.95      0.94      0.95      1458\n",
      "           1       0.09      0.12      0.11        75\n",
      "\n",
      "    accuracy                           0.90      1533\n",
      "   macro avg       0.52      0.53      0.53      1533\n",
      "weighted avg       0.91      0.90      0.91      1533\n",
      "\n"
     ]
    }
   ],
   "source": [
    "estimatortree = Pipeline([\n",
    "    ('transformer', transformer_mean),\n",
    "    ('balancing', smote),\n",
    "    ('model', tree)])\n",
    "estimatortree.fit(x_train, y_train)\n",
    "y_pred = estimatortree.predict(x_test)\n",
    "print(classification_report(y_test, y_pred))"
   ]
  },
  {
   "cell_type": "code",
   "execution_count": 63,
   "id": "scenic-jacksonville",
   "metadata": {},
   "outputs": [
    {
     "name": "stdout",
     "output_type": "stream",
     "text": [
      "              precision    recall  f1-score   support\n",
      "\n",
      "           0       0.97      0.78      0.87      1458\n",
      "           1       0.12      0.59      0.20        75\n",
      "\n",
      "    accuracy                           0.77      1533\n",
      "   macro avg       0.55      0.68      0.53      1533\n",
      "weighted avg       0.93      0.77      0.84      1533\n",
      "\n"
     ]
    }
   ],
   "source": [
    "estimatorknn = Pipeline([\n",
    "    ('transformer', transformer_mean),\n",
    "    ('balancing', smote),\n",
    "    ('model', knn)])\n",
    "estimatorknn.fit(x_train, y_train)\n",
    "y_pred = estimatorknn.predict(x_test)\n",
    "print(classification_report(y_test, y_pred))"
   ]
  },
  {
   "cell_type": "markdown",
   "id": "effective-palestinian",
   "metadata": {},
   "source": [
    "# Near Miss"
   ]
  },
  {
   "cell_type": "code",
   "execution_count": 65,
   "id": "broke-pilot",
   "metadata": {},
   "outputs": [
    {
     "name": "stdout",
     "output_type": "stream",
     "text": [
      "              precision    recall  f1-score   support\n",
      "\n",
      "           0       0.94      0.29      0.44      1458\n",
      "           1       0.04      0.63      0.08        75\n",
      "\n",
      "    accuracy                           0.30      1533\n",
      "   macro avg       0.49      0.46      0.26      1533\n",
      "weighted avg       0.89      0.30      0.42      1533\n",
      "\n"
     ]
    }
   ],
   "source": [
    "estimatorlogreg = Pipeline([\n",
    "    ('transformer', transformer_mean),\n",
    "    ('balancing', nearmiss),\n",
    "    ('model', logreg)])\n",
    "estimatorlogreg.fit(x_train, y_train)\n",
    "y_pred = estimatorlogreg.predict(x_test)\n",
    "print(classification_report(y_test, y_pred))"
   ]
  },
  {
   "cell_type": "code",
   "execution_count": 66,
   "id": "accredited-auckland",
   "metadata": {},
   "outputs": [
    {
     "name": "stdout",
     "output_type": "stream",
     "text": [
      "              precision    recall  f1-score   support\n",
      "\n",
      "           0       0.93      0.21      0.35      1458\n",
      "           1       0.04      0.68      0.08        75\n",
      "\n",
      "    accuracy                           0.24      1533\n",
      "   macro avg       0.49      0.45      0.21      1533\n",
      "weighted avg       0.89      0.24      0.33      1533\n",
      "\n"
     ]
    }
   ],
   "source": [
    "estimatortree = Pipeline([\n",
    "    ('transformer', transformer_mean),\n",
    "    ('balancing', nearmiss),\n",
    "    ('model', tree)])\n",
    "estimatortree.fit(x_train, y_train)\n",
    "y_pred = estimatortree.predict(x_test)\n",
    "print(classification_report(y_test, y_pred))"
   ]
  },
  {
   "cell_type": "code",
   "execution_count": 103,
   "id": "surgical-ethernet",
   "metadata": {},
   "outputs": [
    {
     "name": "stdout",
     "output_type": "stream",
     "text": [
      "              precision    recall  f1-score   support\n",
      "\n",
      "           0       0.93      0.24      0.38      1458\n",
      "           1       0.04      0.63      0.08        75\n",
      "\n",
      "    accuracy                           0.26      1533\n",
      "   macro avg       0.48      0.43      0.23      1533\n",
      "weighted avg       0.88      0.26      0.36      1533\n",
      "\n"
     ]
    }
   ],
   "source": [
    "estimatorknn = Pipeline([\n",
    "    ('transformer', transformer_mean),\n",
    "    ('balancing', nearmiss),\n",
    "    ('model', knn)])\n",
    "estimatorknn.fit(x_train, y_train)\n",
    "y_pred = estimatorknn.predict(x_test)\n",
    "print(classification_report(y_test, y_pred))"
   ]
  },
  {
   "cell_type": "markdown",
   "id": "handmade-appliance",
   "metadata": {},
   "source": [
    "# Conclusion #3\n",
    "    \n",
    "    "
   ]
  },
  {
   "cell_type": "code",
   "execution_count": 100,
   "id": "genuine-awareness",
   "metadata": {},
   "outputs": [
    {
     "data": {
      "text/html": [
       "<div>\n",
       "<style scoped>\n",
       "    .dataframe tbody tr th:only-of-type {\n",
       "        vertical-align: middle;\n",
       "    }\n",
       "\n",
       "    .dataframe tbody tr th {\n",
       "        vertical-align: top;\n",
       "    }\n",
       "\n",
       "    .dataframe thead th {\n",
       "        text-align: right;\n",
       "    }\n",
       "</style>\n",
       "<table border=\"1\" class=\"dataframe\">\n",
       "  <thead>\n",
       "    <tr style=\"text-align: right;\">\n",
       "      <th></th>\n",
       "      <th>Model</th>\n",
       "      <th>randomunder</th>\n",
       "      <th>randomover</th>\n",
       "      <th>smote</th>\n",
       "      <th>nearmiss</th>\n",
       "    </tr>\n",
       "  </thead>\n",
       "  <tbody>\n",
       "    <tr>\n",
       "      <th>0</th>\n",
       "      <td>logreg</td>\n",
       "      <td>0.77</td>\n",
       "      <td>0.78</td>\n",
       "      <td>0.79</td>\n",
       "      <td>0.59</td>\n",
       "    </tr>\n",
       "    <tr>\n",
       "      <th>1</th>\n",
       "      <td>tree</td>\n",
       "      <td>0.68</td>\n",
       "      <td>0.11</td>\n",
       "      <td>0.16</td>\n",
       "      <td>0.75</td>\n",
       "    </tr>\n",
       "    <tr>\n",
       "      <th>2</th>\n",
       "      <td>knn</td>\n",
       "      <td>0.82</td>\n",
       "      <td>0.35</td>\n",
       "      <td>0.51</td>\n",
       "      <td>0.60</td>\n",
       "    </tr>\n",
       "  </tbody>\n",
       "</table>\n",
       "</div>"
      ],
      "text/plain": [
       "    Model  randomunder  randomover  smote  nearmiss\n",
       "0  logreg         0.77        0.78   0.79      0.59\n",
       "1    tree         0.68        0.11   0.16      0.75\n",
       "2     knn         0.82        0.35   0.51      0.60"
      ]
     },
     "execution_count": 100,
     "metadata": {},
     "output_type": "execute_result"
    }
   ],
   "source": [
    "def model_evaluation_cv_mean_overall():\n",
    "    model_test = [logreg, tree, knn]\n",
    "    imbalance_method = [randomunder, randomover, smote, nearmiss]\n",
    "    imbalance_method_name = ['randomunder', 'randomover', 'smote', 'nearmiss']\n",
    "    data_comparison = pd.DataFrame({'Model' : ['logreg', 'tree', 'knn']})\n",
    "    skfold = StratifiedKFold(n_splits = 5)\n",
    "    for i in range(len(imbalance_method)):\n",
    "        temp_list = []\n",
    "        for j in range(len(model_test)):\n",
    "            estimator = Pipeline([\n",
    "            ('preprocess', transformer_mean),\n",
    "            ('balancing', imbalance_method[i]),\n",
    "            ('model', model_test[j])\n",
    "        ])\n",
    "            model_cv = cross_val_score(estimator, x_train, y_train, scoring = 'recall', cv = skfold)\n",
    "            temp_list.append(round(model_cv.mean(),2))\n",
    "        data_comparison[imbalance_method_name[i]] = temp_list\n",
    "    return data_comparison\n",
    "\n",
    "model_evaluation_cv_mean_overall()            "
   ]
  },
  {
   "cell_type": "code",
   "execution_count": 102,
   "id": "overhead-color",
   "metadata": {},
   "outputs": [
    {
     "data": {
      "text/html": [
       "<div>\n",
       "<style scoped>\n",
       "    .dataframe tbody tr th:only-of-type {\n",
       "        vertical-align: middle;\n",
       "    }\n",
       "\n",
       "    .dataframe tbody tr th {\n",
       "        vertical-align: top;\n",
       "    }\n",
       "\n",
       "    .dataframe thead th {\n",
       "        text-align: right;\n",
       "    }\n",
       "</style>\n",
       "<table border=\"1\" class=\"dataframe\">\n",
       "  <thead>\n",
       "    <tr style=\"text-align: right;\">\n",
       "      <th></th>\n",
       "      <th>Model</th>\n",
       "      <th>randomunder</th>\n",
       "      <th>randomover</th>\n",
       "      <th>smote</th>\n",
       "      <th>nearmiss</th>\n",
       "    </tr>\n",
       "  </thead>\n",
       "  <tbody>\n",
       "    <tr>\n",
       "      <th>0</th>\n",
       "      <td>logreg</td>\n",
       "      <td>0.85</td>\n",
       "      <td>0.88</td>\n",
       "      <td>0.83</td>\n",
       "      <td>0.63</td>\n",
       "    </tr>\n",
       "    <tr>\n",
       "      <th>1</th>\n",
       "      <td>tree</td>\n",
       "      <td>0.73</td>\n",
       "      <td>0.17</td>\n",
       "      <td>0.12</td>\n",
       "      <td>0.68</td>\n",
       "    </tr>\n",
       "    <tr>\n",
       "      <th>2</th>\n",
       "      <td>knn</td>\n",
       "      <td>0.85</td>\n",
       "      <td>0.37</td>\n",
       "      <td>0.59</td>\n",
       "      <td>0.63</td>\n",
       "    </tr>\n",
       "  </tbody>\n",
       "</table>\n",
       "</div>"
      ],
      "text/plain": [
       "    Model  randomunder  randomover  smote  nearmiss\n",
       "0  logreg         0.85        0.88   0.83      0.63\n",
       "1    tree         0.73        0.17   0.12      0.68\n",
       "2     knn         0.85        0.37   0.59      0.63"
      ]
     },
     "execution_count": 102,
     "metadata": {},
     "output_type": "execute_result"
    }
   ],
   "source": [
    "def overall_func():\n",
    "    model_test = [logreg, tree, knn]\n",
    "    imbalance_method = [randomunder, randomover, smote, nearmiss]\n",
    "    imbalance_method_name = ['randomunder', 'randomover', 'smote', 'nearmiss']\n",
    "    data_comparison = pd.DataFrame({'Model' : ['logreg', 'tree', 'knn']})\n",
    "    for i in range(len(imbalance_method)):\n",
    "        temp_list = []\n",
    "        for j in range(len(model_test)):\n",
    "            estimator = Pipeline([\n",
    "                ('transformer', transformer_mean),\n",
    "                ('balancing', imbalance_method[i]),\n",
    "                ('model', model_test[j])])\n",
    "            estimator.fit(x_train, y_train)\n",
    "            y_pred = estimator.predict(x_test)\n",
    "            temp_list.append(round(recall_score(y_test, y_pred),2))\n",
    "        data_comparison[imbalance_method_name[i]] = temp_list\n",
    "    return data_comparison\n",
    "overall_func()"
   ]
  },
  {
   "cell_type": "markdown",
   "id": "catholic-germany",
   "metadata": {},
   "source": [
    "    \n",
    "    RANDOM UNDER :\n",
    "        logreg : 0.77 -> 0.85\n",
    "        tree : 0.68 -> 0.73\n",
    "        knn : 0.82 -> 0.85\n",
    "    RANDOM OVER :\n",
    "        logreg : 0.78 -> 0.88\n",
    "        tree : 0.11 -> 0.17\n",
    "        knn : 0.35 -> 0.37\n",
    "    SMOTE :\n",
    "        logreg : 0.77 -> 0.83\n",
    "        tree : 0.16 -> 0.12\n",
    "        knn : 0.51 -> 0.59\n",
    "    NEARMISS :\n",
    "        logreg : 0.59 -> 0.63\n",
    "        tree : 0.75 -> 0.68\n",
    "        knn : 0.60 -> 0.63\n",
    "        \n",
    "# Overall Best among the rest goes to Random Over Logreg with score of 0.88"
   ]
  },
  {
   "cell_type": "code",
   "execution_count": 68,
   "id": "ranging-thirty",
   "metadata": {},
   "outputs": [],
   "source": [
    "################################################################################################################################"
   ]
  },
  {
   "cell_type": "code",
   "execution_count": 104,
   "id": "thousand-bleeding",
   "metadata": {},
   "outputs": [],
   "source": [
    "poly_pipe = Pipeline([\n",
    "    ('Simple Imputer',SimpleImputer(strategy = 'mean')),\n",
    "    ('Poly', PolynomialFeatures(degree = 3, interaction_only = False, include_bias = False))\n",
    "])\n",
    "transformer_mean_logreg = ColumnTransformer([\n",
    "    ('One Hot', one_hot, ['gender','ever_married','Residence_type']),\n",
    "    ('Binary', binary, ['work_type','smoking_status']),\n",
    "    ('Polynomial', poly_pipe, ['bmi','avg_glucose_level'])\n",
    "], remainder = 'passthrough')"
   ]
  },
  {
   "cell_type": "code",
   "execution_count": 106,
   "id": "joined-allocation",
   "metadata": {},
   "outputs": [],
   "source": [
    "def model_evaluation_cv_mean_over(model):\n",
    "    skfold = StratifiedKFold(n_splits = 5)\n",
    "    estimator = Pipeline([\n",
    "    ('preprocess', transformer_mean_logreg),\n",
    "    ('balancing', randomover),\n",
    "    ('model', model)\n",
    "])\n",
    "    model_cv = cross_val_score(estimator, x_train, y_train, scoring = 'recall', cv = skfold)\n",
    "    return model_cv"
   ]
  },
  {
   "cell_type": "code",
   "execution_count": 107,
   "id": "binary-airplane",
   "metadata": {},
   "outputs": [
    {
     "name": "stdout",
     "output_type": "stream",
     "text": [
      "score :  [0.28571429 0.64705882 0.25714286 0.45714286 0.28571429]\n",
      "mean score :  0.38655462184873945\n",
      "std score :  0.14827682872447198\n"
     ]
    }
   ],
   "source": [
    "model_cv = model_evaluation_cv_mean_over(logreg)\n",
    "print_result(model_cv)"
   ]
  },
  {
   "cell_type": "code",
   "execution_count": 105,
   "id": "japanese-intent",
   "metadata": {},
   "outputs": [
    {
     "name": "stdout",
     "output_type": "stream",
     "text": [
      "              precision    recall  f1-score   support\n",
      "\n",
      "           0       0.97      0.86      0.91      1458\n",
      "           1       0.13      0.41      0.20        75\n",
      "\n",
      "    accuracy                           0.84      1533\n",
      "   macro avg       0.55      0.64      0.56      1533\n",
      "weighted avg       0.93      0.84      0.88      1533\n",
      "\n"
     ]
    }
   ],
   "source": [
    "estimatorlogreg = Pipeline([\n",
    "    ('transformer', transformer_mean_logreg),\n",
    "    ('balancing', randomover),\n",
    "    ('model', logreg)])\n",
    "estimatorlogreg.fit(x_train, y_train)\n",
    "y_pred = estimatorlogreg.predict(x_test)\n",
    "print(classification_report(y_test, y_pred))"
   ]
  },
  {
   "cell_type": "markdown",
   "id": "frank-domestic",
   "metadata": {},
   "source": [
    "    \n",
    "    Tidak tau kenapa ketika di polynomial, nilainya turun banyak, entah karena cara saya salah atau emang demikian"
   ]
  },
  {
   "cell_type": "code",
   "execution_count": 108,
   "id": "silver-cambridge",
   "metadata": {},
   "outputs": [],
   "source": [
    "################################################################################################################################"
   ]
  },
  {
   "cell_type": "code",
   "execution_count": 110,
   "id": "conventional-spank",
   "metadata": {},
   "outputs": [],
   "source": [
    "scale_pipe = Pipeline([\n",
    "    ('Simple Imputer',SimpleImputer(strategy = 'mean')),\n",
    "    ('Scaling', RobustScaler())\n",
    "])\n",
    "transformer_mean_logreg = ColumnTransformer([\n",
    "    ('One Hot', one_hot, ['gender','ever_married','Residence_type']),\n",
    "    ('Binary', binary, ['work_type','smoking_status']),\n",
    "    ('Scaling', scale_pipe, ['bmi','avg_glucose_level'])\n",
    "], remainder = 'passthrough')"
   ]
  },
  {
   "cell_type": "code",
   "execution_count": 114,
   "id": "third-workstation",
   "metadata": {},
   "outputs": [],
   "source": [
    "def model_evaluation_cv_mean_over(model):\n",
    "    skfold = StratifiedKFold(n_splits = 5)\n",
    "    estimator = Pipeline([\n",
    "    ('preprocess', transformer_mean_logreg),\n",
    "    ('balancing', randomover),\n",
    "    ('model', model)\n",
    "])\n",
    "    model_cv = cross_val_score(estimator, x_train, y_train, scoring = 'recall', cv = skfold)\n",
    "    return model_cv"
   ]
  },
  {
   "cell_type": "code",
   "execution_count": 115,
   "id": "catholic-affect",
   "metadata": {},
   "outputs": [
    {
     "name": "stdout",
     "output_type": "stream",
     "text": [
      "score :  [0.71428571 0.82352941 0.68571429 0.88571429 0.82857143]\n",
      "mean score :  0.787563025210084\n",
      "std score :  0.07530162027446238\n"
     ]
    }
   ],
   "source": [
    "model_cv = model_evaluation_cv_mean_over(logreg)\n",
    "print_result(model_cv)"
   ]
  },
  {
   "cell_type": "code",
   "execution_count": 113,
   "id": "executed-conditions",
   "metadata": {},
   "outputs": [
    {
     "name": "stdout",
     "output_type": "stream",
     "text": [
      "              precision    recall  f1-score   support\n",
      "\n",
      "           0       0.99      0.71      0.83      1458\n",
      "           1       0.13      0.87      0.23        75\n",
      "\n",
      "    accuracy                           0.72      1533\n",
      "   macro avg       0.56      0.79      0.53      1533\n",
      "weighted avg       0.95      0.72      0.80      1533\n",
      "\n"
     ]
    }
   ],
   "source": [
    "estimatorlogreg = Pipeline([\n",
    "    ('transformer', transformer_mean_logreg),\n",
    "    ('balancing', randomover),\n",
    "    ('model', logreg)])\n",
    "estimatorlogreg.fit(x_train, y_train)\n",
    "y_pred = estimatorlogreg.predict(x_test)\n",
    "print(classification_report(y_test, y_pred))"
   ]
  },
  {
   "cell_type": "markdown",
   "id": "copyrighted-bookmark",
   "metadata": {},
   "source": [
    "\n",
    "    Sama juga kalau dilakukan scaling, nilainya turun sedikit yaitu 0.01"
   ]
  },
  {
   "cell_type": "code",
   "execution_count": null,
   "id": "american-commons",
   "metadata": {},
   "outputs": [],
   "source": []
  }
 ],
 "metadata": {
  "kernelspec": {
   "display_name": "Python 3",
   "language": "python",
   "name": "python3"
  },
  "language_info": {
   "codemirror_mode": {
    "name": "ipython",
    "version": 3
   },
   "file_extension": ".py",
   "mimetype": "text/x-python",
   "name": "python",
   "nbconvert_exporter": "python",
   "pygments_lexer": "ipython3",
   "version": "3.7.9"
  }
 },
 "nbformat": 4,
 "nbformat_minor": 5
}
