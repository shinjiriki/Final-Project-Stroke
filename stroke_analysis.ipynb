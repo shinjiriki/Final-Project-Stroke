{
 "cells": [
  {
   "cell_type": "code",
   "execution_count": 1,
   "id": "coordinate-snake",
   "metadata": {},
   "outputs": [],
   "source": [
    "import pandas as pd\n",
    "import numpy as np\n",
    "import matplotlib.pyplot as plt\n",
    "import seaborn as sns\n",
    "import warnings\n",
    "from jupyterthemes import jtplot\n",
    "jtplot.style(theme = 'monokai', context = 'notebook',ticks=True, grid=False)\n",
    "warnings.filterwarnings(\"ignore\")\n",
    "%matplotlib inline"
   ]
  },
  {
   "cell_type": "code",
   "execution_count": 2,
   "id": "collaborative-beauty",
   "metadata": {},
   "outputs": [
    {
     "data": {
      "text/html": [
       "<div>\n",
       "<style scoped>\n",
       "    .dataframe tbody tr th:only-of-type {\n",
       "        vertical-align: middle;\n",
       "    }\n",
       "\n",
       "    .dataframe tbody tr th {\n",
       "        vertical-align: top;\n",
       "    }\n",
       "\n",
       "    .dataframe thead th {\n",
       "        text-align: right;\n",
       "    }\n",
       "</style>\n",
       "<table border=\"1\" class=\"dataframe\">\n",
       "  <thead>\n",
       "    <tr style=\"text-align: right;\">\n",
       "      <th></th>\n",
       "      <th>id</th>\n",
       "      <th>gender</th>\n",
       "      <th>age</th>\n",
       "      <th>hypertension</th>\n",
       "      <th>heart_disease</th>\n",
       "      <th>ever_married</th>\n",
       "      <th>work_type</th>\n",
       "      <th>Residence_type</th>\n",
       "      <th>avg_glucose_level</th>\n",
       "      <th>bmi</th>\n",
       "      <th>smoking_status</th>\n",
       "      <th>stroke</th>\n",
       "    </tr>\n",
       "  </thead>\n",
       "  <tbody>\n",
       "    <tr>\n",
       "      <th>0</th>\n",
       "      <td>9046</td>\n",
       "      <td>Male</td>\n",
       "      <td>67.0</td>\n",
       "      <td>0</td>\n",
       "      <td>1</td>\n",
       "      <td>Yes</td>\n",
       "      <td>Private</td>\n",
       "      <td>Urban</td>\n",
       "      <td>228.69</td>\n",
       "      <td>36.6</td>\n",
       "      <td>formerly smoked</td>\n",
       "      <td>1</td>\n",
       "    </tr>\n",
       "    <tr>\n",
       "      <th>1</th>\n",
       "      <td>51676</td>\n",
       "      <td>Female</td>\n",
       "      <td>61.0</td>\n",
       "      <td>0</td>\n",
       "      <td>0</td>\n",
       "      <td>Yes</td>\n",
       "      <td>Self-employed</td>\n",
       "      <td>Rural</td>\n",
       "      <td>202.21</td>\n",
       "      <td>NaN</td>\n",
       "      <td>never smoked</td>\n",
       "      <td>1</td>\n",
       "    </tr>\n",
       "    <tr>\n",
       "      <th>2</th>\n",
       "      <td>31112</td>\n",
       "      <td>Male</td>\n",
       "      <td>80.0</td>\n",
       "      <td>0</td>\n",
       "      <td>1</td>\n",
       "      <td>Yes</td>\n",
       "      <td>Private</td>\n",
       "      <td>Rural</td>\n",
       "      <td>105.92</td>\n",
       "      <td>32.5</td>\n",
       "      <td>never smoked</td>\n",
       "      <td>1</td>\n",
       "    </tr>\n",
       "    <tr>\n",
       "      <th>3</th>\n",
       "      <td>60182</td>\n",
       "      <td>Female</td>\n",
       "      <td>49.0</td>\n",
       "      <td>0</td>\n",
       "      <td>0</td>\n",
       "      <td>Yes</td>\n",
       "      <td>Private</td>\n",
       "      <td>Urban</td>\n",
       "      <td>171.23</td>\n",
       "      <td>34.4</td>\n",
       "      <td>smokes</td>\n",
       "      <td>1</td>\n",
       "    </tr>\n",
       "    <tr>\n",
       "      <th>4</th>\n",
       "      <td>1665</td>\n",
       "      <td>Female</td>\n",
       "      <td>79.0</td>\n",
       "      <td>1</td>\n",
       "      <td>0</td>\n",
       "      <td>Yes</td>\n",
       "      <td>Self-employed</td>\n",
       "      <td>Rural</td>\n",
       "      <td>174.12</td>\n",
       "      <td>24.0</td>\n",
       "      <td>never smoked</td>\n",
       "      <td>1</td>\n",
       "    </tr>\n",
       "    <tr>\n",
       "      <th>...</th>\n",
       "      <td>...</td>\n",
       "      <td>...</td>\n",
       "      <td>...</td>\n",
       "      <td>...</td>\n",
       "      <td>...</td>\n",
       "      <td>...</td>\n",
       "      <td>...</td>\n",
       "      <td>...</td>\n",
       "      <td>...</td>\n",
       "      <td>...</td>\n",
       "      <td>...</td>\n",
       "      <td>...</td>\n",
       "    </tr>\n",
       "    <tr>\n",
       "      <th>5105</th>\n",
       "      <td>18234</td>\n",
       "      <td>Female</td>\n",
       "      <td>80.0</td>\n",
       "      <td>1</td>\n",
       "      <td>0</td>\n",
       "      <td>Yes</td>\n",
       "      <td>Private</td>\n",
       "      <td>Urban</td>\n",
       "      <td>83.75</td>\n",
       "      <td>NaN</td>\n",
       "      <td>never smoked</td>\n",
       "      <td>0</td>\n",
       "    </tr>\n",
       "    <tr>\n",
       "      <th>5106</th>\n",
       "      <td>44873</td>\n",
       "      <td>Female</td>\n",
       "      <td>81.0</td>\n",
       "      <td>0</td>\n",
       "      <td>0</td>\n",
       "      <td>Yes</td>\n",
       "      <td>Self-employed</td>\n",
       "      <td>Urban</td>\n",
       "      <td>125.20</td>\n",
       "      <td>40.0</td>\n",
       "      <td>never smoked</td>\n",
       "      <td>0</td>\n",
       "    </tr>\n",
       "    <tr>\n",
       "      <th>5107</th>\n",
       "      <td>19723</td>\n",
       "      <td>Female</td>\n",
       "      <td>35.0</td>\n",
       "      <td>0</td>\n",
       "      <td>0</td>\n",
       "      <td>Yes</td>\n",
       "      <td>Self-employed</td>\n",
       "      <td>Rural</td>\n",
       "      <td>82.99</td>\n",
       "      <td>30.6</td>\n",
       "      <td>never smoked</td>\n",
       "      <td>0</td>\n",
       "    </tr>\n",
       "    <tr>\n",
       "      <th>5108</th>\n",
       "      <td>37544</td>\n",
       "      <td>Male</td>\n",
       "      <td>51.0</td>\n",
       "      <td>0</td>\n",
       "      <td>0</td>\n",
       "      <td>Yes</td>\n",
       "      <td>Private</td>\n",
       "      <td>Rural</td>\n",
       "      <td>166.29</td>\n",
       "      <td>25.6</td>\n",
       "      <td>formerly smoked</td>\n",
       "      <td>0</td>\n",
       "    </tr>\n",
       "    <tr>\n",
       "      <th>5109</th>\n",
       "      <td>44679</td>\n",
       "      <td>Female</td>\n",
       "      <td>44.0</td>\n",
       "      <td>0</td>\n",
       "      <td>0</td>\n",
       "      <td>Yes</td>\n",
       "      <td>Govt_job</td>\n",
       "      <td>Urban</td>\n",
       "      <td>85.28</td>\n",
       "      <td>26.2</td>\n",
       "      <td>Unknown</td>\n",
       "      <td>0</td>\n",
       "    </tr>\n",
       "  </tbody>\n",
       "</table>\n",
       "<p>5110 rows × 12 columns</p>\n",
       "</div>"
      ],
      "text/plain": [
       "         id  gender   age  hypertension  heart_disease ever_married  \\\n",
       "0      9046    Male  67.0             0              1          Yes   \n",
       "1     51676  Female  61.0             0              0          Yes   \n",
       "2     31112    Male  80.0             0              1          Yes   \n",
       "3     60182  Female  49.0             0              0          Yes   \n",
       "4      1665  Female  79.0             1              0          Yes   \n",
       "...     ...     ...   ...           ...            ...          ...   \n",
       "5105  18234  Female  80.0             1              0          Yes   \n",
       "5106  44873  Female  81.0             0              0          Yes   \n",
       "5107  19723  Female  35.0             0              0          Yes   \n",
       "5108  37544    Male  51.0             0              0          Yes   \n",
       "5109  44679  Female  44.0             0              0          Yes   \n",
       "\n",
       "          work_type Residence_type  avg_glucose_level   bmi   smoking_status  \\\n",
       "0           Private          Urban             228.69  36.6  formerly smoked   \n",
       "1     Self-employed          Rural             202.21   NaN     never smoked   \n",
       "2           Private          Rural             105.92  32.5     never smoked   \n",
       "3           Private          Urban             171.23  34.4           smokes   \n",
       "4     Self-employed          Rural             174.12  24.0     never smoked   \n",
       "...             ...            ...                ...   ...              ...   \n",
       "5105        Private          Urban              83.75   NaN     never smoked   \n",
       "5106  Self-employed          Urban             125.20  40.0     never smoked   \n",
       "5107  Self-employed          Rural              82.99  30.6     never smoked   \n",
       "5108        Private          Rural             166.29  25.6  formerly smoked   \n",
       "5109       Govt_job          Urban              85.28  26.2          Unknown   \n",
       "\n",
       "      stroke  \n",
       "0          1  \n",
       "1          1  \n",
       "2          1  \n",
       "3          1  \n",
       "4          1  \n",
       "...      ...  \n",
       "5105       0  \n",
       "5106       0  \n",
       "5107       0  \n",
       "5108       0  \n",
       "5109       0  \n",
       "\n",
       "[5110 rows x 12 columns]"
      ]
     },
     "execution_count": 2,
     "metadata": {},
     "output_type": "execute_result"
    }
   ],
   "source": [
    "df = pd.read_csv('healthcare-dataset-stroke-data.csv')\n",
    "df"
   ]
  },
  {
   "cell_type": "markdown",
   "id": "familiar-jaguar",
   "metadata": {},
   "source": [
    "# Attribute Information\n",
    "    1) id: unique identifier\n",
    "    2) gender: \"Male\", \"Female\" or \"Other\"\n",
    "    3) age: age of the patient\n",
    "    4) hypertension: 0 if the patient doesn't have hypertension, 1 if the patient has hypertension\n",
    "    5) heart_disease: 0 if the patient doesn't have any heart diseases, 1 if the patient has a heart disease\n",
    "    6) ever_married: \"No\" or \"Yes\"\n",
    "    7) work_type: \"children\", \"Govt_jov\", \"Never_worked\", \"Private\" or \"Self-employed\"\n",
    "    8) Residence_type: \"Rural\" or \"Urban\"\n",
    "    9) avg_glucose_level: average glucose level in blood\n",
    "    10) bmi: body mass index\n",
    "    11) smoking_status: \"formerly smoked\", \"never smoked\", \"smokes\" or \"Unknown\"*\n",
    "    12) stroke: 1 if the patient had a stroke or 0 if not\n",
    "*Note: \"Unknown\" in smoking_status means that the information is unavailable for this patient"
   ]
  },
  {
   "cell_type": "markdown",
   "id": "alternate-latter",
   "metadata": {},
   "source": [
    "# What is a Stroke?\n",
    "    A stroke occurs when the blood supply to part of your brain is interrupted or reduced, preventing brain tissue from getting oxygen and nutrients. Brain cells begin to die in minutes.\n",
    "    \n",
    "    A stroke is a medical emergency, and prompt treatment is crucial. Early action can reduce brain damage and other complications.\n",
    "\n",
    "# What causes a Stroke?\n",
    "\n",
    "    - Lifestyle risk factors:\n",
    "        Being underweight, overweight or obese\n",
    "        Physical inactivity\n",
    "        Heavy or binge drinking\n",
    "        Use of illegal drugs such as cocaine and methamphetamine\n",
    "        \n",
    "    - Medical risk factors\n",
    "        High blood pressure\n",
    "        Cigarette smoking or secondhand smoke exposure\n",
    "        High cholesterol\n",
    "        Diabetes\n",
    "        Obstructive sleep apnea\n",
    "        Cardiovascular disease, including heart failure, heart defects, heart infection or \n",
    "        abnormal heart rhythm\n",
    "        Personal or family history of stroke, heart attack\n",
    "        COVID-19 infection\n",
    "        \n",
    "    - Other factors associated with a higher risk of stroke include:\n",
    "        Age — People age 55 or older have a higher risk of stroke than do younger people.\n",
    "        Race — African Americans have a higher risk of stroke than do people of other races.\n",
    "        Sex — Men have a higher risk of stroke than women. Women are usually older when \n",
    "        they have strokes, and they're more likely to die of strokes than are men.\n",
    "        Hormones — Use of birth control pills or hormone therapies that include estrogen \n",
    "        increases risk.\n",
    "        \n",
    "Source : https://www.mayoclinic.org/diseases-conditions/stroke/symptoms-causes/syc-20350113#:~:text=There%20are%20two%20main%20causes,doesn't%20cause%20lasting%20symptoms."
   ]
  },
  {
   "cell_type": "code",
   "execution_count": 3,
   "id": "raising-waste",
   "metadata": {},
   "outputs": [],
   "source": [
    "eda = df.copy()"
   ]
  },
  {
   "cell_type": "code",
   "execution_count": 4,
   "id": "assigned-maker",
   "metadata": {},
   "outputs": [],
   "source": [
    "eda.drop('id', inplace = True, axis = 1)"
   ]
  },
  {
   "cell_type": "code",
   "execution_count": 5,
   "id": "detailed-genome",
   "metadata": {},
   "outputs": [
    {
     "data": {
      "text/plain": [
       "Index(['gender', 'age', 'hypertension', 'heart_disease', 'ever_married',\n",
       "       'work_type', 'Residence_type', 'avg_glucose_level', 'bmi',\n",
       "       'smoking_status', 'stroke'],\n",
       "      dtype='object')"
      ]
     },
     "execution_count": 5,
     "metadata": {},
     "output_type": "execute_result"
    }
   ],
   "source": [
    "eda.columns"
   ]
  },
  {
   "cell_type": "code",
   "execution_count": 6,
   "id": "supposed-filename",
   "metadata": {},
   "outputs": [],
   "source": [
    "eda.rename(columns={\"gender\": \"sex\", \"hypertension\": \"hbd\", \"heart_disease\": \"hd\", \"ever_married\": \"married\",\n",
    "                     \"work_type\": \"worked\", \"Residence_type\": \"habitance\", \"avg_glucose_level\": \"glucose\",\n",
    "                     \"smoking_status\": \"smoked\"}, inplace = True)"
   ]
  },
  {
   "cell_type": "markdown",
   "id": "distributed-campbell",
   "metadata": {},
   "source": [
    "Column Rename Definition :\n",
    "\n",
    "    hbd = High Blood Pressure\n",
    "    hd = Heart Disease"
   ]
  },
  {
   "cell_type": "code",
   "execution_count": 7,
   "id": "continuing-faith",
   "metadata": {},
   "outputs": [
    {
     "data": {
      "text/html": [
       "<div>\n",
       "<style scoped>\n",
       "    .dataframe tbody tr th:only-of-type {\n",
       "        vertical-align: middle;\n",
       "    }\n",
       "\n",
       "    .dataframe tbody tr th {\n",
       "        vertical-align: top;\n",
       "    }\n",
       "\n",
       "    .dataframe thead th {\n",
       "        text-align: right;\n",
       "    }\n",
       "</style>\n",
       "<table border=\"1\" class=\"dataframe\">\n",
       "  <thead>\n",
       "    <tr style=\"text-align: right;\">\n",
       "      <th></th>\n",
       "      <th>sex</th>\n",
       "      <th>age</th>\n",
       "      <th>hbd</th>\n",
       "      <th>hd</th>\n",
       "      <th>married</th>\n",
       "      <th>worked</th>\n",
       "      <th>habitance</th>\n",
       "      <th>glucose</th>\n",
       "      <th>bmi</th>\n",
       "      <th>smoked</th>\n",
       "      <th>stroke</th>\n",
       "    </tr>\n",
       "  </thead>\n",
       "  <tbody>\n",
       "    <tr>\n",
       "      <th>0</th>\n",
       "      <td>Male</td>\n",
       "      <td>67.0</td>\n",
       "      <td>0</td>\n",
       "      <td>1</td>\n",
       "      <td>Yes</td>\n",
       "      <td>Private</td>\n",
       "      <td>Urban</td>\n",
       "      <td>228.69</td>\n",
       "      <td>36.6</td>\n",
       "      <td>formerly smoked</td>\n",
       "      <td>1</td>\n",
       "    </tr>\n",
       "    <tr>\n",
       "      <th>1</th>\n",
       "      <td>Female</td>\n",
       "      <td>61.0</td>\n",
       "      <td>0</td>\n",
       "      <td>0</td>\n",
       "      <td>Yes</td>\n",
       "      <td>Self-employed</td>\n",
       "      <td>Rural</td>\n",
       "      <td>202.21</td>\n",
       "      <td>NaN</td>\n",
       "      <td>never smoked</td>\n",
       "      <td>1</td>\n",
       "    </tr>\n",
       "    <tr>\n",
       "      <th>2</th>\n",
       "      <td>Male</td>\n",
       "      <td>80.0</td>\n",
       "      <td>0</td>\n",
       "      <td>1</td>\n",
       "      <td>Yes</td>\n",
       "      <td>Private</td>\n",
       "      <td>Rural</td>\n",
       "      <td>105.92</td>\n",
       "      <td>32.5</td>\n",
       "      <td>never smoked</td>\n",
       "      <td>1</td>\n",
       "    </tr>\n",
       "    <tr>\n",
       "      <th>3</th>\n",
       "      <td>Female</td>\n",
       "      <td>49.0</td>\n",
       "      <td>0</td>\n",
       "      <td>0</td>\n",
       "      <td>Yes</td>\n",
       "      <td>Private</td>\n",
       "      <td>Urban</td>\n",
       "      <td>171.23</td>\n",
       "      <td>34.4</td>\n",
       "      <td>smokes</td>\n",
       "      <td>1</td>\n",
       "    </tr>\n",
       "    <tr>\n",
       "      <th>4</th>\n",
       "      <td>Female</td>\n",
       "      <td>79.0</td>\n",
       "      <td>1</td>\n",
       "      <td>0</td>\n",
       "      <td>Yes</td>\n",
       "      <td>Self-employed</td>\n",
       "      <td>Rural</td>\n",
       "      <td>174.12</td>\n",
       "      <td>24.0</td>\n",
       "      <td>never smoked</td>\n",
       "      <td>1</td>\n",
       "    </tr>\n",
       "    <tr>\n",
       "      <th>...</th>\n",
       "      <td>...</td>\n",
       "      <td>...</td>\n",
       "      <td>...</td>\n",
       "      <td>...</td>\n",
       "      <td>...</td>\n",
       "      <td>...</td>\n",
       "      <td>...</td>\n",
       "      <td>...</td>\n",
       "      <td>...</td>\n",
       "      <td>...</td>\n",
       "      <td>...</td>\n",
       "    </tr>\n",
       "    <tr>\n",
       "      <th>5105</th>\n",
       "      <td>Female</td>\n",
       "      <td>80.0</td>\n",
       "      <td>1</td>\n",
       "      <td>0</td>\n",
       "      <td>Yes</td>\n",
       "      <td>Private</td>\n",
       "      <td>Urban</td>\n",
       "      <td>83.75</td>\n",
       "      <td>NaN</td>\n",
       "      <td>never smoked</td>\n",
       "      <td>0</td>\n",
       "    </tr>\n",
       "    <tr>\n",
       "      <th>5106</th>\n",
       "      <td>Female</td>\n",
       "      <td>81.0</td>\n",
       "      <td>0</td>\n",
       "      <td>0</td>\n",
       "      <td>Yes</td>\n",
       "      <td>Self-employed</td>\n",
       "      <td>Urban</td>\n",
       "      <td>125.20</td>\n",
       "      <td>40.0</td>\n",
       "      <td>never smoked</td>\n",
       "      <td>0</td>\n",
       "    </tr>\n",
       "    <tr>\n",
       "      <th>5107</th>\n",
       "      <td>Female</td>\n",
       "      <td>35.0</td>\n",
       "      <td>0</td>\n",
       "      <td>0</td>\n",
       "      <td>Yes</td>\n",
       "      <td>Self-employed</td>\n",
       "      <td>Rural</td>\n",
       "      <td>82.99</td>\n",
       "      <td>30.6</td>\n",
       "      <td>never smoked</td>\n",
       "      <td>0</td>\n",
       "    </tr>\n",
       "    <tr>\n",
       "      <th>5108</th>\n",
       "      <td>Male</td>\n",
       "      <td>51.0</td>\n",
       "      <td>0</td>\n",
       "      <td>0</td>\n",
       "      <td>Yes</td>\n",
       "      <td>Private</td>\n",
       "      <td>Rural</td>\n",
       "      <td>166.29</td>\n",
       "      <td>25.6</td>\n",
       "      <td>formerly smoked</td>\n",
       "      <td>0</td>\n",
       "    </tr>\n",
       "    <tr>\n",
       "      <th>5109</th>\n",
       "      <td>Female</td>\n",
       "      <td>44.0</td>\n",
       "      <td>0</td>\n",
       "      <td>0</td>\n",
       "      <td>Yes</td>\n",
       "      <td>Govt_job</td>\n",
       "      <td>Urban</td>\n",
       "      <td>85.28</td>\n",
       "      <td>26.2</td>\n",
       "      <td>Unknown</td>\n",
       "      <td>0</td>\n",
       "    </tr>\n",
       "  </tbody>\n",
       "</table>\n",
       "<p>5110 rows × 11 columns</p>\n",
       "</div>"
      ],
      "text/plain": [
       "         sex   age  hbd  hd married         worked habitance  glucose   bmi  \\\n",
       "0       Male  67.0    0   1     Yes        Private     Urban   228.69  36.6   \n",
       "1     Female  61.0    0   0     Yes  Self-employed     Rural   202.21   NaN   \n",
       "2       Male  80.0    0   1     Yes        Private     Rural   105.92  32.5   \n",
       "3     Female  49.0    0   0     Yes        Private     Urban   171.23  34.4   \n",
       "4     Female  79.0    1   0     Yes  Self-employed     Rural   174.12  24.0   \n",
       "...      ...   ...  ...  ..     ...            ...       ...      ...   ...   \n",
       "5105  Female  80.0    1   0     Yes        Private     Urban    83.75   NaN   \n",
       "5106  Female  81.0    0   0     Yes  Self-employed     Urban   125.20  40.0   \n",
       "5107  Female  35.0    0   0     Yes  Self-employed     Rural    82.99  30.6   \n",
       "5108    Male  51.0    0   0     Yes        Private     Rural   166.29  25.6   \n",
       "5109  Female  44.0    0   0     Yes       Govt_job     Urban    85.28  26.2   \n",
       "\n",
       "               smoked  stroke  \n",
       "0     formerly smoked       1  \n",
       "1        never smoked       1  \n",
       "2        never smoked       1  \n",
       "3              smokes       1  \n",
       "4        never smoked       1  \n",
       "...               ...     ...  \n",
       "5105     never smoked       0  \n",
       "5106     never smoked       0  \n",
       "5107     never smoked       0  \n",
       "5108  formerly smoked       0  \n",
       "5109          Unknown       0  \n",
       "\n",
       "[5110 rows x 11 columns]"
      ]
     },
     "execution_count": 7,
     "metadata": {},
     "output_type": "execute_result"
    }
   ],
   "source": [
    "eda = eda[['sex','age','hbd','hd','married','worked','habitance','glucose','bmi','smoked',\n",
    "          'stroke']] #rearrange the column order\n",
    "eda"
   ]
  },
  {
   "cell_type": "markdown",
   "id": "disabled-parcel",
   "metadata": {},
   "source": [
    "# Quick check for BMI(Body Mass Index)"
   ]
  },
  {
   "cell_type": "markdown",
   "id": "chemical-investment",
   "metadata": {},
   "source": [
    "According to the source :https://www.cdc.gov/healthyweight/assessing/bmi/adult_bmi/index.html\n",
    "\n",
    "    below 18.5 – you're in the underweight range\n",
    "    between 18.5 and 24.9 – you're in the healthy weight range\n",
    "    between 25 and 29.9 – you're in the overweight range\n",
    "    between 30 and 39.9 – you're in the obese range \n",
    "    \n",
    "Note : this BMI can only be applied on adults (20 years old and older), as for people below 20 years old, they have their own way on measuring their BMI."
   ]
  },
  {
   "cell_type": "code",
   "execution_count": 8,
   "id": "minor-cleanup",
   "metadata": {},
   "outputs": [
    {
     "data": {
      "text/plain": [
       "(3160, 61.84)"
      ]
     },
     "execution_count": 8,
     "metadata": {},
     "output_type": "execute_result"
    }
   ],
   "source": [
    "len(eda[(eda['age'] >= 20) & ((eda['bmi'] < 18.5) | (eda['bmi'] >= 25))]), round(len(eda[(eda['age'] >= 20) & ((eda['bmi'] < 18.5) | (eda['bmi'] >= 25))])\n",
    "                                                                                 /len(eda)*100, 2)"
   ]
  },
  {
   "cell_type": "markdown",
   "id": "sapphire-nerve",
   "metadata": {},
   "source": [
    "    There's 3160 people in the data that can be labeled as (under/overweight,obesity) which is around \n",
    "    61.84% of the sample. (There's more people who's under/over/obesity than normal weight people)"
   ]
  },
  {
   "cell_type": "markdown",
   "id": "satisfactory-niger",
   "metadata": {},
   "source": [
    "    For future readings and explanation, normal bmi will be labeled as data_a and underweight, overweight, and \n",
    "    obesity bmi will be labeled as data_b"
   ]
  },
  {
   "cell_type": "code",
   "execution_count": 9,
   "id": "acquired-replica",
   "metadata": {},
   "outputs": [],
   "source": [
    "data_a = eda[(eda['age'] >= 20) & ((eda['bmi'] >= 18.5) & (eda['bmi'] < 25))] # normal bmi\n",
    "data_b = eda[(eda['age'] >= 20) & ((eda['bmi'] < 18.5) | (eda['bmi'] >= 25))] # underweight, overweight, obesity"
   ]
  },
  {
   "cell_type": "code",
   "execution_count": 10,
   "id": "dense-pharmaceutical",
   "metadata": {},
   "outputs": [
    {
     "data": {
      "image/png": "[encoded data removed]",
      "text/plain": [
       "<Figure size 1080x360 with 2 Axes>"
      ]
     },
     "metadata": {
      "needs_background": "dark"
     },
     "output_type": "display_data"
    }
   ],
   "source": [
    "fig, axes = plt.subplots(1, 2, figsize=(15, 5))\n",
    "fig.suptitle('Visualization Age BMI')\n",
    "sns.distplot(data_a['age'], kde = False, ax = axes[0], hist_kws=dict(edgecolor=\"w\", linewidth=1))\n",
    "axes[0].set_title('Normal BMI')\n",
    "sns.distplot(data_b['age'], kde = False, ax = axes[1], hist_kws=dict(edgecolor=\"w\", linewidth=1))\n",
    "axes[1].set_title('Underweight, Overweight and Obesity BMI')\n",
    "fig.tight_layout()\n",
    "plt.show()\n"
   ]
  },
  {
   "cell_type": "markdown",
   "id": "compliant-custody",
   "metadata": {},
   "source": [
    "I can conclude by looking at the graph that people are most found being underweight, overweight or obesity in the age of 50 to 60 years old. This statement is in line with this article https://www.cdc.gov/obesity/data/adult.html, where it says :\n",
    "    \n",
    "        The prevalence of obesity was 40.0% among adults aged 20 to 39 years, 44.8% among adults aged 40 to 59 years, and 42.8% among adults aged 60 and older.\n",
    "        \n",
    "Which explains why the top 4 bars is in between the age of 40 and 60\n",
    "\n",
    "As for normal BMI, mostly are found in the age of 20 to 25 followed by age 75 above. This may be the case because those people just reach adulthood(20 - 25). As for the old people, there's an article written : \n",
    "\n",
    "    “Obesity incidence starts increasing in one’s twenties and peaks at 40 to 59, and then decreases \n",
    "    slightly after age 60,” says Craig Primack, MD, an obesity medicine physician at the Scottsdale \n",
    "    Weight Loss Center in Arizona."
   ]
  },
  {
   "cell_type": "markdown",
   "id": "double-broadcast",
   "metadata": {},
   "source": [
    "# Why BMI? how's that supposed to with Stroke? \n",
    "\n",
    "    One of the cause of Stroke is underweight, overweight and obesity. Which is why I need split those data\n",
    "    to be a much specific section which would be data_a and data_b\n"
   ]
  },
  {
   "cell_type": "code",
   "execution_count": 11,
   "id": "improving-point",
   "metadata": {},
   "outputs": [
    {
     "name": "stdout",
     "output_type": "stream",
     "text": [
      "Percentage amount of normal bmi people with Stroke :  0.68\n",
      "Percentage amount of under/over/obesity bmi people with Stroke :  3.39\n"
     ]
    }
   ],
   "source": [
    "print('Percentage amount of normal bmi people with Stroke : ',round(data_a['stroke'].value_counts()[1]/len(eda['age'] >= 20)*100, 2))\n",
    "print('Percentage amount of under/over/obesity bmi people with Stroke : ',round(data_b['stroke'].value_counts()[1]/len(eda['age'] >= 20)*100, 2))"
   ]
  },
  {
   "cell_type": "markdown",
   "id": "cosmetic-saint",
   "metadata": {},
   "source": [
    "    This explains that data_b (people with underweight, overweight and obesity) has a bigger chance to prone to \n",
    "    getting a Stroke than data_a(normal bmi)."
   ]
  },
  {
   "cell_type": "markdown",
   "id": "electric-narrative",
   "metadata": {},
   "source": [
    "# Is there any relation between age and stroke?"
   ]
  },
  {
   "cell_type": "code",
   "execution_count": 12,
   "id": "unlikely-quest",
   "metadata": {},
   "outputs": [
    {
     "data": {
      "text/plain": [
       "<seaborn.axisgrid.FacetGrid at 0x2387ea8b688>"
      ]
     },
     "execution_count": 12,
     "metadata": {},
     "output_type": "execute_result"
    },
    {
     "data": {
      "image/png": "[encoded data removed]",
      "text/plain": [
       "<Figure size 412.36x360 with 1 Axes>"
      ]
     },
     "metadata": {
      "needs_background": "dark"
     },
     "output_type": "display_data"
    }
   ],
   "source": [
    "sns.displot(data = eda, x = eda['age'], hue = eda['stroke'])"
   ]
  },
  {
   "cell_type": "markdown",
   "id": "figured-brooklyn",
   "metadata": {},
   "source": [
    "Stroke occurs in all age groups.  Studies show the risk of stroke doubles for each decade between the ages of 55 and 85.  But strokes also can occur in childhood or adolescence.  Although stroke is often considered a disease of aging, the risk of stroke in childhood is actually highest during the perinatal period, which encompasses the last few months of fetal life and the first few weeks after birth.\n",
    "\n",
    "Source : https://www.ninds.nih.gov/Disorders/Patient-Caregiver-Education/Preventing-Stroke#:~:text=Stroke%20occurs%20in%20all%20age,occur%20in%20childhood%20or%20adolescence.    \n",
    "    \n",
    "    As we can see, Stroke began to shows at the age of 40, which is earlier than what was told by the article \n",
    "    itself might proof that as time goes on, humans are more prone to Stroke in a much early age."
   ]
  },
  {
   "cell_type": "markdown",
   "id": "decimal-trance",
   "metadata": {},
   "source": [
    "# BLOOD SUGAR TEST / AVG GLUCOSE LEVEL   \n",
    "What's the relation between glucose level and Stroke? A high blood sugar could cause Diabetes which is one of the a risk factors for Stroke    \n",
    "    \n",
    "    Less than 100 mg/dL = normal\n",
    "    Between 110–125 mg/dL = impaired fasting glucose (i.e., prediabetes)\n",
    "    Greater than 126 mg/dL on two or more samples = diabetes"
   ]
  },
  {
   "cell_type": "code",
   "execution_count": 13,
   "id": "indirect-equivalent",
   "metadata": {},
   "outputs": [
    {
     "name": "stdout",
     "output_type": "stream",
     "text": [
      "Stroke Percentage for people with normal blood pressure :  3.58\n",
      "Stroke Percentage for people with diabestes :  10.19\n"
     ]
    }
   ],
   "source": [
    "print('Stroke Percentage for people with normal blood pressure : ',round(eda[eda['glucose'] < 100]['stroke'].value_counts()[1]/ len(eda[eda['glucose'] < 100]['stroke'])*100, 2))\n",
    "print('Stroke Percentage for people with diabestes : ',round(eda[eda['glucose'] > 126]['stroke'].value_counts()[1]/ len(eda[eda['glucose'] > 126]['stroke'])*100, 2))"
   ]
  },
  {
   "cell_type": "markdown",
   "id": "mental-joshua",
   "metadata": {},
   "source": [
    "    \n",
    "    People with Diabetest are prone to Stroke more than people with normal blood pressure"
   ]
  },
  {
   "cell_type": "markdown",
   "id": "alpha-residence",
   "metadata": {},
   "source": [
    "# High Blood Pressure towards Stroke"
   ]
  },
  {
   "cell_type": "code",
   "execution_count": 14,
   "id": "vulnerable-equivalent",
   "metadata": {},
   "outputs": [
    {
     "name": "stdout",
     "output_type": "stream",
     "text": [
      "Stroke Percentage for people with High Blood Pressure(1) :  13.25\n",
      "Stroke Percentage for people with Normal Blood Pressure(0) :  3.97\n"
     ]
    },
    {
     "data": {
      "image/png": "[encoded data removed]",
      "text/plain": [
       "<Figure size 432x288 with 1 Axes>"
      ]
     },
     "metadata": {
      "needs_background": "dark"
     },
     "output_type": "display_data"
    }
   ],
   "source": [
    "sns.countplot(data = eda, x = eda['hbd'], hue = eda['stroke'])\n",
    "print('Stroke Percentage for people with High Blood Pressure(1) : ',round(eda[eda['hbd'] == 1]['stroke'].value_counts()[1]/ len(eda[eda['hbd'] == 1]['stroke'])*100, 2))\n",
    "print('Stroke Percentage for people with Normal Blood Pressure(0) : ',round(eda[eda['hbd'] == 0]['stroke'].value_counts()[1]/ len(eda[eda['hbd'] == 0]['stroke'])*100, 2))"
   ]
  },
  {
   "cell_type": "markdown",
   "id": "viral-pharmacology",
   "metadata": {},
   "source": [
    "    \n",
    "    This explain how more people with High Blood Pressure are more prone to getting Stroke than people who has \n",
    "    normal high blood pressure with a difference of 9.28%"
   ]
  },
  {
   "cell_type": "code",
   "execution_count": 15,
   "id": "digital-target",
   "metadata": {},
   "outputs": [
    {
     "name": "stdout",
     "output_type": "stream",
     "text": [
      "Stroke Percentage for people that formerly smoked :  7.91\n",
      "Stroke Percentage for people that never smoked :  4.76\n",
      "Stroke Percentage for people that smokes :  5.32\n",
      "Stroke Percentage for people that Unknown :  3.04\n"
     ]
    },
    {
     "data": {
      "image/png": "[encoded data removed]",
      "text/plain": [
       "<Figure size 432x288 with 1 Axes>"
      ]
     },
     "metadata": {
      "needs_background": "dark"
     },
     "output_type": "display_data"
    }
   ],
   "source": [
    "sns.countplot(data = eda, x = eda['smoked'], hue = eda['stroke'])\n",
    "for i in eda['smoked'].unique():\n",
    "    print(f'Stroke Percentage for people that {i} : ',round(eda[eda['smoked'] == f'{i}']['stroke'].value_counts()[1]/ len(eda[eda['smoked'] == f'{i}']['stroke'])*100, 2))"
   ]
  },
  {
   "cell_type": "markdown",
   "id": "unnecessary-command",
   "metadata": {},
   "source": [
    "    \n",
    "    People who smokes (either formerly or active), has a higher chance to get a Stroke. As for why the percent \n",
    "    difference between people smoke actively smokes and who doesn't is small, was because people who didn't \n",
    "    smoke might still have other factors like what was explained above, like overweight, high blood pressure, etc.\n",
    "    But this won't deny the fact that people that smokes/d are prone to Stroke than who doesn't."
   ]
  },
  {
   "cell_type": "markdown",
   "id": "executive-thread",
   "metadata": {},
   "source": [
    "# RISK OF STROKE ACCORDING TO THEIR GENDER"
   ]
  },
  {
   "cell_type": "code",
   "execution_count": 16,
   "id": "antique-console",
   "metadata": {},
   "outputs": [
    {
     "name": "stdout",
     "output_type": "stream",
     "text": [
      "Stroke Percentage for people that Male :  5.11\n",
      "Stroke Percentage for people that Female :  4.71\n"
     ]
    }
   ],
   "source": [
    "for i in eda['sex'].unique()[0:2]:\n",
    "    print(f'Stroke Percentage for people that {i} : ',round(eda[eda['sex'] == f'{i}']['stroke'].value_counts()[1]/ len(eda[eda['sex'] == f'{i}']['stroke'])*100, 2))"
   ]
  },
  {
   "cell_type": "markdown",
   "id": "embedded-namibia",
   "metadata": {},
   "source": [
    "    \n",
    "    The difference between male and female who has stroke wasn't that much of a difference, just by 0.4\n",
    "    So Gender doesn't really affect much when it comes to getting a strokea according to the data."
   ]
  },
  {
   "cell_type": "markdown",
   "id": "excessive-sweden",
   "metadata": {},
   "source": [
    "# Does job status affects the chance of getting a Stroke?"
   ]
  },
  {
   "cell_type": "code",
   "execution_count": 17,
   "id": "short-occupation",
   "metadata": {},
   "outputs": [
    {
     "name": "stdout",
     "output_type": "stream",
     "text": [
      "Stroke Percentage for people that Private :  5.09\n",
      "Stroke Percentage for people that Self-employed :  7.94\n",
      "Stroke Percentage for people that Govt_job :  5.02\n",
      "Stroke Percentage for people that children :  0.29\n"
     ]
    },
    {
     "data": {
      "image/png": "[encoded data removed]",
      "text/plain": [
       "<Figure size 432x288 with 1 Axes>"
      ]
     },
     "metadata": {
      "needs_background": "dark"
     },
     "output_type": "display_data"
    }
   ],
   "source": [
    "sns.countplot(data = eda, x = eda['worked'], hue = eda['stroke'])\n",
    "for i in eda['worked'].unique()[0:4]:\n",
    "    print(f'Stroke Percentage for people that {i} : ',round(eda[eda['worked'] == f'{i}']['stroke'].value_counts()[1]/ len(eda[eda['worked'] == f'{i}']['stroke'])*100, 2))"
   ]
  },
  {
   "attachments": {
    "image.png": {
     "image/png": "[encoded data removed]"
    }
   },
   "cell_type": "markdown",
   "id": "seventh-lodging",
   "metadata": {},
   "source": [
    "There's a quick note that I need to point out, that here we didn't see the 'never worked' section, that's because there's no stroke in that category.\n",
    "\n",
    "    People who are self-employed are more prone to getting a Stroke rather than working a in private section or\n",
    "    govt job and of course children. \n",
    "# BUT do working affects the risk of getting a Stroke?\n",
    "\n",
    "    Well yes. According to BBC, Working long hours is linked to an increased risk of stroke.\n",
    "    Long hours were defined in the French study as more than 10 hours on at least 50 days per year.\n",
    "    People who did long hours for more than a decade were at the greatest risk of stroke, they suggest.\n",
    "Source : https://news.gallup.com/poll/122510/self-employed-workers-clock-hours-week.aspx\n",
    "![image.png](attachment:image.png)\n",
    "\n",
    "    Note : Hours by Week.\n",
    "    \n",
    "    Private and Goverment usually works more in between 35-44hours a week which could be calculated as \n",
    "    7-8 hours a day, as for self-employed are more often working above 44hours a week which would be\n",
    "    9 hours above a day. Which explains why there's more self-employed people who's more prone to\n",
    "    Stroke diseases than who work in a company or with government."
   ]
  },
  {
   "cell_type": "markdown",
   "id": "severe-messaging",
   "metadata": {},
   "source": [
    "# Heart Disease towards Stroke"
   ]
  },
  {
   "cell_type": "code",
   "execution_count": 21,
   "id": "technological-fantasy",
   "metadata": {},
   "outputs": [
    {
     "name": "stdout",
     "output_type": "stream",
     "text": [
      "1 : With Heart Disease, 0 : No Heart Disease\n",
      "Stroke Percentage for people that 1 :  17.03\n",
      "Stroke Percentage for people that 0 :  4.18\n"
     ]
    },
    {
     "data": {
      "image/png": "[encoded data removed]",
      "text/plain": [
       "<Figure size 432x288 with 1 Axes>"
      ]
     },
     "metadata": {
      "needs_background": "dark"
     },
     "output_type": "display_data"
    }
   ],
   "source": [
    "sns.countplot(data = eda, x = eda['hd'], hue = eda['stroke'])\n",
    "print('1 : With Heart Disease, 0 : No Heart Disease')\n",
    "for i in eda['hd'].unique():\n",
    "    print(f'Stroke Percentage for people that {i} : ',round(eda[eda['hd'] == i]['stroke'].value_counts()[1]/ len(eda[eda['hd'] == i]['stroke'])*100, 2))"
   ]
  },
  {
   "cell_type": "markdown",
   "id": "textile-secret",
   "metadata": {},
   "source": [
    "    \n",
    "    People with heart disease hugely affects the chances of getting a stroke than people who has no history of having \n",
    "    a heart disease"
   ]
  },
  {
   "cell_type": "markdown",
   "id": "above-binary",
   "metadata": {},
   "source": [
    "# Does marriage affect the chance of getting a stroke?"
   ]
  },
  {
   "cell_type": "code",
   "execution_count": 22,
   "id": "prime-banking",
   "metadata": {},
   "outputs": [
    {
     "name": "stdout",
     "output_type": "stream",
     "text": [
      "Stroke Percentage for people that Yes :  6.56\n",
      "Stroke Percentage for people that No :  1.65\n"
     ]
    },
    {
     "data": {
      "image/png": "[encoded data removed]",
      "text/plain": [
       "<Figure size 432x288 with 1 Axes>"
      ]
     },
     "metadata": {
      "needs_background": "dark"
     },
     "output_type": "display_data"
    }
   ],
   "source": [
    "sns.countplot(data = eda, x = eda['married'], hue = eda['stroke'])\n",
    "for i in eda['married'].unique():\n",
    "    print(f'Stroke Percentage for people that {i} : ',round(eda[eda['married'] == f'{i}']['stroke'].value_counts()[1]/ len(eda[eda['married'] == f'{i}']['stroke'])*100, 2))"
   ]
  },
  {
   "cell_type": "markdown",
   "id": "different-stamp",
   "metadata": {},
   "source": [
    "\n",
    "    According to the data, Yes it does affect more than people who's single. There's no research or articles\n",
    "    yet that explained on how marriage could affect the chance of getting Stroke BUT if we are looking from the side\n",
    "    of happiness, then yes, unhappy marriage does affect the chances of getting a stroke according to verywellhealth.\n",
    "    \n",
    "        \"While divorce affects stroke incidence differently for men than it does women, an unhappy marriage also \n",
    "        affects men and women in different ways. An investigation from The University of Colorado at Boulder reported \n",
    "        that an unhappy marriage, identified as poor marital adjustment, resulted in a higher rate of development \n",
    "        of stroke risk factors for women, but not for men.\"\n",
    "Source : https://www.verywellhealth.com/your-marriage-affects-your-chances-of-having-a-stroke-3145876#:~:text=Stroke%20Risk%20After%20Divorce&text=A%20stroke%20has%20a%20higher,for%20men%20than%20for%20women."
   ]
  },
  {
   "cell_type": "code",
   "execution_count": 20,
   "id": "chronic-canada",
   "metadata": {},
   "outputs": [
    {
     "data": {
      "text/plain": [
       "Female    120\n",
       "Male      100\n",
       "Name: sex, dtype: int64"
      ]
     },
     "execution_count": 20,
     "metadata": {},
     "output_type": "execute_result"
    }
   ],
   "source": [
    "eda[(eda['married'] == 'Yes') & (eda['stroke'] == 1)]['sex'].value_counts()"
   ]
  },
  {
   "cell_type": "markdown",
   "id": "sixth-bowling",
   "metadata": {},
   "source": [
    "    There are more women that got stroke than men is because (not because of hormones) woman are prone to getting a stress and emotional breakdown than men which affect their body especially their heart which of course related to the chance of getting a heart disease."
   ]
  },
  {
   "cell_type": "markdown",
   "id": "micro-watson",
   "metadata": {},
   "source": [
    "# So what? To whom and why should people know about this?\n",
    "\n",
    "    Stroke could cause Death but what's worse than death would be render you almost disable. It will affect someone's\n",
    "    life as whole, not being able to do something or certain activities unlike when they were still healthy. \n",
    "    Of course this depends on what kind of stroke and how bad is it, but still even the lightest level of stroke\n",
    "    will change someone's life completely, like movements and speech.\n",
    "    \n",
    "# Prevention\n",
    "    So to prevent this stroke from happening, according to data, you have a lower chance of getting a Stroke if\n",
    "    you doesn't smoke, try to work less hours for those who's self employed, maintain blood sugar levels and \n",
    "    body mass by eating much more healthy meals and healthy diet, and also having a healthy mindset because getting\n",
    "    stress could affect your heart."
   ]
  }
 ],
 "metadata": {
  "kernelspec": {
   "display_name": "Python 3",
   "language": "python",
   "name": "python3"
  },
  "language_info": {
   "codemirror_mode": {
    "name": "ipython",
    "version": 3
   },
   "file_extension": ".py",
   "mimetype": "text/x-python",
   "name": "python",
   "nbconvert_exporter": "python",
   "pygments_lexer": "ipython3",
   "version": "3.7.9"
  }
 },
 "nbformat": 4,
 "nbformat_minor": 5
}
